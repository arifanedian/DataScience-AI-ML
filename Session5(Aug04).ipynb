{
 "cells": [
  {
   "cell_type": "markdown",
   "id": "db478a0e",
   "metadata": {},
   "source": [
    "# List Comprehension"
   ]
  },
  {
   "cell_type": "code",
   "execution_count": 3,
   "id": "5fd0ba93",
   "metadata": {},
   "outputs": [
    {
     "name": "stdout",
     "output_type": "stream",
     "text": [
      "[1, 4, 27, 16, 125, 36, 343, 64]\n"
     ]
    }
   ],
   "source": [
    "nums = [1,2,3,4,5,6,7,8]\n",
    "square = [num**2 if num%2==0 else num**3 for num in nums]\n",
    "print(square)"
   ]
  },
  {
   "cell_type": "code",
   "execution_count": 9,
   "id": "ead48cc6",
   "metadata": {},
   "outputs": [
    {
     "name": "stdout",
     "output_type": "stream",
     "text": [
      "Enter a number5\n",
      "5 X 1 = 5\n",
      "5 X 2 = 10\n",
      "5 X 3 = 15\n",
      "5 X 4 = 20\n",
      "5 X 5 = 25\n",
      "5 X 6 = 30\n",
      "5 X 7 = 35\n",
      "5 X 8 = 40\n",
      "5 X 9 = 45\n",
      "5 X 10 = 50\n"
     ]
    }
   ],
   "source": [
    "number = int(input(\"Enter a number\"))\n",
    "for num in range(1,11):\n",
    "    print(f\"{number} X {num} = {number*num}\")"
   ]
  },
  {
   "cell_type": "code",
   "execution_count": null,
   "id": "5d22fc97",
   "metadata": {},
   "outputs": [],
   "source": [
    "number = int(input(\"Enter a number\"))\n",
    "for num in range(1,11):\n",
    "    print(f\"{number} X {num} = {number*num}\")"
   ]
  },
  {
   "cell_type": "code",
   "execution_count": 17,
   "id": "fb3f628b",
   "metadata": {},
   "outputs": [
    {
     "name": "stdout",
     "output_type": "stream",
     "text": [
      "Enter range , separated5,9\n",
      "\n",
      "5 X 1 = 5\n",
      "5 X 2 = 10\n",
      "5 X 3 = 15\n",
      "5 X 4 = 20\n",
      "5 X 5 = 25\n",
      "5 X 6 = 30\n",
      "5 X 7 = 35\n",
      "5 X 8 = 40\n",
      "5 X 9 = 45\n",
      "5 X 10 = 50\n",
      "\n",
      "6 X 1 = 6\n",
      "6 X 2 = 12\n",
      "6 X 3 = 18\n",
      "6 X 4 = 24\n",
      "6 X 5 = 30\n",
      "6 X 6 = 36\n",
      "6 X 7 = 42\n",
      "6 X 8 = 48\n",
      "6 X 9 = 54\n",
      "6 X 10 = 60\n",
      "\n",
      "7 X 1 = 7\n",
      "7 X 2 = 14\n",
      "7 X 3 = 21\n",
      "7 X 4 = 28\n",
      "7 X 5 = 35\n",
      "7 X 6 = 42\n",
      "7 X 7 = 49\n",
      "7 X 8 = 56\n",
      "7 X 9 = 63\n",
      "7 X 10 = 70\n",
      "\n",
      "8 X 1 = 8\n",
      "8 X 2 = 16\n",
      "8 X 3 = 24\n",
      "8 X 4 = 32\n",
      "8 X 5 = 40\n",
      "8 X 6 = 48\n",
      "8 X 7 = 56\n",
      "8 X 8 = 64\n",
      "8 X 9 = 72\n",
      "8 X 10 = 80\n"
     ]
    }
   ],
   "source": [
    "input_range_start, input_range_end = input(\"Enter range , separated\").split(',')\n",
    "input_range_start = int(input_range_start)\n",
    "input_range_end = int(input_range_end)\n",
    "for x in range(input_range_start,input_range_end):\n",
    "    print()\n",
    "    for num in range(1,11):\n",
    "        print(f\"{x} X {num} = {x*num}\")"
   ]
  },
  {
   "cell_type": "code",
   "execution_count": 18,
   "id": "52b49420",
   "metadata": {
    "scrolled": true
   },
   "outputs": [
    {
     "name": "stdout",
     "output_type": "stream",
     "text": [
      "Zahid,warrior\n",
      "Zahid,hero\n",
      "Zahid,traveller\n",
      "Kashif,warrior\n",
      "Kashif,hero\n",
      "Kashif,traveller\n",
      "Umer,warrior\n",
      "Umer,hero\n",
      "Umer,traveller\n"
     ]
    }
   ],
   "source": [
    "#nested loop example\n",
    "names = ['Zahid','Kashif','Umer']\n",
    "tags = ['warrior','hero','traveller']\n",
    "for name in names:\n",
    "    for tag in tags:\n",
    "        print(f\"{name},{tag}\")"
   ]
  },
  {
   "cell_type": "code",
   "execution_count": 27,
   "id": "e7d26614",
   "metadata": {},
   "outputs": [
    {
     "name": "stdout",
     "output_type": "stream",
     "text": [
      "enter any string: Arifa Mustafa Dall\n",
      "count of a : 4\n",
      "count of e : 0\n",
      "count of i : 1\n",
      "count of o : 0\n",
      "count of u : 1\n",
      "count of A : 1\n",
      "count of E : 0\n",
      "count of I : 0\n",
      "count of O : 0\n",
      "count of U : 0\n"
     ]
    }
   ],
   "source": [
    "input_string = input(\"enter any string: \")\n",
    "vowels = \"aeiouAEIOU\"\n",
    "output_dict = {}\n",
    "for v in vowels:\n",
    "    print(f\"count of {v} : \",end=\"\")\n",
    "    print(input_string.count(v))  "
   ]
  },
  {
   "cell_type": "code",
   "execution_count": 30,
   "id": "47321b59",
   "metadata": {},
   "outputs": [
    {
     "name": "stdout",
     "output_type": "stream",
     "text": [
      "enter any string: Arifa Mustafa Dall\n",
      "{'a': 4, 'e': 0, 'i': 1, 'o': 0, 'u': 1, 'A': 1, 'E': 0, 'I': 0, 'O': 0, 'U': 0}\n"
     ]
    }
   ],
   "source": [
    "#Storing the output in a dictionary\n",
    "input_string,output_dict = input(\"enter any string: \"),{}\n",
    "vowels = \"aeiouAEIOU\"\n",
    "for v in vowels: output_dict.update({v:input_string.count(v)})\n",
    "print(output_dict)"
   ]
  },
  {
   "cell_type": "code",
   "execution_count": 32,
   "id": "af10f187",
   "metadata": {},
   "outputs": [
    {
     "name": "stdout",
     "output_type": "stream",
     "text": [
      "enter any string: Ajaksdjflas dkljfaj skldfa sdjflka sjfd a\n"
     ]
    },
    {
     "data": {
      "text/plain": [
       "{'a': 6,\n",
       " 'e': 0,\n",
       " 'i': 0,\n",
       " 'o': 0,\n",
       " 'u': 0,\n",
       " 'A': 1,\n",
       " 'E': 0,\n",
       " 'I': 0,\n",
       " 'O': 0,\n",
       " 'U': 0}"
      ]
     },
     "execution_count": 32,
     "metadata": {},
     "output_type": "execute_result"
    }
   ],
   "source": [
    "#Storing the output in a dictionary\n",
    "input_string,output_dict = input(\"enter any string: \"),{}\n",
    "vowels = \"aeiouAEIOU\"\n",
    "for v in vowels: \n",
    "    output_dict[v] = input_string.count(v)\n",
    "output_dict"
   ]
  },
  {
   "cell_type": "code",
   "execution_count": 33,
   "id": "5e55b42a",
   "metadata": {},
   "outputs": [
    {
     "name": "stdout",
     "output_type": "stream",
     "text": [
      "<built-in method values of dict object at 0x0000022745E89D40>\n"
     ]
    }
   ],
   "source": [
    "print(output_dict.values)"
   ]
  },
  {
   "cell_type": "code",
   "execution_count": 41,
   "id": "9841cfc4",
   "metadata": {},
   "outputs": [
    {
     "ename": "ValueError",
     "evalue": "not enough values to unpack (expected 2, got 1)",
     "output_type": "error",
     "traceback": [
      "\u001b[1;31m---------------------------------------------------------------------------\u001b[0m",
      "\u001b[1;31mValueError\u001b[0m                                Traceback (most recent call last)",
      "Cell \u001b[1;32mIn[41], line 1\u001b[0m\n\u001b[1;32m----> 1\u001b[0m \u001b[38;5;28;01mfor\u001b[39;00m x,y \u001b[38;5;129;01min\u001b[39;00m output_dict:\n\u001b[0;32m      2\u001b[0m     \u001b[38;5;28mprint\u001b[39m(\u001b[38;5;124mf\u001b[39m\u001b[38;5;124m\"\u001b[39m\u001b[38;5;132;01m{\u001b[39;00mx\u001b[38;5;132;01m}\u001b[39;00m\u001b[38;5;132;01m{\u001b[39;00my\u001b[38;5;132;01m}\u001b[39;00m\u001b[38;5;124m\"\u001b[39m)\n",
      "\u001b[1;31mValueError\u001b[0m: not enough values to unpack (expected 2, got 1)"
     ]
    }
   ],
   "source": []
  },
  {
   "cell_type": "code",
   "execution_count": 55,
   "id": "2801e5ea",
   "metadata": {},
   "outputs": [
    {
     "name": "stdout",
     "output_type": "stream",
     "text": [
      "[('a', 6), ('e', 0), ('i', 0), ('o', 0), ('u', 0), ('A', 1), ('E', 0), ('I', 0), ('O', 0), ('U', 0)]\n",
      "0 : u\n"
     ]
    }
   ],
   "source": [
    "#count,key = max(zip(output_dict.values(), output_dict.keys()))\n",
    "count,key = max(zip(output_dict.keys(),output_dict.values()))\n",
    "print(list(zip(output_dict.keys(), output_dict.values())))\n",
    "print(f\"{key} : {count}\")"
   ]
  },
  {
   "cell_type": "code",
   "execution_count": 52,
   "id": "ead02365",
   "metadata": {},
   "outputs": [
    {
     "name": "stdout",
     "output_type": "stream",
     "text": [
      "<zip object at 0x0000022745CD9480>\n"
     ]
    }
   ],
   "source": [
    "list1 = [1,2,3,4,5]\n",
    "list2 = [3,4,5,4,3]\n",
    "print(zip(list1,list2))"
   ]
  },
  {
   "cell_type": "code",
   "execution_count": 50,
   "id": "1b9f8fb8",
   "metadata": {},
   "outputs": [
    {
     "data": {
      "text/plain": [
       "[(1, 3), (2, 4), (3, 5), (4, 4), (5, 3)]"
      ]
     },
     "execution_count": 50,
     "metadata": {},
     "output_type": "execute_result"
    }
   ],
   "source": [
    "list(zip(list1,list2))"
   ]
  },
  {
   "cell_type": "code",
   "execution_count": 57,
   "id": "78337028",
   "metadata": {},
   "outputs": [
    {
     "name": "stdout",
     "output_type": "stream",
     "text": [
      "[(6, 'a'), (0, 'e'), (0, 'i'), (0, 'o'), (0, 'u'), (1, 'A'), (0, 'E'), (0, 'I'), (0, 'O'), (0, 'U')]\n",
      "a : 6\n"
     ]
    }
   ],
   "source": [
    "count,key = max(zip(output_dict.values(), output_dict.keys()))\n",
    "print(list(zip(output_dict.values(), output_dict.keys())))\n",
    "print(f\"{key} : {count}\")"
   ]
  },
  {
   "cell_type": "code",
   "execution_count": 63,
   "id": "33c9d1ed",
   "metadata": {},
   "outputs": [
    {
     "ename": "SyntaxError",
     "evalue": "invalid syntax. Maybe you meant '==' or ':=' instead of '='? (1867669543.py, line 2)",
     "output_type": "error",
     "traceback": [
      "\u001b[1;36m  Cell \u001b[1;32mIn[63], line 2\u001b[1;36m\u001b[0m\n\u001b[1;33m    while((guest = input(\"Enter guest name\")) != 'q'):\u001b[0m\n\u001b[1;37m           ^\u001b[0m\n\u001b[1;31mSyntaxError\u001b[0m\u001b[1;31m:\u001b[0m invalid syntax. Maybe you meant '==' or ':=' instead of '='?\n"
     ]
    }
   ],
   "source": [
    "guestlist = []\n",
    "while((guest = input(\"Enter guest name\")) != 'q'):\n",
    "    print(guest)"
   ]
  },
  {
   "cell_type": "code",
   "execution_count": 73,
   "id": "ec3b61d5",
   "metadata": {},
   "outputs": [
    {
     "name": "stdout",
     "output_type": "stream",
     "text": [
      "Enter item, 'q to quit'pentene\n",
      "Enter item, 'q to quit'abc\n",
      "Item not in shop\n",
      "Want to buy another?y/n\n",
      "y\n",
      "Enter item, 'q to quit'iuery\n",
      "Item not in shop\n",
      "Want to buy another?y/n\n",
      "y\n",
      "Enter item, 'q to quit'lux\n",
      "Enter item, 'q to quit'q\n",
      "_______________________\n",
      "Your order : \n",
      "pentene\n",
      "lux\n",
      "These items are not in stock: abc\n",
      "These items are not in stock: iuery\n"
     ]
    }
   ],
   "source": [
    "items,order,not_in_stock = ['lux','maggie','pentene'],[],[]\n",
    "while True:\n",
    "    item = input(\"Enter item, 'q to quit'\").lower();\n",
    "    if(item == 'q'): break\n",
    "    if item in items:\n",
    "        order.append(item)\n",
    "        continue\n",
    "    else:\n",
    "        not_in_stock.append(item)\n",
    "        print(\"Item not in shop\\nWant to buy another?y/n\")\n",
    "        if(input() == 'y'):continue\n",
    "        else:break\n",
    "print(\"_______________________\")\n",
    "print(\"Your order : \")\n",
    "for o in order:\n",
    "    print(o)\n",
    "for n in not_in_stock:\n",
    "    print(f\"These items are not in stock: {n}\")"
   ]
  },
  {
   "cell_type": "code",
   "execution_count": 77,
   "id": "5c7b121a",
   "metadata": {},
   "outputs": [
    {
     "name": "stdout",
     "output_type": "stream",
     "text": [
      "Enter item: lux\n",
      "Enter item: pentene\n",
      "Enter item: mouse\n",
      "Cannot exceed 1000\n"
     ]
    }
   ],
   "source": [
    "store,pricetotal = {\"lux\":300,\"pentene\":500,\"mouse\":700},0\n",
    "while True:\n",
    "    pricetotal += store[input(\"Enter item: \")]\n",
    "    if pricetotal > 1000:\n",
    "        print(\"Cannot exceed 1000\")\n",
    "        break;"
   ]
  },
  {
   "cell_type": "code",
   "execution_count": null,
   "id": "3d0a9c4c",
   "metadata": {},
   "outputs": [],
   "source": []
  }
 ],
 "metadata": {
  "kernelspec": {
   "display_name": "Python 3 (ipykernel)",
   "language": "python",
   "name": "python3"
  },
  "language_info": {
   "codemirror_mode": {
    "name": "ipython",
    "version": 3
   },
   "file_extension": ".py",
   "mimetype": "text/x-python",
   "name": "python",
   "nbconvert_exporter": "python",
   "pygments_lexer": "ipython3",
   "version": "3.11.3"
  }
 },
 "nbformat": 4,
 "nbformat_minor": 5
}

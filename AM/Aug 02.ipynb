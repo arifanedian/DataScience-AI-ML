{
 "cells": [
  {
   "cell_type": "markdown",
   "id": "142c2a2f",
   "metadata": {},
   "source": [
    "# Dictionary in Python"
   ]
  },
  {
   "cell_type": "code",
   "execution_count": 24,
   "id": "3866d869",
   "metadata": {},
   "outputs": [
    {
     "name": "stdout",
     "output_type": "stream",
     "text": [
      "<class 'dict'>\n"
     ]
    }
   ],
   "source": [
    "record1 = {\n",
    "    \"name\" : \"Arifa\",\n",
    "    \"degree\" : \"MS(CSIT)\",\n",
    "    \"University\" : \"Dha Suffa University\"\n",
    "}\n",
    "print(type(record1))"
   ]
  },
  {
   "cell_type": "code",
   "execution_count": 6,
   "id": "84f4f225",
   "metadata": {},
   "outputs": [
    {
     "name": "stdout",
     "output_type": "stream",
     "text": [
      "3\n"
     ]
    }
   ],
   "source": [
    "print(len(record1))"
   ]
  },
  {
   "cell_type": "code",
   "execution_count": 9,
   "id": "33288b3d",
   "metadata": {},
   "outputs": [
    {
     "name": "stdout",
     "output_type": "stream",
     "text": [
      "Arifa\n"
     ]
    }
   ],
   "source": [
    "#retrieval of values \n",
    "# String, lists, tuple, set and dictionary retrievals are done using [] brackets \n",
    "print(record1['name'])"
   ]
  },
  {
   "cell_type": "code",
   "execution_count": 11,
   "id": "f1722d32",
   "metadata": {},
   "outputs": [],
   "source": [
    "#Update\n",
    "record1.update({\"passingyear\":2014})"
   ]
  },
  {
   "cell_type": "code",
   "execution_count": 12,
   "id": "e91139da",
   "metadata": {},
   "outputs": [
    {
     "name": "stdout",
     "output_type": "stream",
     "text": [
      "{'name': 'Arifa', 'degree': 'MS(CSIT)', 'University': 'Dha Suffa University', 'passingyear': 2014}\n"
     ]
    }
   ],
   "source": [
    "print(record1)"
   ]
  },
  {
   "cell_type": "code",
   "execution_count": 13,
   "id": "23dd79b0",
   "metadata": {},
   "outputs": [],
   "source": [
    "#delete \n",
    "#there are 3 ways del, pop , popitem\n",
    "\n",
    "#make copy of the dictionary \n",
    "record1_cpy = record1z"
   ]
  },
  {
   "cell_type": "code",
   "execution_count": 16,
   "id": "f0773e81",
   "metadata": {},
   "outputs": [
    {
     "name": "stdout",
     "output_type": "stream",
     "text": [
      "{'degree': 'MS(CSIT)', 'University': 'Dha Suffa University', 'passingyear': 2014}\n"
     ]
    }
   ],
   "source": [
    "print(record1_cpy)"
   ]
  },
  {
   "cell_type": "code",
   "execution_count": 15,
   "id": "10368049",
   "metadata": {},
   "outputs": [],
   "source": [
    "del record1_cpy['name']"
   ]
  },
  {
   "cell_type": "code",
   "execution_count": 17,
   "id": "4f2e169d",
   "metadata": {},
   "outputs": [
    {
     "data": {
      "text/plain": [
       "{'University': 'Dha Suffa University', 'passingyear': 2014}"
      ]
     },
     "execution_count": 17,
     "metadata": {},
     "output_type": "execute_result"
    }
   ],
   "source": [
    "record1.pop('degree')\n",
    "record1"
   ]
  },
  {
   "cell_type": "code",
   "execution_count": 25,
   "id": "ec097823",
   "metadata": {},
   "outputs": [
    {
     "ename": "KeyError",
     "evalue": "'popitem(): dictionary is empty'",
     "output_type": "error",
     "traceback": [
      "\u001b[1;31m---------------------------------------------------------------------------\u001b[0m",
      "\u001b[1;31mKeyError\u001b[0m                                  Traceback (most recent call last)",
      "Cell \u001b[1;32mIn[25], line 1\u001b[0m\n\u001b[1;32m----> 1\u001b[0m \u001b[38;5;28mprint\u001b[39m(record1_cpy\u001b[38;5;241m.\u001b[39mpopitem())\n\u001b[0;32m      2\u001b[0m \u001b[38;5;28mtype\u001b[39m(record1_cpy\u001b[38;5;241m.\u001b[39mpopitem())\n",
      "\u001b[1;31mKeyError\u001b[0m: 'popitem(): dictionary is empty'"
     ]
    }
   ],
   "source": [
    "print(record1_cpy.popitem())\n",
    "type(record1_cpy.popitem())"
   ]
  },
  {
   "cell_type": "code",
   "execution_count": 22,
   "id": "3ada98e3",
   "metadata": {},
   "outputs": [
    {
     "ename": "KeyError",
     "evalue": "'University'",
     "output_type": "error",
     "traceback": [
      "\u001b[1;31m---------------------------------------------------------------------------\u001b[0m",
      "\u001b[1;31mKeyError\u001b[0m                                  Traceback (most recent call last)",
      "Cell \u001b[1;32mIn[22], line 1\u001b[0m\n\u001b[1;32m----> 1\u001b[0m \u001b[38;5;28mprint\u001b[39m(record1_cpy\u001b[38;5;241m.\u001b[39mpop(\u001b[38;5;124m\"\u001b[39m\u001b[38;5;124mUniversity\u001b[39m\u001b[38;5;124m\"\u001b[39m))\n\u001b[0;32m      2\u001b[0m \u001b[38;5;28mtype\u001b[39m(record1_cpy\u001b[38;5;241m.\u001b[39mpop(\u001b[38;5;124m\"\u001b[39m\u001b[38;5;124mUniversity\u001b[39m\u001b[38;5;124m\"\u001b[39m))\n",
      "\u001b[1;31mKeyError\u001b[0m: 'University'"
     ]
    }
   ],
   "source": [
    "print(record1_cpy.pop(\"University\"))\n",
    "type(record1_cpy.pop(\"University\"))"
   ]
  },
  {
   "cell_type": "code",
   "execution_count": 28,
   "id": "bc23ba20",
   "metadata": {},
   "outputs": [
    {
     "name": "stdout",
     "output_type": "stream",
     "text": [
      "{1: 'Ahmed', 2: 'Arifa', 3: 'Zahid', 4: 'Salma', 5: 'Sajida'}\n"
     ]
    }
   ],
   "source": [
    "sheet = { 1 : \"Ahmed\" , 2:\"Arifa\", 3:\"Zahid\" , 4:\"Salma\" , 5:\"Sajida\"}\n",
    "print(sheet)"
   ]
  },
  {
   "cell_type": "code",
   "execution_count": 38,
   "id": "f2217982",
   "metadata": {},
   "outputs": [
    {
     "name": "stdout",
     "output_type": "stream",
     "text": [
      "1 Ahmed\n",
      "2 Arifa\n",
      "3 Zahid\n",
      "4 Salma\n",
      "5 Sajida\n"
     ]
    }
   ],
   "source": [
    "#import pandas as pd\n",
    "#pd.DataFrame(sheet)\n",
    "for x in sheet:\n",
    "    print(x, sheet[x])"
   ]
  },
  {
   "cell_type": "code",
   "execution_count": 39,
   "id": "c1c93ba0",
   "metadata": {},
   "outputs": [
    {
     "data": {
      "text/html": [
       "<div>\n",
       "<style scoped>\n",
       "    .dataframe tbody tr th:only-of-type {\n",
       "        vertical-align: middle;\n",
       "    }\n",
       "\n",
       "    .dataframe tbody tr th {\n",
       "        vertical-align: top;\n",
       "    }\n",
       "\n",
       "    .dataframe thead th {\n",
       "        text-align: right;\n",
       "    }\n",
       "</style>\n",
       "<table border=\"1\" class=\"dataframe\">\n",
       "  <thead>\n",
       "    <tr style=\"text-align: right;\">\n",
       "      <th></th>\n",
       "      <th>items</th>\n",
       "      <th>price</th>\n",
       "    </tr>\n",
       "  </thead>\n",
       "  <tbody>\n",
       "    <tr>\n",
       "      <th>0</th>\n",
       "      <td>Laptops</td>\n",
       "      <td>500000</td>\n",
       "    </tr>\n",
       "    <tr>\n",
       "      <th>1</th>\n",
       "      <td>glint</td>\n",
       "      <td>500</td>\n",
       "    </tr>\n",
       "    <tr>\n",
       "      <th>2</th>\n",
       "      <td>Vim</td>\n",
       "      <td>200</td>\n",
       "    </tr>\n",
       "    <tr>\n",
       "      <th>3</th>\n",
       "      <td>air freshner</td>\n",
       "      <td>280</td>\n",
       "    </tr>\n",
       "  </tbody>\n",
       "</table>\n",
       "</div>"
      ],
      "text/plain": [
       "          items   price\n",
       "0       Laptops  500000\n",
       "1         glint     500\n",
       "2           Vim     200\n",
       "3  air freshner     280"
      ]
     },
     "execution_count": 39,
     "metadata": {},
     "output_type": "execute_result"
    }
   ],
   "source": [
    "#dictionary with list as value\n",
    "sales = {\n",
    "    'items' : [\"Laptops\", \"glint\", \"Vim\", \"air freshner\"],\n",
    "    'price' : [500000,500,200,280]\n",
    "}\n",
    "import pandas as pd\n",
    "pd.DataFrame(sales)\n"
   ]
  },
  {
   "cell_type": "code",
   "execution_count": 40,
   "id": "c7a3a3f9",
   "metadata": {},
   "outputs": [
    {
     "data": {
      "text/plain": [
       "{1: 'Ahmed', 2: 'Arifa', 3: 'Zahid', 4: 'Salma', 5: 'Sajida'}"
      ]
     },
     "execution_count": 40,
     "metadata": {},
     "output_type": "execute_result"
    }
   ],
   "source": [
    "sheet"
   ]
  },
  {
   "cell_type": "code",
   "execution_count": 44,
   "id": "1677b8cd",
   "metadata": {},
   "outputs": [
    {
     "data": {
      "text/plain": [
       "dict_items([(1, 'Ahmed'), (2, 'Arifa'), (3, 'Zahid'), (4, 'Salma'), (5, 'Sajida')])"
      ]
     },
     "execution_count": 44,
     "metadata": {},
     "output_type": "execute_result"
    }
   ],
   "source": [
    "sheet.items()"
   ]
  },
  {
   "cell_type": "code",
   "execution_count": 42,
   "id": "f282bfa8",
   "metadata": {},
   "outputs": [
    {
     "data": {
      "text/plain": [
       "dict_values(['Ahmed', 'Arifa', 'Zahid', 'Salma', 'Sajida'])"
      ]
     },
     "execution_count": 42,
     "metadata": {},
     "output_type": "execute_result"
    }
   ],
   "source": [
    "sheet.values()"
   ]
  },
  {
   "cell_type": "code",
   "execution_count": 46,
   "id": "d3eceb75",
   "metadata": {},
   "outputs": [],
   "source": [
    "newsheet = {'a':\"Aaa\" , \"b\":\"Bbb\"}"
   ]
  },
  {
   "cell_type": "code",
   "execution_count": 47,
   "id": "fc936235",
   "metadata": {},
   "outputs": [
    {
     "ename": "TypeError",
     "evalue": "unsupported operand type(s) for +: 'dict' and 'dict'",
     "output_type": "error",
     "traceback": [
      "\u001b[1;31m---------------------------------------------------------------------------\u001b[0m",
      "\u001b[1;31mTypeError\u001b[0m                                 Traceback (most recent call last)",
      "Cell \u001b[1;32mIn[47], line 1\u001b[0m\n\u001b[1;32m----> 1\u001b[0m sheet \u001b[38;5;241m+\u001b[39m newsheet\n",
      "\u001b[1;31mTypeError\u001b[0m: unsupported operand type(s) for +: 'dict' and 'dict'"
     ]
    }
   ],
   "source": [
    "sheet + newsheet"
   ]
  },
  {
   "cell_type": "code",
   "execution_count": 48,
   "id": "2ee587d4",
   "metadata": {},
   "outputs": [
    {
     "data": {
      "text/plain": [
       "{'a': None, 'b': None}"
      ]
     },
     "execution_count": 48,
     "metadata": {},
     "output_type": "execute_result"
    }
   ],
   "source": [
    "sheet.fromkeys(newsheet)"
   ]
  },
  {
   "cell_type": "code",
   "execution_count": 49,
   "id": "bd7121ff",
   "metadata": {},
   "outputs": [
    {
     "data": {
      "text/plain": [
       "{1: 'Ahmed', 2: 'Arifa', 3: 'Zahid', 4: 'Salma', 5: 'Sajida'}"
      ]
     },
     "execution_count": 49,
     "metadata": {},
     "output_type": "execute_result"
    }
   ],
   "source": [
    "sheet"
   ]
  },
  {
   "cell_type": "code",
   "execution_count": 51,
   "id": "57ee3b33",
   "metadata": {},
   "outputs": [],
   "source": [
    "sheet = sheet.fromkeys(newsheet)"
   ]
  },
  {
   "cell_type": "code",
   "execution_count": 52,
   "id": "5d82177a",
   "metadata": {},
   "outputs": [
    {
     "data": {
      "text/plain": [
       "{'a': None, 'b': None}"
      ]
     },
     "execution_count": 52,
     "metadata": {},
     "output_type": "execute_result"
    }
   ],
   "source": [
    "sheet"
   ]
  },
  {
   "cell_type": "code",
   "execution_count": 53,
   "id": "224ac715",
   "metadata": {},
   "outputs": [
    {
     "data": {
      "text/plain": [
       "{'a': None, 'b': None}"
      ]
     },
     "execution_count": 53,
     "metadata": {},
     "output_type": "execute_result"
    }
   ],
   "source": [
    "sheet"
   ]
  },
  {
   "cell_type": "code",
   "execution_count": 54,
   "id": "d8751014",
   "metadata": {},
   "outputs": [
    {
     "data": {
      "text/plain": [
       "{'Arifa': 'Gettogether at 1 PM tomorrow',\n",
       " 'Zahid': 'Gettogether at 1 PM tomorrow',\n",
       " 'Sajida': 'Gettogether at 1 PM tomorrow',\n",
       " 'Fatima': 'Gettogether at 1 PM tomorrow'}"
      ]
     },
     "execution_count": 54,
     "metadata": {},
     "output_type": "execute_result"
    }
   ],
   "source": [
    "#fromkeys method broadcast a single value for all iterable items\n",
    "contacts = \"Arifa\", \"Zahid\",\"Sajida\",\"Fatima\"\n",
    "notify = \"Gettogether at 1 PM tomorrow\"\n",
    "\n",
    "newbroadcast = dict.fromkeys(contacts,notify)\n",
    "newbroadcast"
   ]
  },
  {
   "cell_type": "code",
   "execution_count": 57,
   "id": "8d9fb7df",
   "metadata": {},
   "outputs": [],
   "source": [
    "del dict"
   ]
  },
  {
   "cell_type": "code",
   "execution_count": 58,
   "id": "9c0f8258",
   "metadata": {},
   "outputs": [
    {
     "data": {
      "text/plain": [
       "{3: 4}"
      ]
     },
     "execution_count": 58,
     "metadata": {},
     "output_type": "execute_result"
    }
   ],
   "source": [
    "listn = dict([(3,4)])\n",
    "listn\n"
   ]
  },
  {
   "cell_type": "code",
   "execution_count": 61,
   "id": "47eb2ed4",
   "metadata": {},
   "outputs": [],
   "source": [
    "d = dict({(4,5)})"
   ]
  },
  {
   "cell_type": "code",
   "execution_count": 63,
   "id": "1c868150",
   "metadata": {},
   "outputs": [
    {
     "data": {
      "text/plain": [
       "dict"
      ]
     },
     "execution_count": 63,
     "metadata": {},
     "output_type": "execute_result"
    }
   ],
   "source": [
    "type(d)"
   ]
  },
  {
   "cell_type": "code",
   "execution_count": 64,
   "id": "8a5a52c1",
   "metadata": {},
   "outputs": [],
   "source": [
    "a = {len:\"a\"}"
   ]
  },
  {
   "cell_type": "code",
   "execution_count": 65,
   "id": "56d128ca",
   "metadata": {},
   "outputs": [
    {
     "data": {
      "text/plain": [
       "{<function len(obj, /)>: 'a'}"
      ]
     },
     "execution_count": 65,
     "metadata": {},
     "output_type": "execute_result"
    }
   ],
   "source": [
    "a"
   ]
  },
  {
   "cell_type": "code",
   "execution_count": 66,
   "id": "f7fb4ac9",
   "metadata": {},
   "outputs": [],
   "source": [
    "a = {(3+2j):\"A\"}"
   ]
  },
  {
   "cell_type": "code",
   "execution_count": 67,
   "id": "7f282add",
   "metadata": {},
   "outputs": [
    {
     "data": {
      "text/plain": [
       "{(3+2j): 'A'}"
      ]
     },
     "execution_count": 67,
     "metadata": {},
     "output_type": "execute_result"
    }
   ],
   "source": [
    "a"
   ]
  },
  {
   "cell_type": "code",
   "execution_count": 68,
   "id": "7bf5803d",
   "metadata": {},
   "outputs": [
    {
     "ename": "TypeError",
     "evalue": "unhashable type: 'dict'",
     "output_type": "error",
     "traceback": [
      "\u001b[1;31m---------------------------------------------------------------------------\u001b[0m",
      "\u001b[1;31mTypeError\u001b[0m                                 Traceback (most recent call last)",
      "Cell \u001b[1;32mIn[68], line 1\u001b[0m\n\u001b[1;32m----> 1\u001b[0m a \u001b[38;5;241m=\u001b[39m {sheet:\u001b[38;5;124m\"\u001b[39m\u001b[38;5;124mA\u001b[39m\u001b[38;5;124m\"\u001b[39m}\n",
      "\u001b[1;31mTypeError\u001b[0m: unhashable type: 'dict'"
     ]
    }
   ],
   "source": [
    "a = {sheet:\"A\"}"
   ]
  },
  {
   "cell_type": "code",
   "execution_count": 71,
   "id": "53eeaa02",
   "metadata": {},
   "outputs": [],
   "source": [
    "a = {(1,2),\"A\"}"
   ]
  },
  {
   "cell_type": "code",
   "execution_count": 72,
   "id": "97f9b510",
   "metadata": {},
   "outputs": [
    {
     "data": {
      "text/plain": [
       "{(1, 2), 'A'}"
      ]
     },
     "execution_count": 72,
     "metadata": {},
     "output_type": "execute_result"
    }
   ],
   "source": [
    "a"
   ]
  },
  {
   "cell_type": "code",
   "execution_count": 73,
   "id": "44c1d0b8",
   "metadata": {},
   "outputs": [],
   "source": [
    "bset = {}"
   ]
  },
  {
   "cell_type": "code",
   "execution_count": 74,
   "id": "12dacb07",
   "metadata": {},
   "outputs": [
    {
     "data": {
      "text/plain": [
       "dict"
      ]
     },
     "execution_count": 74,
     "metadata": {},
     "output_type": "execute_result"
    }
   ],
   "source": [
    "type(bset)"
   ]
  },
  {
   "cell_type": "code",
   "execution_count": 75,
   "id": "75ae5253",
   "metadata": {},
   "outputs": [],
   "source": [
    "cset = {1}"
   ]
  },
  {
   "cell_type": "code",
   "execution_count": 76,
   "id": "258a43ec",
   "metadata": {},
   "outputs": [
    {
     "data": {
      "text/plain": [
       "set"
      ]
     },
     "execution_count": 76,
     "metadata": {},
     "output_type": "execute_result"
    }
   ],
   "source": [
    "type(cset)"
   ]
  },
  {
   "cell_type": "code",
   "execution_count": 81,
   "id": "37992f8f",
   "metadata": {},
   "outputs": [
    {
     "ename": "KeyError",
     "evalue": "10",
     "output_type": "error",
     "traceback": [
      "\u001b[1;31m---------------------------------------------------------------------------\u001b[0m",
      "\u001b[1;31mKeyError\u001b[0m                                  Traceback (most recent call last)",
      "Cell \u001b[1;32mIn[81], line 2\u001b[0m\n\u001b[0;32m      1\u001b[0m aset \u001b[38;5;241m=\u001b[39m {\u001b[38;5;241m4\u001b[39m,\u001b[38;5;241m5\u001b[39m,\u001b[38;5;241m7\u001b[39m,\u001b[38;5;241m8\u001b[39m,\u001b[38;5;241m6\u001b[39m,\u001b[38;5;241m5\u001b[39m}\n\u001b[1;32m----> 2\u001b[0m aset\u001b[38;5;241m.\u001b[39mremove(\u001b[38;5;241m10\u001b[39m)\n",
      "\u001b[1;31mKeyError\u001b[0m: 10"
     ]
    }
   ],
   "source": [
    "aset = {4,5,7,8,6,5}\n",
    "aset.remove(10)"
   ]
  },
  {
   "cell_type": "code",
   "execution_count": 79,
   "id": "8dd42e91",
   "metadata": {},
   "outputs": [
    {
     "data": {
      "text/plain": [
       "{5, 6, 7, 8}"
      ]
     },
     "execution_count": 79,
     "metadata": {},
     "output_type": "execute_result"
    }
   ],
   "source": [
    "aset\n"
   ]
  },
  {
   "cell_type": "code",
   "execution_count": 80,
   "id": "22a3818c",
   "metadata": {},
   "outputs": [],
   "source": [
    "aset.discard(6)"
   ]
  },
  {
   "cell_type": "code",
   "execution_count": 83,
   "id": "62be6fef",
   "metadata": {},
   "outputs": [],
   "source": [
    "aset.add(88)"
   ]
  },
  {
   "cell_type": "code",
   "execution_count": 87,
   "id": "b08cd5a6",
   "metadata": {},
   "outputs": [
    {
     "data": {
      "text/plain": [
       "{4, 5, 6, 7, 8, 88}"
      ]
     },
     "execution_count": 87,
     "metadata": {},
     "output_type": "execute_result"
    }
   ],
   "source": [
    "bset = aset.copy()\n",
    "bset"
   ]
  },
  {
   "cell_type": "code",
   "execution_count": 88,
   "id": "8d57c3a9",
   "metadata": {},
   "outputs": [
    {
     "data": {
      "text/plain": [
       "{4, 5, 6, 7, 8, 88}"
      ]
     },
     "execution_count": 88,
     "metadata": {},
     "output_type": "execute_result"
    }
   ],
   "source": [
    "bset"
   ]
  },
  {
   "cell_type": "code",
   "execution_count": 89,
   "id": "3c37fd87",
   "metadata": {},
   "outputs": [
    {
     "name": "stdout",
     "output_type": "stream",
     "text": [
      "{4, 5, 6, 7, 8, 88}\n"
     ]
    }
   ],
   "source": [
    "print(bset)"
   ]
  },
  {
   "cell_type": "code",
   "execution_count": 90,
   "id": "a34f15fa",
   "metadata": {},
   "outputs": [
    {
     "data": {
      "text/plain": [
       "False"
      ]
     },
     "execution_count": 90,
     "metadata": {},
     "output_type": "execute_result"
    }
   ],
   "source": [
    "bset.isdisjoint(aset)"
   ]
  },
  {
   "cell_type": "code",
   "execution_count": 91,
   "id": "6786dbf5",
   "metadata": {},
   "outputs": [
    {
     "data": {
      "text/plain": [
       "{4, 5, 6, 7, 8, 88}"
      ]
     },
     "execution_count": 91,
     "metadata": {},
     "output_type": "execute_result"
    }
   ],
   "source": [
    "aset"
   ]
  },
  {
   "cell_type": "code",
   "execution_count": 92,
   "id": "330fc3d0",
   "metadata": {},
   "outputs": [
    {
     "data": {
      "text/plain": [
       "{4, 5, 6, 7, 8, 88}"
      ]
     },
     "execution_count": 92,
     "metadata": {},
     "output_type": "execute_result"
    }
   ],
   "source": [
    "bset"
   ]
  },
  {
   "cell_type": "code",
   "execution_count": null,
   "id": "8a64cc07",
   "metadata": {},
   "outputs": [],
   "source": []
  }
 ],
 "metadata": {
  "kernelspec": {
   "display_name": "Python 3 (ipykernel)",
   "language": "python",
   "name": "python3"
  },
  "language_info": {
   "codemirror_mode": {
    "name": "ipython",
    "version": 3
   },
   "file_extension": ".py",
   "mimetype": "text/x-python",
   "name": "python",
   "nbconvert_exporter": "python",
   "pygments_lexer": "ipython3",
   "version": "3.11.3"
  }
 },
 "nbformat": 4,
 "nbformat_minor": 5
}

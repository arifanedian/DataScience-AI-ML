{
 "cells": [
  {
   "cell_type": "markdown",
   "id": "68c59cfa",
   "metadata": {},
   "source": [
    "# Operator Overloading"
   ]
  },
  {
   "cell_type": "code",
   "execution_count": 1,
   "id": "6c441463",
   "metadata": {},
   "outputs": [],
   "source": [
    "class Student:\n",
    "    def __init__(self,m1,m2):\n",
    "        self.m1 = m1\n",
    "        self.m2 = m2\n",
    "    \n",
    "    def __add__(s1,s2):\n",
    "        m1 = s1.m1 + s2.m1\n",
    "        m2 = s1.m2 + s2.m2\n",
    "        return Student(m1,m2)\n",
    "    "
   ]
  },
  {
   "cell_type": "code",
   "execution_count": 4,
   "id": "092bca87",
   "metadata": {},
   "outputs": [
    {
     "name": "stdout",
     "output_type": "stream",
     "text": [
      "14\n",
      "25\n"
     ]
    }
   ],
   "source": [
    "s1 = Student(4,5)\n",
    "s2 = Student(10,20)\n",
    "s3 = s1+s2\n",
    "print(s3.m1)\n",
    "print(s3.m2)"
   ]
  },
  {
   "cell_type": "code",
   "execution_count": 5,
   "id": "9ed6e285",
   "metadata": {},
   "outputs": [
    {
     "data": {
      "text/plain": [
       "['__abs__',\n",
       " '__add__',\n",
       " '__and__',\n",
       " '__bool__',\n",
       " '__ceil__',\n",
       " '__class__',\n",
       " '__delattr__',\n",
       " '__dir__',\n",
       " '__divmod__',\n",
       " '__doc__',\n",
       " '__eq__',\n",
       " '__float__',\n",
       " '__floor__',\n",
       " '__floordiv__',\n",
       " '__format__',\n",
       " '__ge__',\n",
       " '__getattribute__',\n",
       " '__getnewargs__',\n",
       " '__getstate__',\n",
       " '__gt__',\n",
       " '__hash__',\n",
       " '__index__',\n",
       " '__init__',\n",
       " '__init_subclass__',\n",
       " '__int__',\n",
       " '__invert__',\n",
       " '__le__',\n",
       " '__lshift__',\n",
       " '__lt__',\n",
       " '__mod__',\n",
       " '__mul__',\n",
       " '__ne__',\n",
       " '__neg__',\n",
       " '__new__',\n",
       " '__or__',\n",
       " '__pos__',\n",
       " '__pow__',\n",
       " '__radd__',\n",
       " '__rand__',\n",
       " '__rdivmod__',\n",
       " '__reduce__',\n",
       " '__reduce_ex__',\n",
       " '__repr__',\n",
       " '__rfloordiv__',\n",
       " '__rlshift__',\n",
       " '__rmod__',\n",
       " '__rmul__',\n",
       " '__ror__',\n",
       " '__round__',\n",
       " '__rpow__',\n",
       " '__rrshift__',\n",
       " '__rshift__',\n",
       " '__rsub__',\n",
       " '__rtruediv__',\n",
       " '__rxor__',\n",
       " '__setattr__',\n",
       " '__sizeof__',\n",
       " '__str__',\n",
       " '__sub__',\n",
       " '__subclasshook__',\n",
       " '__truediv__',\n",
       " '__trunc__',\n",
       " '__xor__',\n",
       " 'as_integer_ratio',\n",
       " 'bit_count',\n",
       " 'bit_length',\n",
       " 'conjugate',\n",
       " 'denominator',\n",
       " 'from_bytes',\n",
       " 'imag',\n",
       " 'numerator',\n",
       " 'real',\n",
       " 'to_bytes']"
      ]
     },
     "execution_count": 5,
     "metadata": {},
     "output_type": "execute_result"
    }
   ],
   "source": [
    "dir(int)"
   ]
  },
  {
   "cell_type": "code",
   "execution_count": 8,
   "id": "e67c9683",
   "metadata": {},
   "outputs": [],
   "source": [
    "from abc import ABC,abstractmethod "
   ]
  },
  {
   "cell_type": "code",
   "execution_count": 9,
   "id": "33bc0fe9",
   "metadata": {},
   "outputs": [],
   "source": [
    "class GeometricalShape(ABC):\n",
    "    \n",
    "    @abstractmethod\n",
    "    def sides():\n",
    "        pass"
   ]
  },
  {
   "cell_type": "code",
   "execution_count": 27,
   "id": "7fea335e",
   "metadata": {},
   "outputs": [],
   "source": [
    "class Square(GeometricalShape):\n",
    "    #overriding the abstract method\n",
    "    def sides(self): print(\"four sides\")\n",
    "        \n",
    "    #creating a private method in class\n",
    "    def __tellmyname__(self):print(\"my name is square\")\n",
    "    "
   ]
  },
  {
   "cell_type": "code",
   "execution_count": 28,
   "id": "bd248167",
   "metadata": {},
   "outputs": [
    {
     "name": "stdout",
     "output_type": "stream",
     "text": [
      "four sides\n"
     ]
    },
    {
     "ename": "AttributeError",
     "evalue": "'Square' object has no attribute 'tellmyname'",
     "output_type": "error",
     "traceback": [
      "\u001b[1;31m---------------------------------------------------------------------------\u001b[0m",
      "\u001b[1;31mAttributeError\u001b[0m                            Traceback (most recent call last)",
      "Cell \u001b[1;32mIn[28], line 3\u001b[0m\n\u001b[0;32m      1\u001b[0m sq1 \u001b[38;5;241m=\u001b[39m Square()\n\u001b[0;32m      2\u001b[0m sq1\u001b[38;5;241m.\u001b[39msides()\n\u001b[1;32m----> 3\u001b[0m sq1\u001b[38;5;241m.\u001b[39mtellmyname()\n",
      "\u001b[1;31mAttributeError\u001b[0m: 'Square' object has no attribute 'tellmyname'"
     ]
    }
   ],
   "source": [
    "sq1 = Square()\n",
    "sq1.sides()\n",
    "sq1.tellmyname()"
   ]
  },
  {
   "cell_type": "code",
   "execution_count": 1,
   "id": "81c4953a",
   "metadata": {},
   "outputs": [],
   "source": [
    "def welcome():\n",
    "    return \"Welcome to function\""
   ]
  },
  {
   "cell_type": "code",
   "execution_count": 2,
   "id": "185306c9",
   "metadata": {},
   "outputs": [],
   "source": [
    "wel = welcome()"
   ]
  },
  {
   "cell_type": "code",
   "execution_count": 3,
   "id": "148d66c1",
   "metadata": {},
   "outputs": [
    {
     "data": {
      "text/plain": [
       "'Welcome to function'"
      ]
     },
     "execution_count": 3,
     "metadata": {},
     "output_type": "execute_result"
    }
   ],
   "source": [
    "wel"
   ]
  },
  {
   "cell_type": "code",
   "execution_count": 4,
   "id": "ef28d3d3",
   "metadata": {},
   "outputs": [
    {
     "data": {
      "text/plain": [
       "str"
      ]
     },
     "execution_count": 4,
     "metadata": {},
     "output_type": "execute_result"
    }
   ],
   "source": [
    "type(wel)"
   ]
  },
  {
   "cell_type": "code",
   "execution_count": 5,
   "id": "f9f135cc",
   "metadata": {},
   "outputs": [
    {
     "name": "stdout",
     "output_type": "stream",
     "text": [
      "Welcome to function\n"
     ]
    }
   ],
   "source": [
    "print(wel)"
   ]
  },
  {
   "cell_type": "code",
   "execution_count": 11,
   "id": "3a3dc353",
   "metadata": {},
   "outputs": [],
   "source": [
    "def grandeparent(msg):\n",
    "    def parent():\n",
    "            def child():\n",
    "                print(msg)\n",
    "            \n",
    "            return child()\n",
    "    return parent()"
   ]
  },
  {
   "cell_type": "code",
   "execution_count": 12,
   "id": "fcafeae7",
   "metadata": {},
   "outputs": [
    {
     "name": "stdout",
     "output_type": "stream",
     "text": [
      "This is msg\n"
     ]
    }
   ],
   "source": [
    "grandeparent(\"This is msg\")"
   ]
  },
  {
   "cell_type": "code",
   "execution_count": 13,
   "id": "2f5a5d27",
   "metadata": {},
   "outputs": [],
   "source": [
    "def parent(func):\n",
    "    def child():\n",
    "        print(\"Welcome\")\n",
    "        print(func(\"China\"))\n",
    "        print(\"thankyou for Corona :D\")\n",
    "    return child()"
   ]
  },
  {
   "cell_type": "code",
   "execution_count": 14,
   "id": "7ba34663",
   "metadata": {},
   "outputs": [
    {
     "name": "stdout",
     "output_type": "stream",
     "text": [
      "Welcome\n",
      "China\n",
      "None\n",
      "thankyou for Corona :D\n"
     ]
    }
   ],
   "source": [
    "parent(print)"
   ]
  },
  {
   "cell_type": "code",
   "execution_count": 15,
   "id": "92486fc6",
   "metadata": {},
   "outputs": [
    {
     "name": "stdout",
     "output_type": "stream",
     "text": [
      "Welcome\n",
      "5\n",
      "thankyou for Corona :D\n"
     ]
    }
   ],
   "source": [
    "parent(len)"
   ]
  },
  {
   "cell_type": "markdown",
   "id": "abadddf8",
   "metadata": {},
   "source": [
    "\n",
    "# Decorators"
   ]
  },
  {
   "cell_type": "code",
   "execution_count": 18,
   "id": "61a3dce8",
   "metadata": {},
   "outputs": [
    {
     "name": "stdout",
     "output_type": "stream",
     "text": [
      "Enter guest nameArifa Mustafa\n",
      "Welcome Arifa Mustafa\n"
     ]
    }
   ],
   "source": [
    "@mydeco\n",
    "def greetings(guest_name):\n",
    "    return f\"Welcome {guest_name}\""
   ]
  },
  {
   "cell_type": "code",
   "execution_count": 17,
   "id": "fa3ee0ed",
   "metadata": {},
   "outputs": [],
   "source": [
    "def mydeco(func):\n",
    "    name = input(\"Enter guest name\")\n",
    "    invite = func(name)\n",
    "    print(invite)\n",
    "    "
   ]
  },
  {
   "cell_type": "markdown",
   "id": "750dbfd5",
   "metadata": {},
   "source": [
    "# Generators"
   ]
  },
  {
   "cell_type": "code",
   "execution_count": 23,
   "id": "d385fff4",
   "metadata": {},
   "outputs": [],
   "source": [
    "def square_numbers(nums):\n",
    "    for i in nums:\n",
    "        yield i**2\n",
    "my_num = square_numbers([4,5,6,7,8])"
   ]
  },
  {
   "cell_type": "code",
   "execution_count": 24,
   "id": "8208a6ee",
   "metadata": {},
   "outputs": [
    {
     "name": "stdout",
     "output_type": "stream",
     "text": [
      "16\n",
      "25\n",
      "36\n",
      "49\n",
      "64\n"
     ]
    }
   ],
   "source": [
    "for i in my_num:\n",
    "    print(i)"
   ]
  },
  {
   "cell_type": "code",
   "execution_count": null,
   "id": "7ff788ed",
   "metadata": {},
   "outputs": [],
   "source": []
  }
 ],
 "metadata": {
  "kernelspec": {
   "display_name": "Python 3 (ipykernel)",
   "language": "python",
   "name": "python3"
  },
  "language_info": {
   "codemirror_mode": {
    "name": "ipython",
    "version": 3
   },
   "file_extension": ".py",
   "mimetype": "text/x-python",
   "name": "python",
   "nbconvert_exporter": "python",
   "pygments_lexer": "ipython3",
   "version": "3.11.3"
  }
 },
 "nbformat": 4,
 "nbformat_minor": 5
}

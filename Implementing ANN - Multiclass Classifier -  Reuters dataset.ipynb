{
 "cells": [
  {
   "cell_type": "code",
   "execution_count": 1,
   "id": "d5d3b9f4",
   "metadata": {},
   "outputs": [
    {
     "name": "stdout",
     "output_type": "stream",
     "text": [
      "Downloading data from https://storage.googleapis.com/tensorflow/tf-keras-datasets/reuters.npz\n",
      "2110848/2110848 [==============================] - 2s 1us/step\n"
     ]
    }
   ],
   "source": [
    "from tensorflow.keras.datasets import reuters\n",
    "(X_train, y_train), (X_test, y_test) = reuters.load_data(num_words=10000)"
   ]
  },
  {
   "cell_type": "code",
   "execution_count": 2,
   "id": "742588d7",
   "metadata": {},
   "outputs": [],
   "source": [
    "import numpy as np \n",
    "def vectorize_sequences(sequences , dimension=10000):\n",
    "    results = np.zeros((len(sequences), dimension))\n",
    "    for i, sequence in enumerate(sequences):\n",
    "        for j in sequence:\n",
    "            results[i, j] = 1.\n",
    "    return results\n",
    "X_train = vectorize_sequences(X_train)\n",
    "X_test = vectorize_sequences(X_test)"
   ]
  },
  {
   "cell_type": "code",
   "execution_count": 3,
   "id": "56a29802",
   "metadata": {},
   "outputs": [],
   "source": [
    "#as there are not only two labels, we need to one hot encode the labels as well\n",
    "from tensorflow.keras.utils import to_categorical\n",
    "y_train = to_categorical(y_train)\n",
    "y_test = to_categorical(y_test)\n",
    "    "
   ]
  },
  {
   "cell_type": "code",
   "execution_count": 6,
   "id": "32f67250",
   "metadata": {},
   "outputs": [],
   "source": [
    "from tensorflow import keras\n",
    "from tensorflow.keras import layers\n",
    "model = keras.Sequential([\n",
    "layers.Dense(64, activation=\"relu\"),\n",
    "layers.Dense(64, activation=\"relu\"),\n",
    "layers.Dense(46, activation=\"softmax\")\n",
    "])"
   ]
  },
  {
   "cell_type": "code",
   "execution_count": 7,
   "id": "b565a370",
   "metadata": {},
   "outputs": [],
   "source": [
    "model.compile(optimizer=\"rmsprop\",\n",
    "loss=\"categorical_crossentropy\",\n",
    "metrics=[\"accuracy\"])"
   ]
  },
  {
   "cell_type": "code",
   "execution_count": 8,
   "id": "c153ae55",
   "metadata": {},
   "outputs": [],
   "source": [
    "#Validating your approach\n",
    "x_val = X_train[:1000]\n",
    "partial_x_train = X_train[1000:]\n",
    "y_val = y_train[:1000]\n",
    "partial_y_train = y_train[1000:]"
   ]
  },
  {
   "cell_type": "code",
   "execution_count": 9,
   "id": "954c3a04",
   "metadata": {},
   "outputs": [
    {
     "name": "stdout",
     "output_type": "stream",
     "text": [
      "Epoch 1/20\n",
      "16/16 [==============================] - 5s 109ms/step - loss: 2.6238 - accuracy: 0.5147 - val_loss: 1.7796 - val_accuracy: 0.5980\n",
      "Epoch 2/20\n",
      "16/16 [==============================] - 1s 76ms/step - loss: 1.5170 - accuracy: 0.6708 - val_loss: 1.3504 - val_accuracy: 0.6910\n",
      "Epoch 3/20\n",
      "16/16 [==============================] - 1s 72ms/step - loss: 1.1702 - accuracy: 0.7359 - val_loss: 1.1786 - val_accuracy: 0.7400\n",
      "Epoch 4/20\n",
      "16/16 [==============================] - 1s 74ms/step - loss: 0.9557 - accuracy: 0.7892 - val_loss: 1.0624 - val_accuracy: 0.7720\n",
      "Epoch 5/20\n",
      "16/16 [==============================] - 1s 73ms/step - loss: 0.7976 - accuracy: 0.8267 - val_loss: 0.9944 - val_accuracy: 0.7810\n",
      "Epoch 6/20\n",
      "16/16 [==============================] - 1s 73ms/step - loss: 0.6669 - accuracy: 0.8566 - val_loss: 0.9390 - val_accuracy: 0.8090\n",
      "Epoch 7/20\n",
      "16/16 [==============================] - 1s 75ms/step - loss: 0.5592 - accuracy: 0.8811 - val_loss: 0.9234 - val_accuracy: 0.8020\n",
      "Epoch 8/20\n",
      "16/16 [==============================] - 1s 71ms/step - loss: 0.4709 - accuracy: 0.9015 - val_loss: 0.8692 - val_accuracy: 0.8100\n",
      "Epoch 9/20\n",
      "16/16 [==============================] - 1s 75ms/step - loss: 0.4000 - accuracy: 0.9138 - val_loss: 0.8567 - val_accuracy: 0.8090\n",
      "Epoch 10/20\n",
      "16/16 [==============================] - 1s 73ms/step - loss: 0.3406 - accuracy: 0.9255 - val_loss: 0.8503 - val_accuracy: 0.8170\n",
      "Epoch 11/20\n",
      "16/16 [==============================] - 1s 75ms/step - loss: 0.2932 - accuracy: 0.9365 - val_loss: 0.8707 - val_accuracy: 0.8090\n",
      "Epoch 12/20\n",
      "16/16 [==============================] - 1s 81ms/step - loss: 0.2560 - accuracy: 0.9432 - val_loss: 0.8737 - val_accuracy: 0.8140\n",
      "Epoch 13/20\n",
      "16/16 [==============================] - 1s 81ms/step - loss: 0.2248 - accuracy: 0.9475 - val_loss: 0.8596 - val_accuracy: 0.8220\n",
      "Epoch 14/20\n",
      "16/16 [==============================] - 1s 87ms/step - loss: 0.2026 - accuracy: 0.9500 - val_loss: 0.8850 - val_accuracy: 0.8110\n",
      "Epoch 15/20\n",
      "16/16 [==============================] - 1s 75ms/step - loss: 0.1855 - accuracy: 0.9516 - val_loss: 0.8801 - val_accuracy: 0.8120\n",
      "Epoch 16/20\n",
      "16/16 [==============================] - 1s 77ms/step - loss: 0.1692 - accuracy: 0.9539 - val_loss: 0.9389 - val_accuracy: 0.8060\n",
      "Epoch 17/20\n",
      "16/16 [==============================] - 1s 83ms/step - loss: 0.1559 - accuracy: 0.9564 - val_loss: 0.9068 - val_accuracy: 0.8050\n",
      "Epoch 18/20\n",
      "16/16 [==============================] - 1s 73ms/step - loss: 0.1468 - accuracy: 0.9577 - val_loss: 0.9298 - val_accuracy: 0.8060\n",
      "Epoch 19/20\n",
      "16/16 [==============================] - 1s 72ms/step - loss: 0.1452 - accuracy: 0.9559 - val_loss: 0.9074 - val_accuracy: 0.8220\n",
      "Epoch 20/20\n",
      "16/16 [==============================] - 1s 74ms/step - loss: 0.1331 - accuracy: 0.9578 - val_loss: 0.9324 - val_accuracy: 0.8030\n"
     ]
    }
   ],
   "source": [
    "#Training the model\n",
    "history = model.fit(partial_x_train,\n",
    "partial_y_train,\n",
    "epochs=20,\n",
    "batch_size=512,\n",
    "validation_data=(x_val, y_val))"
   ]
  },
  {
   "cell_type": "code",
   "execution_count": 10,
   "id": "6b4906d9",
   "metadata": {},
   "outputs": [],
   "source": [
    "import pandas as pd"
   ]
  },
  {
   "cell_type": "code",
   "execution_count": 11,
   "id": "166cd310",
   "metadata": {},
   "outputs": [
    {
     "data": {
      "text/html": [
       "<div>\n",
       "<style scoped>\n",
       "    .dataframe tbody tr th:only-of-type {\n",
       "        vertical-align: middle;\n",
       "    }\n",
       "\n",
       "    .dataframe tbody tr th {\n",
       "        vertical-align: top;\n",
       "    }\n",
       "\n",
       "    .dataframe thead th {\n",
       "        text-align: right;\n",
       "    }\n",
       "</style>\n",
       "<table border=\"1\" class=\"dataframe\">\n",
       "  <thead>\n",
       "    <tr style=\"text-align: right;\">\n",
       "      <th></th>\n",
       "      <th>loss</th>\n",
       "      <th>accuracy</th>\n",
       "      <th>val_loss</th>\n",
       "      <th>val_accuracy</th>\n",
       "    </tr>\n",
       "  </thead>\n",
       "  <tbody>\n",
       "    <tr>\n",
       "      <th>0</th>\n",
       "      <td>2.623795</td>\n",
       "      <td>0.514658</td>\n",
       "      <td>1.779649</td>\n",
       "      <td>0.598</td>\n",
       "    </tr>\n",
       "    <tr>\n",
       "      <th>1</th>\n",
       "      <td>1.516969</td>\n",
       "      <td>0.670759</td>\n",
       "      <td>1.350356</td>\n",
       "      <td>0.691</td>\n",
       "    </tr>\n",
       "    <tr>\n",
       "      <th>2</th>\n",
       "      <td>1.170248</td>\n",
       "      <td>0.735906</td>\n",
       "      <td>1.178605</td>\n",
       "      <td>0.740</td>\n",
       "    </tr>\n",
       "    <tr>\n",
       "      <th>3</th>\n",
       "      <td>0.955682</td>\n",
       "      <td>0.789151</td>\n",
       "      <td>1.062404</td>\n",
       "      <td>0.772</td>\n",
       "    </tr>\n",
       "    <tr>\n",
       "      <th>4</th>\n",
       "      <td>0.797585</td>\n",
       "      <td>0.826735</td>\n",
       "      <td>0.994445</td>\n",
       "      <td>0.781</td>\n",
       "    </tr>\n",
       "    <tr>\n",
       "      <th>5</th>\n",
       "      <td>0.666859</td>\n",
       "      <td>0.856552</td>\n",
       "      <td>0.938957</td>\n",
       "      <td>0.809</td>\n",
       "    </tr>\n",
       "    <tr>\n",
       "      <th>6</th>\n",
       "      <td>0.559223</td>\n",
       "      <td>0.881108</td>\n",
       "      <td>0.923360</td>\n",
       "      <td>0.802</td>\n",
       "    </tr>\n",
       "    <tr>\n",
       "      <th>7</th>\n",
       "      <td>0.470892</td>\n",
       "      <td>0.901528</td>\n",
       "      <td>0.869249</td>\n",
       "      <td>0.810</td>\n",
       "    </tr>\n",
       "    <tr>\n",
       "      <th>8</th>\n",
       "      <td>0.400038</td>\n",
       "      <td>0.913806</td>\n",
       "      <td>0.856690</td>\n",
       "      <td>0.809</td>\n",
       "    </tr>\n",
       "    <tr>\n",
       "      <th>9</th>\n",
       "      <td>0.340587</td>\n",
       "      <td>0.925457</td>\n",
       "      <td>0.850343</td>\n",
       "      <td>0.817</td>\n",
       "    </tr>\n",
       "    <tr>\n",
       "      <th>10</th>\n",
       "      <td>0.293168</td>\n",
       "      <td>0.936482</td>\n",
       "      <td>0.870746</td>\n",
       "      <td>0.809</td>\n",
       "    </tr>\n",
       "    <tr>\n",
       "      <th>11</th>\n",
       "      <td>0.255981</td>\n",
       "      <td>0.943247</td>\n",
       "      <td>0.873664</td>\n",
       "      <td>0.814</td>\n",
       "    </tr>\n",
       "    <tr>\n",
       "      <th>12</th>\n",
       "      <td>0.224798</td>\n",
       "      <td>0.947507</td>\n",
       "      <td>0.859603</td>\n",
       "      <td>0.822</td>\n",
       "    </tr>\n",
       "    <tr>\n",
       "      <th>13</th>\n",
       "      <td>0.202587</td>\n",
       "      <td>0.950013</td>\n",
       "      <td>0.884969</td>\n",
       "      <td>0.811</td>\n",
       "    </tr>\n",
       "    <tr>\n",
       "      <th>14</th>\n",
       "      <td>0.185463</td>\n",
       "      <td>0.951641</td>\n",
       "      <td>0.880094</td>\n",
       "      <td>0.812</td>\n",
       "    </tr>\n",
       "    <tr>\n",
       "      <th>15</th>\n",
       "      <td>0.169244</td>\n",
       "      <td>0.953896</td>\n",
       "      <td>0.938860</td>\n",
       "      <td>0.806</td>\n",
       "    </tr>\n",
       "    <tr>\n",
       "      <th>16</th>\n",
       "      <td>0.155934</td>\n",
       "      <td>0.956402</td>\n",
       "      <td>0.906787</td>\n",
       "      <td>0.805</td>\n",
       "    </tr>\n",
       "    <tr>\n",
       "      <th>17</th>\n",
       "      <td>0.146754</td>\n",
       "      <td>0.957655</td>\n",
       "      <td>0.929850</td>\n",
       "      <td>0.806</td>\n",
       "    </tr>\n",
       "    <tr>\n",
       "      <th>18</th>\n",
       "      <td>0.145165</td>\n",
       "      <td>0.955901</td>\n",
       "      <td>0.907393</td>\n",
       "      <td>0.822</td>\n",
       "    </tr>\n",
       "    <tr>\n",
       "      <th>19</th>\n",
       "      <td>0.133066</td>\n",
       "      <td>0.957780</td>\n",
       "      <td>0.932439</td>\n",
       "      <td>0.803</td>\n",
       "    </tr>\n",
       "  </tbody>\n",
       "</table>\n",
       "</div>"
      ],
      "text/plain": [
       "        loss  accuracy  val_loss  val_accuracy\n",
       "0   2.623795  0.514658  1.779649         0.598\n",
       "1   1.516969  0.670759  1.350356         0.691\n",
       "2   1.170248  0.735906  1.178605         0.740\n",
       "3   0.955682  0.789151  1.062404         0.772\n",
       "4   0.797585  0.826735  0.994445         0.781\n",
       "5   0.666859  0.856552  0.938957         0.809\n",
       "6   0.559223  0.881108  0.923360         0.802\n",
       "7   0.470892  0.901528  0.869249         0.810\n",
       "8   0.400038  0.913806  0.856690         0.809\n",
       "9   0.340587  0.925457  0.850343         0.817\n",
       "10  0.293168  0.936482  0.870746         0.809\n",
       "11  0.255981  0.943247  0.873664         0.814\n",
       "12  0.224798  0.947507  0.859603         0.822\n",
       "13  0.202587  0.950013  0.884969         0.811\n",
       "14  0.185463  0.951641  0.880094         0.812\n",
       "15  0.169244  0.953896  0.938860         0.806\n",
       "16  0.155934  0.956402  0.906787         0.805\n",
       "17  0.146754  0.957655  0.929850         0.806\n",
       "18  0.145165  0.955901  0.907393         0.822\n",
       "19  0.133066  0.957780  0.932439         0.803"
      ]
     },
     "execution_count": 11,
     "metadata": {},
     "output_type": "execute_result"
    }
   ],
   "source": [
    "pd.DataFrame(history.history)"
   ]
  },
  {
   "cell_type": "code",
   "execution_count": 14,
   "id": "79eb5594",
   "metadata": {},
   "outputs": [
    {
     "data": {
      "image/png": "[encoded data removed]",
      "text/plain": [
       "<Figure size 640x480 with 1 Axes>"
      ]
     },
     "metadata": {},
     "output_type": "display_data"
    }
   ],
   "source": [
    "import matplotlib.pyplot as plt\n",
    "loss = history.history[\"loss\"]\n",
    "val_loss = history.history[\"val_loss\"]\n",
    "epochs = range(1, len(loss) + 1)\n",
    "plt.plot(epochs, loss, \"bo\", label=\"Training loss\")\n",
    "plt.plot(epochs, val_loss, \"b\", label=\"Validation loss\")\n",
    "plt.title(\"Training and validation loss\")\n",
    "plt.xlabel(\"Epochs\")\n",
    "plt.ylabel(\"Loss\")\n",
    "plt.legend()\n",
    "plt.show()"
   ]
  },
  {
   "cell_type": "code",
   "execution_count": 15,
   "id": "867dd2cd",
   "metadata": {},
   "outputs": [
    {
     "data": {
      "image/png": "[encoded data removed]",
      "text/plain": [
       "<Figure size 640x480 with 1 Axes>"
      ]
     },
     "metadata": {},
     "output_type": "display_data"
    }
   ],
   "source": [
    "plt.clf()\n",
    "acc = history.history[\"accuracy\"]\n",
    "val_acc = history.history[\"val_accuracy\"]\n",
    "plt.plot(epochs, acc, \"bo\", label=\"Training accuracy\")\n",
    "plt.plot(epochs, val_acc, \"b\", label=\"Validation accuracy\")\n",
    "plt.title(\"Training and validation accuracy\")\n",
    "plt.xlabel(\"Epochs\")\n",
    "plt.ylabel(\"Accuracy\")\n",
    "plt.legend()\n",
    "plt.show()"
   ]
  },
  {
   "cell_type": "code",
   "execution_count": 18,
   "id": "7b6ed432",
   "metadata": {},
   "outputs": [
    {
     "name": "stdout",
     "output_type": "stream",
     "text": [
      "Epoch 1/9\n",
      "18/18 [==============================] - 2s 65ms/step - loss: 2.6929 - accuracy: 0.5233\n",
      "Epoch 2/9\n",
      "18/18 [==============================] - 1s 71ms/step - loss: 1.4780 - accuracy: 0.6883\n",
      "Epoch 3/9\n",
      "18/18 [==============================] - 1s 69ms/step - loss: 1.1163 - accuracy: 0.7525\n",
      "Epoch 4/9\n",
      "18/18 [==============================] - 1s 65ms/step - loss: 0.9014 - accuracy: 0.8066\n",
      "Epoch 5/9\n",
      "18/18 [==============================] - 1s 66ms/step - loss: 0.7449 - accuracy: 0.8409\n",
      "Epoch 6/9\n",
      "18/18 [==============================] - 1s 63ms/step - loss: 0.6148 - accuracy: 0.8686\n",
      "Epoch 7/9\n",
      "18/18 [==============================] - 1s 64ms/step - loss: 0.5142 - accuracy: 0.8899\n",
      "Epoch 8/9\n",
      "18/18 [==============================] - 1s 63ms/step - loss: 0.4352 - accuracy: 0.9085\n",
      "Epoch 9/9\n",
      "18/18 [==============================] - 1s 62ms/step - loss: 0.3633 - accuracy: 0.9233\n",
      "71/71 [==============================] - 1s 6ms/step - loss: 0.8986 - accuracy: 0.7947\n"
     ]
    }
   ],
   "source": [
    "model = keras.Sequential([\n",
    "layers.Dense(64, activation=\"relu\"),layers.Dense(64, activation=\"relu\"),layers.Dense(46, activation=\"softmax\")])\n",
    "model.compile(optimizer=\"rmsprop\",loss=\"categorical_crossentropy\",metrics=[\"accuracy\"])\n",
    "model.fit(X_train,y_train,epochs=9,batch_size=512)\n",
    "results = model.evaluate(X_test, y_test)    "
   ]
  },
  {
   "cell_type": "code",
   "execution_count": 19,
   "id": "c1a0d5ad",
   "metadata": {},
   "outputs": [
    {
     "data": {
      "text/plain": [
       "[0.8985878825187683, 0.7947462201118469]"
      ]
     },
     "execution_count": 19,
     "metadata": {},
     "output_type": "execute_result"
    }
   ],
   "source": [
    "results"
   ]
  },
  {
   "cell_type": "code",
   "execution_count": 29,
   "id": "1c4ca4e4",
   "metadata": {},
   "outputs": [
    {
     "data": {
      "text/plain": [
       "(10000,)"
      ]
     },
     "execution_count": 29,
     "metadata": {},
     "output_type": "execute_result"
    }
   ],
   "source": [
    "X_test[0].shape"
   ]
  },
  {
   "cell_type": "code",
   "execution_count": 32,
   "id": "5ec23e83",
   "metadata": {},
   "outputs": [
    {
     "name": "stdout",
     "output_type": "stream",
     "text": [
      "1/1 [==============================] - 0s 30ms/step\n"
     ]
    }
   ],
   "source": [
    "y_pred=model.predict(X_test[0].reshape(1,10000))"
   ]
  },
  {
   "cell_type": "code",
   "execution_count": 37,
   "id": "40dfb861",
   "metadata": {},
   "outputs": [
    {
     "data": {
      "text/plain": [
       "3"
      ]
     },
     "execution_count": 37,
     "metadata": {},
     "output_type": "execute_result"
    }
   ],
   "source": [
    "np.argmax(y_pred)"
   ]
  },
  {
   "cell_type": "code",
   "execution_count": 34,
   "id": "24063c45",
   "metadata": {},
   "outputs": [
    {
     "data": {
      "text/plain": [
       "array([[1.32416259e-04, 5.90498443e-04, 3.09874758e-06, 5.65127492e-01,\n",
       "        4.19710636e-01, 2.12923951e-05, 1.63019540e-05, 5.70308766e-05,\n",
       "        9.65664978e-04, 1.69005114e-04, 8.18130211e-05, 2.67834077e-03,\n",
       "        3.10972187e-04, 3.31532734e-04, 1.40934746e-04, 8.71385273e-05,\n",
       "        1.50854071e-03, 3.91207344e-04, 1.24963233e-03, 7.57858972e-04,\n",
       "        2.20793765e-03, 3.44360131e-04, 9.50224603e-06, 9.90749977e-05,\n",
       "        8.32492060e-06, 4.20018332e-05, 4.08201913e-06, 2.71955996e-05,\n",
       "        2.18672154e-04, 3.61161598e-04, 2.77653162e-04, 1.55253845e-04,\n",
       "        5.95440324e-05, 4.45276564e-05, 1.98825182e-05, 3.74676824e-06,\n",
       "        3.15617246e-04, 7.35218418e-06, 1.02412094e-04, 1.11393537e-03,\n",
       "        9.45762895e-06, 1.52530585e-04, 7.49636320e-06, 1.35972223e-05,\n",
       "        4.61357695e-06, 5.86122223e-05]], dtype=float32)"
      ]
     },
     "execution_count": 34,
     "metadata": {},
     "output_type": "execute_result"
    }
   ],
   "source": [
    "y_pred"
   ]
  },
  {
   "cell_type": "code",
   "execution_count": null,
   "id": "7eea2b9f",
   "metadata": {},
   "outputs": [],
   "source": []
  }
 ],
 "metadata": {
  "kernelspec": {
   "display_name": "Python 3 (ipykernel)",
   "language": "python",
   "name": "python3"
  },
  "language_info": {
   "codemirror_mode": {
    "name": "ipython",
    "version": 3
   },
   "file_extension": ".py",
   "mimetype": "text/x-python",
   "name": "python",
   "nbconvert_exporter": "python",
   "pygments_lexer": "ipython3",
   "version": "3.11.3"
  }
 },
 "nbformat": 4,
 "nbformat_minor": 5
}

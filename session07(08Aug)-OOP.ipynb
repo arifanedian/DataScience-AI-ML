{
 "cells": [
  {
   "cell_type": "code",
   "execution_count": 9,
   "id": "fe510f2a",
   "metadata": {},
   "outputs": [],
   "source": [
    "class Laptop:\n",
    "    #attributes\n",
    "    make = \"Lenovo\"\n",
    "    ram = \"16gb\"\n",
    "    color = \"black\"\n",
    "    processor = \"corei3\"\n",
    "    generation = \"5th\"\n",
    "    \n",
    "    #behaviors\n",
    "    def bootup(self):\n",
    "        print(\"Laptop is booting up\")\n",
    "    def shutdown(self):\n",
    "        print(\"Laptop is shutting down\")\n",
    "    def runapp(self):\n",
    "        print(\"MS word is running\")"
   ]
  },
  {
   "cell_type": "code",
   "execution_count": 10,
   "id": "33630e2d",
   "metadata": {},
   "outputs": [],
   "source": [
    "new_laptop = Laptop()"
   ]
  },
  {
   "cell_type": "code",
   "execution_count": 11,
   "id": "28c2d0b2",
   "metadata": {},
   "outputs": [
    {
     "name": "stdout",
     "output_type": "stream",
     "text": [
      "Laptop is booting up\n"
     ]
    }
   ],
   "source": [
    "new_laptop.bootup()"
   ]
  },
  {
   "cell_type": "code",
   "execution_count": 12,
   "id": "f9d48f9b",
   "metadata": {},
   "outputs": [
    {
     "data": {
      "text/plain": [
       "'16gb'"
      ]
     },
     "execution_count": 12,
     "metadata": {},
     "output_type": "execute_result"
    }
   ],
   "source": [
    "new_laptop.ram"
   ]
  },
  {
   "cell_type": "code",
   "execution_count": 13,
   "id": "10bcde6c",
   "metadata": {},
   "outputs": [
    {
     "name": "stdout",
     "output_type": "stream",
     "text": [
      "Laptop is shutting down\n"
     ]
    }
   ],
   "source": [
    "new_laptop.shutdown()"
   ]
  },
  {
   "cell_type": "code",
   "execution_count": 17,
   "id": "c9bd038d",
   "metadata": {},
   "outputs": [],
   "source": [
    "class Laptop():\n",
    "    def __init__(self,color,ram,make,processor,generation,model):\n",
    "        self.color = color\n",
    "        self.ram = ram\n",
    "        self.make = make\n",
    "        self.processor = processor\n",
    "        self.generation = generation\n",
    "        self.model = model\n",
    "    \n",
    "    def specs(self):\n",
    "        print(f\"\"\"\n",
    "            Laptop Specifications\n",
    "            _____________________\n",
    "            Color : {self.color}\n",
    "            Ram   : {self.ram}\n",
    "            Make  : {self.make}\n",
    "            Processor : {self.processor}\n",
    "            Generation : {self.generation}\n",
    "            Model : {self.model}\n",
    "            \n",
    "        \"\"\")\n",
    "        "
   ]
  },
  {
   "cell_type": "code",
   "execution_count": 18,
   "id": "f696fe99",
   "metadata": {},
   "outputs": [],
   "source": [
    "lpt1 = Laptop('blue','16gb','HP','corei5','5th','ABC')"
   ]
  },
  {
   "cell_type": "code",
   "execution_count": 19,
   "id": "4f1665d0",
   "metadata": {},
   "outputs": [
    {
     "name": "stdout",
     "output_type": "stream",
     "text": [
      "\n",
      "            Laptop Specifications\n",
      "            _____________________\n",
      "            Color : blue\n",
      "            Ram   : 16gb\n",
      "            Make  : HP\n",
      "            Processor : corei5\n",
      "            Generation : 5th\n",
      "            Model : ABC\n",
      "            \n",
      "        \n"
     ]
    }
   ],
   "source": [
    "lpt1.specs()"
   ]
  },
  {
   "cell_type": "code",
   "execution_count": 20,
   "id": "be9f51e6",
   "metadata": {},
   "outputs": [
    {
     "name": "stdout",
     "output_type": "stream",
     "text": [
      "\n",
      "            Laptop Specifications\n",
      "            _____________________\n",
      "            Color : blue\n",
      "            Ram   : 16gb\n",
      "            Make  : HP\n",
      "            Processor : corei5\n",
      "            Generation : 5th\n",
      "            Model : ABC\n",
      "            \n",
      "        \n"
     ]
    }
   ],
   "source": [
    "#This syntax is not recommended but written for understanding\n",
    "Laptop.specs(lpt1)"
   ]
  },
  {
   "cell_type": "code",
   "execution_count": 29,
   "id": "57ba6d35",
   "metadata": {},
   "outputs": [],
   "source": [
    "class Laptop():\n",
    "    def __init__(self,color=\"\",ram=\"\",make=\"\",processor=\"\",generation=\"\",model=\"\"):\n",
    "        self.color = color\n",
    "        self.ram = ram\n",
    "        self.make = make\n",
    "        self.processor = processor\n",
    "        self.generation = generation\n",
    "        self.model = model\n",
    "    \n",
    "    def specs(self):\n",
    "        print(f\"\"\"\n",
    "            Laptop Specifications\n",
    "            _____________________\n",
    "            Color : {self.color}\n",
    "            Ram   : {self.ram}\n",
    "            Make  : {self.make}\n",
    "            Processor : {self.processor}\n",
    "            Generation : {self.generation}\n",
    "            Model : {self.model}\n",
    "            \n",
    "        \"\"\")"
   ]
  },
  {
   "cell_type": "code",
   "execution_count": 30,
   "id": "ad26060d",
   "metadata": {},
   "outputs": [],
   "source": [
    "newlaptop = Laptop()"
   ]
  },
  {
   "cell_type": "code",
   "execution_count": 31,
   "id": "729f2cf1",
   "metadata": {},
   "outputs": [
    {
     "name": "stdout",
     "output_type": "stream",
     "text": [
      "\n",
      "            Laptop Specifications\n",
      "            _____________________\n",
      "            Color : \n",
      "            Ram   : \n",
      "            Make  : \n",
      "            Processor : \n",
      "            Generation : \n",
      "            Model : \n",
      "            \n",
      "        \n"
     ]
    }
   ],
   "source": [
    "newlaptop.specs()"
   ]
  },
  {
   "cell_type": "code",
   "execution_count": 43,
   "id": "e610bab4",
   "metadata": {},
   "outputs": [],
   "source": [
    "class Student:\n",
    "    def __init__(self,rollno=\"\",name=\"\",batch=\"\",university_name=\"\"):\n",
    "        self.rollno = rollno\n",
    "        self.name = name\n",
    "        self.batch = batch\n",
    "        self.university_name = university_name\n",
    "    \n",
    "    def studentInfo(self):\n",
    "        print(f\"\"\"\n",
    "            Student Information Cell\n",
    "            ________________________\n",
    "            Student Rollno : {self.rollno}\n",
    "            Student Name   : {self.name}\n",
    "            Student Batch  : {self.batch}\n",
    "            Student Uni    : {self.university_name}\n",
    "        \"\"\")\n",
    "    def get_rollno(self):\n",
    "        return self.rollno\n",
    "    \n",
    "    def get_name(self):\n",
    "        return self.name\n",
    "    \n",
    "    def get_batch(self):\n",
    "        return self.batch\n",
    "    \n",
    "    def get_uni(self):\n",
    "        return self.university_name\n",
    "    \n",
    "    def set_rollno(self,rollno):\n",
    "        self.rollno = rollno\n",
    "        \n",
    "    def set_name(self,name):\n",
    "        self.name = name\n",
    "        \n",
    "    def set_batch(self,batch):\n",
    "        self.batch = batch\n",
    "        \n",
    "    def set_uni(self,university_name):\n",
    "        self.university_name = university_name"
   ]
  },
  {
   "cell_type": "code",
   "execution_count": 44,
   "id": "b1f2e2df",
   "metadata": {},
   "outputs": [],
   "source": [
    "std1 = Student()"
   ]
  },
  {
   "cell_type": "code",
   "execution_count": 45,
   "id": "b04dc6ac",
   "metadata": {},
   "outputs": [
    {
     "name": "stdout",
     "output_type": "stream",
     "text": [
      "\n",
      "            Student Information Cell\n",
      "            ________________________\n",
      "            Student Rollno : cs101053\n",
      "            Student Name   : Arifa\n",
      "            Student Batch  : 2010-2011\n",
      "            Student Uni    : Ned University\n",
      "        \n"
     ]
    }
   ],
   "source": [
    "std1.set_name(\"Arifa\")\n",
    "std1.set_batch(\"2010-2011\")\n",
    "std1.set_rollno(\"cs101053\")\n",
    "std1.set_uni(\"Ned University\")\n",
    "std1.studentInfo()"
   ]
  },
  {
   "cell_type": "code",
   "execution_count": 46,
   "id": "e7321e5f",
   "metadata": {},
   "outputs": [
    {
     "data": {
      "text/plain": [
       "'2010-2011'"
      ]
     },
     "execution_count": 46,
     "metadata": {},
     "output_type": "execute_result"
    }
   ],
   "source": [
    "std1.get_batch()"
   ]
  },
  {
   "cell_type": "code",
   "execution_count": 47,
   "id": "f5081fd4",
   "metadata": {},
   "outputs": [],
   "source": [
    "import Student"
   ]
  },
  {
   "cell_type": "code",
   "execution_count": 51,
   "id": "59e75869",
   "metadata": {},
   "outputs": [],
   "source": [
    "std2 = Student.Student()"
   ]
  },
  {
   "cell_type": "code",
   "execution_count": 52,
   "id": "9653f618",
   "metadata": {},
   "outputs": [
    {
     "name": "stdout",
     "output_type": "stream",
     "text": [
      "\n",
      "            Student Information Cell\n",
      "            ________________________\n",
      "            Student Rollno : \n",
      "            Student Name   : \n",
      "            Student Batch  : \n",
      "            Student Uni    : \n",
      "        \n"
     ]
    }
   ],
   "source": [
    "std2.studentInfo()"
   ]
  },
  {
   "cell_type": "code",
   "execution_count": 53,
   "id": "6a030234",
   "metadata": {},
   "outputs": [],
   "source": [
    "std3 = Student.Student(\"cs191091\",\"Arifa\",\"2013-2014\",\"Dha Suffa University\")"
   ]
  },
  {
   "cell_type": "code",
   "execution_count": 54,
   "id": "6050ea8c",
   "metadata": {},
   "outputs": [
    {
     "name": "stdout",
     "output_type": "stream",
     "text": [
      "\n",
      "            Student Information Cell\n",
      "            ________________________\n",
      "            Student Rollno : cs191091\n",
      "            Student Name   : Arifa\n",
      "            Student Batch  : 2013-2014\n",
      "            Student Uni    : Dha Suffa University\n",
      "        \n"
     ]
    }
   ],
   "source": [
    "std3.studentInfo()"
   ]
  },
  {
   "cell_type": "code",
   "execution_count": 73,
   "id": "e0cd903f",
   "metadata": {},
   "outputs": [
    {
     "name": "stdout",
     "output_type": "stream",
     "text": [
      "\n",
      "            Student Information Cell\n",
      "            ________________________\n",
      "            Student Rollno : cs191091\n",
      "            Student Name   : abc\n",
      "            Student Batch  : 2013-2014\n",
      "            Student Uni    : Dha Suffa University\n",
      "        \n"
     ]
    }
   ],
   "source": [
    "std3.name = \"abc\"\n",
    "std3.get_name()\n",
    "\n",
    "std3.studentInfo()"
   ]
  },
  {
   "cell_type": "code",
   "execution_count": 66,
   "id": "838a6cd9",
   "metadata": {},
   "outputs": [],
   "source": [
    "#Write a Python program to create a class representing a Circle. Include methods to calculate \n",
    "#its area and perimeter.\n",
    "\n",
    "class Circle:\n",
    "    def __init__(self,radius):\n",
    "        self.radius = radius\n",
    "    ''' Area would be calculated on the basis of radius already initiazed in the class definition'''\n",
    "    def area(self):\n",
    "        return 3.14*self.radius**2\n",
    "    def perimeter(self):\n",
    "        return 2*3.14*self.radius"
   ]
  },
  {
   "cell_type": "code",
   "execution_count": 67,
   "id": "46da059e",
   "metadata": {},
   "outputs": [],
   "source": [
    "c = Circle(5.5)"
   ]
  },
  {
   "cell_type": "code",
   "execution_count": 68,
   "id": "f774450e",
   "metadata": {},
   "outputs": [
    {
     "data": {
      "text/plain": [
       "94.985"
      ]
     },
     "execution_count": 68,
     "metadata": {},
     "output_type": "execute_result"
    }
   ],
   "source": [
    "c.area()"
   ]
  },
  {
   "cell_type": "code",
   "execution_count": 69,
   "id": "b0984978",
   "metadata": {},
   "outputs": [],
   "source": [
    "#Write a Python program to create a class representing a linked list data structure. \n",
    "#Include methods for displaying linked list data, inserting and deleting nodes.\n"
   ]
  },
  {
   "cell_type": "code",
   "execution_count": null,
   "id": "f5bb46a7",
   "metadata": {},
   "outputs": [],
   "source": []
  }
 ],
 "metadata": {
  "kernelspec": {
   "display_name": "Python 3 (ipykernel)",
   "language": "python",
   "name": "python3"
  },
  "language_info": {
   "codemirror_mode": {
    "name": "ipython",
    "version": 3
   },
   "file_extension": ".py",
   "mimetype": "text/x-python",
   "name": "python",
   "nbconvert_exporter": "python",
   "pygments_lexer": "ipython3",
   "version": "3.11.3"
  }
 },
 "nbformat": 4,
 "nbformat_minor": 5
}

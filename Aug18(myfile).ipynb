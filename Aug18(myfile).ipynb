{
 "cells": [
  {
   "cell_type": "markdown",
   "id": "2da4ced1",
   "metadata": {},
   "source": [
    "# Pandas Groupby Objects"
   ]
  },
  {
   "cell_type": "code",
   "execution_count": 1,
   "id": "6bcec5d2",
   "metadata": {},
   "outputs": [],
   "source": [
    "import pandas as pd"
   ]
  },
  {
   "cell_type": "code",
   "execution_count": 2,
   "id": "fcbeb124",
   "metadata": {},
   "outputs": [],
   "source": [
    "movies = pd.read_csv('data files/imdb-top-1000.csv')"
   ]
  },
  {
   "cell_type": "code",
   "execution_count": 3,
   "id": "a959d7ed",
   "metadata": {},
   "outputs": [
    {
     "data": {
      "text/plain": [
       "(1000, 10)"
      ]
     },
     "execution_count": 3,
     "metadata": {},
     "output_type": "execute_result"
    }
   ],
   "source": [
    "movies.shape"
   ]
  },
  {
   "cell_type": "code",
   "execution_count": 4,
   "id": "46122a8a",
   "metadata": {},
   "outputs": [
    {
     "data": {
      "text/html": [
       "<div>\n",
       "<style scoped>\n",
       "    .dataframe tbody tr th:only-of-type {\n",
       "        vertical-align: middle;\n",
       "    }\n",
       "\n",
       "    .dataframe tbody tr th {\n",
       "        vertical-align: top;\n",
       "    }\n",
       "\n",
       "    .dataframe thead th {\n",
       "        text-align: right;\n",
       "    }\n",
       "</style>\n",
       "<table border=\"1\" class=\"dataframe\">\n",
       "  <thead>\n",
       "    <tr style=\"text-align: right;\">\n",
       "      <th></th>\n",
       "      <th>Series_Title</th>\n",
       "      <th>Released_Year</th>\n",
       "      <th>Runtime</th>\n",
       "      <th>Genre</th>\n",
       "      <th>IMDB_Rating</th>\n",
       "      <th>Director</th>\n",
       "      <th>Star1</th>\n",
       "      <th>No_of_Votes</th>\n",
       "      <th>Gross</th>\n",
       "      <th>Metascore</th>\n",
       "    </tr>\n",
       "  </thead>\n",
       "  <tbody>\n",
       "    <tr>\n",
       "      <th>90</th>\n",
       "      <td>Incendies</td>\n",
       "      <td>2010</td>\n",
       "      <td>131</td>\n",
       "      <td>Drama</td>\n",
       "      <td>8.3</td>\n",
       "      <td>Denis Villeneuve</td>\n",
       "      <td>Lubna Azabal</td>\n",
       "      <td>150023</td>\n",
       "      <td>6857096.0</td>\n",
       "      <td>80.0</td>\n",
       "    </tr>\n",
       "    <tr>\n",
       "      <th>789</th>\n",
       "      <td>Adaptation.</td>\n",
       "      <td>2002</td>\n",
       "      <td>115</td>\n",
       "      <td>Comedy</td>\n",
       "      <td>7.7</td>\n",
       "      <td>Spike Jonze</td>\n",
       "      <td>Nicolas Cage</td>\n",
       "      <td>178565</td>\n",
       "      <td>22245861.0</td>\n",
       "      <td>83.0</td>\n",
       "    </tr>\n",
       "    <tr>\n",
       "      <th>770</th>\n",
       "      <td>Control</td>\n",
       "      <td>2007</td>\n",
       "      <td>122</td>\n",
       "      <td>Biography</td>\n",
       "      <td>7.7</td>\n",
       "      <td>Anton Corbijn</td>\n",
       "      <td>Sam Riley</td>\n",
       "      <td>61609</td>\n",
       "      <td>871577.0</td>\n",
       "      <td>78.0</td>\n",
       "    </tr>\n",
       "    <tr>\n",
       "      <th>367</th>\n",
       "      <td>Ratatouille</td>\n",
       "      <td>2007</td>\n",
       "      <td>111</td>\n",
       "      <td>Animation</td>\n",
       "      <td>8.0</td>\n",
       "      <td>Brad Bird</td>\n",
       "      <td>Jan Pinkava</td>\n",
       "      <td>641645</td>\n",
       "      <td>206445654.0</td>\n",
       "      <td>96.0</td>\n",
       "    </tr>\n",
       "    <tr>\n",
       "      <th>325</th>\n",
       "      <td>Bajrangi Bhaijaan</td>\n",
       "      <td>2015</td>\n",
       "      <td>163</td>\n",
       "      <td>Action</td>\n",
       "      <td>8.0</td>\n",
       "      <td>Kabir Khan</td>\n",
       "      <td>Salman Khan</td>\n",
       "      <td>72245</td>\n",
       "      <td>8178001.0</td>\n",
       "      <td>NaN</td>\n",
       "    </tr>\n",
       "  </tbody>\n",
       "</table>\n",
       "</div>"
      ],
      "text/plain": [
       "          Series_Title Released_Year  Runtime      Genre  IMDB_Rating  \\\n",
       "90           Incendies          2010      131      Drama          8.3   \n",
       "789        Adaptation.          2002      115     Comedy          7.7   \n",
       "770            Control          2007      122  Biography          7.7   \n",
       "367        Ratatouille          2007      111  Animation          8.0   \n",
       "325  Bajrangi Bhaijaan          2015      163     Action          8.0   \n",
       "\n",
       "             Director         Star1  No_of_Votes        Gross  Metascore  \n",
       "90   Denis Villeneuve  Lubna Azabal       150023    6857096.0       80.0  \n",
       "789       Spike Jonze  Nicolas Cage       178565   22245861.0       83.0  \n",
       "770     Anton Corbijn     Sam Riley        61609     871577.0       78.0  \n",
       "367         Brad Bird   Jan Pinkava       641645  206445654.0       96.0  \n",
       "325        Kabir Khan   Salman Khan        72245    8178001.0        NaN  "
      ]
     },
     "execution_count": 4,
     "metadata": {},
     "output_type": "execute_result"
    }
   ],
   "source": [
    "movies.sample(5)"
   ]
  },
  {
   "cell_type": "code",
   "execution_count": 7,
   "id": "e39570df",
   "metadata": {},
   "outputs": [
    {
     "data": {
      "text/plain": [
       "<pandas.core.groupby.generic.DataFrameGroupBy object at 0x000001B505F08390>"
      ]
     },
     "execution_count": 7,
     "metadata": {},
     "output_type": "execute_result"
    }
   ],
   "source": [
    "movies.groupby('Director')"
   ]
  },
  {
   "cell_type": "code",
   "execution_count": 18,
   "id": "6c779441",
   "metadata": {},
   "outputs": [
    {
     "data": {
      "text/plain": [
       "Genre\n",
       "Western      8.350000\n",
       "Crime        8.016822\n",
       "Fantasy      8.000000\n",
       "Mystery      7.975000\n",
       "Film-Noir    7.966667\n",
       "Drama        7.957439\n",
       "Action       7.949419\n",
       "Biography    7.938636\n",
       "Adventure    7.937500\n",
       "Animation    7.930488\n",
       "Horror       7.909091\n",
       "Comedy       7.901290\n",
       "Family       7.800000\n",
       "Thriller     7.800000\n",
       "Name: IMDB_Rating, dtype: float64"
      ]
     },
     "execution_count": 18,
     "metadata": {},
     "output_type": "execute_result"
    }
   ],
   "source": [
    "movies.groupby(\"Genre\")['IMDB_Rating'].mean().sort_values(ascending=False)"
   ]
  },
  {
   "cell_type": "code",
   "execution_count": 20,
   "id": "1c922339",
   "metadata": {},
   "outputs": [
    {
     "data": {
      "text/plain": [
       "'Western'"
      ]
     },
     "execution_count": 20,
     "metadata": {},
     "output_type": "execute_result"
    }
   ],
   "source": [
    "#most popular imdb rating movie genre\n",
    "movies.groupby(\"Genre\")['IMDB_Rating'].mean().sort_values(ascending=False).index[0]"
   ]
  },
  {
   "cell_type": "code",
   "execution_count": 17,
   "id": "e6dbd0c0",
   "metadata": {},
   "outputs": [
    {
     "data": {
      "text/plain": [
       "'Thriller'"
      ]
     },
     "execution_count": 17,
     "metadata": {},
     "output_type": "execute_result"
    }
   ],
   "source": [
    "#least popular imdb rating movie genre\n",
    "movies.groupby(\"Genre\")['IMDB_Rating'].mean().sort_values(ascending=False).index[-1]"
   ]
  },
  {
   "cell_type": "code",
   "execution_count": 22,
   "id": "e84e786a",
   "metadata": {},
   "outputs": [
    {
     "data": {
      "text/plain": [
       "Genre\n",
       "Action       420246.581395\n",
       "Mystery      350250.333333\n",
       "Horror       340232.363636\n",
       "Western      322416.250000\n",
       "Adventure    313557.819444\n",
       "Crime        313398.271028\n",
       "Family       275610.500000\n",
       "Biography    272805.045455\n",
       "Animation    268032.073171\n",
       "Drama        212343.612457\n",
       "Comedy       178195.658065\n",
       "Film-Noir    122405.000000\n",
       "Fantasy       73111.000000\n",
       "Thriller      27733.000000\n",
       "Name: No_of_Votes, dtype: float64"
      ]
     },
     "execution_count": 22,
     "metadata": {},
     "output_type": "execute_result"
    }
   ],
   "source": [
    "movies.groupby(\"Genre\")['No_of_Votes'].mean().sort_values(ascending=False)"
   ]
  },
  {
   "cell_type": "code",
   "execution_count": 29,
   "id": "730a6b37",
   "metadata": {},
   "outputs": [
    {
     "data": {
      "text/plain": [
       "Genre\n",
       "Action       72282412\n",
       "Drama        61367304\n",
       "Crime        33533615\n",
       "Comedy       27620327\n",
       "Biography    24006844\n",
       "Adventure    22576163\n",
       "Animation    21978630\n",
       "Mystery       4203004\n",
       "Horror        3742556\n",
       "Western       1289665\n",
       "Family         551221\n",
       "Film-Noir      367215\n",
       "Fantasy        146222\n",
       "Thriller        27733\n",
       "Name: No_of_Votes, dtype: int64"
      ]
     },
     "execution_count": 29,
     "metadata": {},
     "output_type": "execute_result"
    }
   ],
   "source": [
    "movies.groupby(\"Genre\")['No_of_Votes'].sum().sort_values(ascending=False)\n",
    "    "
   ]
  },
  {
   "cell_type": "code",
   "execution_count": 30,
   "id": "580b5a2f",
   "metadata": {},
   "outputs": [
    {
     "name": "stdout",
     "output_type": "stream",
     "text": [
      "Action\n",
      "Drama\n",
      "Crime\n"
     ]
    }
   ],
   "source": [
    "for i in movies.groupby(\"Genre\")['No_of_Votes'].sum().sort_values(ascending=False).index[0:3]:\n",
    "    print(i)"
   ]
  },
  {
   "cell_type": "code",
   "execution_count": 32,
   "id": "12e50481",
   "metadata": {},
   "outputs": [
    {
     "data": {
      "text/plain": [
       "<module 'matplotlib' from 'C:\\\\Users\\\\Arifa Mustafa\\\\anaconda3\\\\Lib\\\\site-packages\\\\matplotlib\\\\__init__.py'>"
      ]
     },
     "execution_count": 32,
     "metadata": {},
     "output_type": "execute_result"
    }
   ],
   "source": [
    "#konsa director hai jisne sbse ziada business kiyya hai"
   ]
  },
  {
   "cell_type": "code",
   "execution_count": 33,
   "id": "b03ee737",
   "metadata": {},
   "outputs": [
    {
     "data": {
      "text/html": [
       "<div>\n",
       "<style scoped>\n",
       "    .dataframe tbody tr th:only-of-type {\n",
       "        vertical-align: middle;\n",
       "    }\n",
       "\n",
       "    .dataframe tbody tr th {\n",
       "        vertical-align: top;\n",
       "    }\n",
       "\n",
       "    .dataframe thead th {\n",
       "        text-align: right;\n",
       "    }\n",
       "</style>\n",
       "<table border=\"1\" class=\"dataframe\">\n",
       "  <thead>\n",
       "    <tr style=\"text-align: right;\">\n",
       "      <th></th>\n",
       "      <th>Series_Title</th>\n",
       "      <th>Released_Year</th>\n",
       "      <th>Runtime</th>\n",
       "      <th>Genre</th>\n",
       "      <th>IMDB_Rating</th>\n",
       "      <th>Director</th>\n",
       "      <th>Star1</th>\n",
       "      <th>No_of_Votes</th>\n",
       "      <th>Gross</th>\n",
       "      <th>Metascore</th>\n",
       "    </tr>\n",
       "  </thead>\n",
       "  <tbody>\n",
       "    <tr>\n",
       "      <th>0</th>\n",
       "      <td>The Shawshank Redemption</td>\n",
       "      <td>1994</td>\n",
       "      <td>142</td>\n",
       "      <td>Drama</td>\n",
       "      <td>9.3</td>\n",
       "      <td>Frank Darabont</td>\n",
       "      <td>Tim Robbins</td>\n",
       "      <td>2343110</td>\n",
       "      <td>28341469.0</td>\n",
       "      <td>80.0</td>\n",
       "    </tr>\n",
       "    <tr>\n",
       "      <th>1</th>\n",
       "      <td>The Godfather</td>\n",
       "      <td>1972</td>\n",
       "      <td>175</td>\n",
       "      <td>Crime</td>\n",
       "      <td>9.2</td>\n",
       "      <td>Francis Ford Coppola</td>\n",
       "      <td>Marlon Brando</td>\n",
       "      <td>1620367</td>\n",
       "      <td>134966411.0</td>\n",
       "      <td>100.0</td>\n",
       "    </tr>\n",
       "    <tr>\n",
       "      <th>2</th>\n",
       "      <td>The Dark Knight</td>\n",
       "      <td>2008</td>\n",
       "      <td>152</td>\n",
       "      <td>Action</td>\n",
       "      <td>9.0</td>\n",
       "      <td>Christopher Nolan</td>\n",
       "      <td>Christian Bale</td>\n",
       "      <td>2303232</td>\n",
       "      <td>534858444.0</td>\n",
       "      <td>84.0</td>\n",
       "    </tr>\n",
       "    <tr>\n",
       "      <th>3</th>\n",
       "      <td>The Godfather: Part II</td>\n",
       "      <td>1974</td>\n",
       "      <td>202</td>\n",
       "      <td>Crime</td>\n",
       "      <td>9.0</td>\n",
       "      <td>Francis Ford Coppola</td>\n",
       "      <td>Al Pacino</td>\n",
       "      <td>1129952</td>\n",
       "      <td>57300000.0</td>\n",
       "      <td>90.0</td>\n",
       "    </tr>\n",
       "    <tr>\n",
       "      <th>4</th>\n",
       "      <td>12 Angry Men</td>\n",
       "      <td>1957</td>\n",
       "      <td>96</td>\n",
       "      <td>Crime</td>\n",
       "      <td>9.0</td>\n",
       "      <td>Sidney Lumet</td>\n",
       "      <td>Henry Fonda</td>\n",
       "      <td>689845</td>\n",
       "      <td>4360000.0</td>\n",
       "      <td>96.0</td>\n",
       "    </tr>\n",
       "    <tr>\n",
       "      <th>...</th>\n",
       "      <td>...</td>\n",
       "      <td>...</td>\n",
       "      <td>...</td>\n",
       "      <td>...</td>\n",
       "      <td>...</td>\n",
       "      <td>...</td>\n",
       "      <td>...</td>\n",
       "      <td>...</td>\n",
       "      <td>...</td>\n",
       "      <td>...</td>\n",
       "    </tr>\n",
       "    <tr>\n",
       "      <th>995</th>\n",
       "      <td>Breakfast at Tiffany's</td>\n",
       "      <td>1961</td>\n",
       "      <td>115</td>\n",
       "      <td>Comedy</td>\n",
       "      <td>7.6</td>\n",
       "      <td>Blake Edwards</td>\n",
       "      <td>Audrey Hepburn</td>\n",
       "      <td>166544</td>\n",
       "      <td>679874270.0</td>\n",
       "      <td>76.0</td>\n",
       "    </tr>\n",
       "    <tr>\n",
       "      <th>996</th>\n",
       "      <td>Giant</td>\n",
       "      <td>1956</td>\n",
       "      <td>201</td>\n",
       "      <td>Drama</td>\n",
       "      <td>7.6</td>\n",
       "      <td>George Stevens</td>\n",
       "      <td>Elizabeth Taylor</td>\n",
       "      <td>34075</td>\n",
       "      <td>195217415.0</td>\n",
       "      <td>84.0</td>\n",
       "    </tr>\n",
       "    <tr>\n",
       "      <th>997</th>\n",
       "      <td>From Here to Eternity</td>\n",
       "      <td>1953</td>\n",
       "      <td>118</td>\n",
       "      <td>Drama</td>\n",
       "      <td>7.6</td>\n",
       "      <td>Fred Zinnemann</td>\n",
       "      <td>Burt Lancaster</td>\n",
       "      <td>43374</td>\n",
       "      <td>30500000.0</td>\n",
       "      <td>85.0</td>\n",
       "    </tr>\n",
       "    <tr>\n",
       "      <th>998</th>\n",
       "      <td>Lifeboat</td>\n",
       "      <td>1944</td>\n",
       "      <td>97</td>\n",
       "      <td>Drama</td>\n",
       "      <td>7.6</td>\n",
       "      <td>Alfred Hitchcock</td>\n",
       "      <td>Tallulah Bankhead</td>\n",
       "      <td>26471</td>\n",
       "      <td>852142728.0</td>\n",
       "      <td>78.0</td>\n",
       "    </tr>\n",
       "    <tr>\n",
       "      <th>999</th>\n",
       "      <td>The 39 Steps</td>\n",
       "      <td>1935</td>\n",
       "      <td>86</td>\n",
       "      <td>Crime</td>\n",
       "      <td>7.6</td>\n",
       "      <td>Alfred Hitchcock</td>\n",
       "      <td>Robert Donat</td>\n",
       "      <td>51853</td>\n",
       "      <td>302787539.0</td>\n",
       "      <td>93.0</td>\n",
       "    </tr>\n",
       "  </tbody>\n",
       "</table>\n",
       "<p>1000 rows × 10 columns</p>\n",
       "</div>"
      ],
      "text/plain": [
       "                 Series_Title Released_Year  Runtime   Genre  IMDB_Rating  \\\n",
       "0    The Shawshank Redemption          1994      142   Drama          9.3   \n",
       "1               The Godfather          1972      175   Crime          9.2   \n",
       "2             The Dark Knight          2008      152  Action          9.0   \n",
       "3      The Godfather: Part II          1974      202   Crime          9.0   \n",
       "4                12 Angry Men          1957       96   Crime          9.0   \n",
       "..                        ...           ...      ...     ...          ...   \n",
       "995    Breakfast at Tiffany's          1961      115  Comedy          7.6   \n",
       "996                     Giant          1956      201   Drama          7.6   \n",
       "997     From Here to Eternity          1953      118   Drama          7.6   \n",
       "998                  Lifeboat          1944       97   Drama          7.6   \n",
       "999              The 39 Steps          1935       86   Crime          7.6   \n",
       "\n",
       "                 Director              Star1  No_of_Votes        Gross  \\\n",
       "0          Frank Darabont        Tim Robbins      2343110   28341469.0   \n",
       "1    Francis Ford Coppola      Marlon Brando      1620367  134966411.0   \n",
       "2       Christopher Nolan     Christian Bale      2303232  534858444.0   \n",
       "3    Francis Ford Coppola          Al Pacino      1129952   57300000.0   \n",
       "4            Sidney Lumet        Henry Fonda       689845    4360000.0   \n",
       "..                    ...                ...          ...          ...   \n",
       "995         Blake Edwards     Audrey Hepburn       166544  679874270.0   \n",
       "996        George Stevens   Elizabeth Taylor        34075  195217415.0   \n",
       "997        Fred Zinnemann     Burt Lancaster        43374   30500000.0   \n",
       "998      Alfred Hitchcock  Tallulah Bankhead        26471  852142728.0   \n",
       "999      Alfred Hitchcock       Robert Donat        51853  302787539.0   \n",
       "\n",
       "     Metascore  \n",
       "0         80.0  \n",
       "1        100.0  \n",
       "2         84.0  \n",
       "3         90.0  \n",
       "4         96.0  \n",
       "..         ...  \n",
       "995       76.0  \n",
       "996       84.0  \n",
       "997       85.0  \n",
       "998       78.0  \n",
       "999       93.0  \n",
       "\n",
       "[1000 rows x 10 columns]"
      ]
     },
     "execution_count": 33,
     "metadata": {},
     "output_type": "execute_result"
    }
   ],
   "source": [
    "movies"
   ]
  },
  {
   "cell_type": "code",
   "execution_count": 35,
   "id": "69aeabfa",
   "metadata": {},
   "outputs": [
    {
     "name": "stdout",
     "output_type": "stream",
     "text": [
      "Akira Kurosawa\n",
      "Steven Spielberg\n",
      "Hayao Miyazaki\n"
     ]
    }
   ],
   "source": [
    "for i in movies.groupby(\"Director\")['Gross'].sum().sort_values(ascending=False).index[0:3]:\n",
    "    print(i)"
   ]
  },
  {
   "cell_type": "code",
   "execution_count": 46,
   "id": "5dc7cf03",
   "metadata": {},
   "outputs": [
    {
     "data": {
      "text/plain": [
       "<pandas.core.groupby.generic.SeriesGroupBy object at 0x000001B50F94A850>"
      ]
     },
     "execution_count": 46,
     "metadata": {},
     "output_type": "execute_result"
    }
   ],
   "source": [
    "movies.groupby('Star1')['Genre']"
   ]
  },
  {
   "cell_type": "code",
   "execution_count": 48,
   "id": "42806a98",
   "metadata": {},
   "outputs": [],
   "source": [
    "movie_tmp = movies[movies.Genre == 'Action']"
   ]
  },
  {
   "cell_type": "code",
   "execution_count": 60,
   "id": "0967a5b9",
   "metadata": {},
   "outputs": [
    {
     "data": {
      "text/plain": [
       "'Harrison Ford'"
      ]
     },
     "execution_count": 60,
     "metadata": {},
     "output_type": "execute_result"
    }
   ],
   "source": [
    "movie_tmp.groupby('Star1')['Star1'].count().sort_values(ascending =False).index[0]"
   ]
  },
  {
   "cell_type": "code",
   "execution_count": 61,
   "id": "48b0cb8b",
   "metadata": {},
   "outputs": [
    {
     "data": {
      "text/plain": [
       "'Harrison Ford'"
      ]
     },
     "execution_count": 61,
     "metadata": {},
     "output_type": "execute_result"
    }
   ],
   "source": [
    "#name of the actor who has done maximum action movies\n",
    "movies[movies.Genre == 'Action'].groupby('Star1')['Star1'].count().sort_values(ascending =False).index[0]"
   ]
  },
  {
   "cell_type": "code",
   "execution_count": 62,
   "id": "33d9bbc3",
   "metadata": {},
   "outputs": [
    {
     "data": {
      "text/html": [
       "<div>\n",
       "<style scoped>\n",
       "    .dataframe tbody tr th:only-of-type {\n",
       "        vertical-align: middle;\n",
       "    }\n",
       "\n",
       "    .dataframe tbody tr th {\n",
       "        vertical-align: top;\n",
       "    }\n",
       "\n",
       "    .dataframe thead th {\n",
       "        text-align: right;\n",
       "    }\n",
       "</style>\n",
       "<table border=\"1\" class=\"dataframe\">\n",
       "  <thead>\n",
       "    <tr style=\"text-align: right;\">\n",
       "      <th></th>\n",
       "      <th>Series_Title</th>\n",
       "      <th>Released_Year</th>\n",
       "      <th>Runtime</th>\n",
       "      <th>Genre</th>\n",
       "      <th>IMDB_Rating</th>\n",
       "      <th>Director</th>\n",
       "      <th>Star1</th>\n",
       "      <th>No_of_Votes</th>\n",
       "      <th>Gross</th>\n",
       "      <th>Metascore</th>\n",
       "    </tr>\n",
       "  </thead>\n",
       "  <tbody>\n",
       "    <tr>\n",
       "      <th>0</th>\n",
       "      <td>The Shawshank Redemption</td>\n",
       "      <td>1994</td>\n",
       "      <td>142</td>\n",
       "      <td>Drama</td>\n",
       "      <td>9.3</td>\n",
       "      <td>Frank Darabont</td>\n",
       "      <td>Tim Robbins</td>\n",
       "      <td>2343110</td>\n",
       "      <td>28341469.0</td>\n",
       "      <td>80.0</td>\n",
       "    </tr>\n",
       "    <tr>\n",
       "      <th>1</th>\n",
       "      <td>The Godfather</td>\n",
       "      <td>1972</td>\n",
       "      <td>175</td>\n",
       "      <td>Crime</td>\n",
       "      <td>9.2</td>\n",
       "      <td>Francis Ford Coppola</td>\n",
       "      <td>Marlon Brando</td>\n",
       "      <td>1620367</td>\n",
       "      <td>134966411.0</td>\n",
       "      <td>100.0</td>\n",
       "    </tr>\n",
       "    <tr>\n",
       "      <th>2</th>\n",
       "      <td>The Dark Knight</td>\n",
       "      <td>2008</td>\n",
       "      <td>152</td>\n",
       "      <td>Action</td>\n",
       "      <td>9.0</td>\n",
       "      <td>Christopher Nolan</td>\n",
       "      <td>Christian Bale</td>\n",
       "      <td>2303232</td>\n",
       "      <td>534858444.0</td>\n",
       "      <td>84.0</td>\n",
       "    </tr>\n",
       "    <tr>\n",
       "      <th>3</th>\n",
       "      <td>The Godfather: Part II</td>\n",
       "      <td>1974</td>\n",
       "      <td>202</td>\n",
       "      <td>Crime</td>\n",
       "      <td>9.0</td>\n",
       "      <td>Francis Ford Coppola</td>\n",
       "      <td>Al Pacino</td>\n",
       "      <td>1129952</td>\n",
       "      <td>57300000.0</td>\n",
       "      <td>90.0</td>\n",
       "    </tr>\n",
       "    <tr>\n",
       "      <th>4</th>\n",
       "      <td>12 Angry Men</td>\n",
       "      <td>1957</td>\n",
       "      <td>96</td>\n",
       "      <td>Crime</td>\n",
       "      <td>9.0</td>\n",
       "      <td>Sidney Lumet</td>\n",
       "      <td>Henry Fonda</td>\n",
       "      <td>689845</td>\n",
       "      <td>4360000.0</td>\n",
       "      <td>96.0</td>\n",
       "    </tr>\n",
       "    <tr>\n",
       "      <th>...</th>\n",
       "      <td>...</td>\n",
       "      <td>...</td>\n",
       "      <td>...</td>\n",
       "      <td>...</td>\n",
       "      <td>...</td>\n",
       "      <td>...</td>\n",
       "      <td>...</td>\n",
       "      <td>...</td>\n",
       "      <td>...</td>\n",
       "      <td>...</td>\n",
       "    </tr>\n",
       "    <tr>\n",
       "      <th>995</th>\n",
       "      <td>Breakfast at Tiffany's</td>\n",
       "      <td>1961</td>\n",
       "      <td>115</td>\n",
       "      <td>Comedy</td>\n",
       "      <td>7.6</td>\n",
       "      <td>Blake Edwards</td>\n",
       "      <td>Audrey Hepburn</td>\n",
       "      <td>166544</td>\n",
       "      <td>679874270.0</td>\n",
       "      <td>76.0</td>\n",
       "    </tr>\n",
       "    <tr>\n",
       "      <th>996</th>\n",
       "      <td>Giant</td>\n",
       "      <td>1956</td>\n",
       "      <td>201</td>\n",
       "      <td>Drama</td>\n",
       "      <td>7.6</td>\n",
       "      <td>George Stevens</td>\n",
       "      <td>Elizabeth Taylor</td>\n",
       "      <td>34075</td>\n",
       "      <td>195217415.0</td>\n",
       "      <td>84.0</td>\n",
       "    </tr>\n",
       "    <tr>\n",
       "      <th>997</th>\n",
       "      <td>From Here to Eternity</td>\n",
       "      <td>1953</td>\n",
       "      <td>118</td>\n",
       "      <td>Drama</td>\n",
       "      <td>7.6</td>\n",
       "      <td>Fred Zinnemann</td>\n",
       "      <td>Burt Lancaster</td>\n",
       "      <td>43374</td>\n",
       "      <td>30500000.0</td>\n",
       "      <td>85.0</td>\n",
       "    </tr>\n",
       "    <tr>\n",
       "      <th>998</th>\n",
       "      <td>Lifeboat</td>\n",
       "      <td>1944</td>\n",
       "      <td>97</td>\n",
       "      <td>Drama</td>\n",
       "      <td>7.6</td>\n",
       "      <td>Alfred Hitchcock</td>\n",
       "      <td>Tallulah Bankhead</td>\n",
       "      <td>26471</td>\n",
       "      <td>852142728.0</td>\n",
       "      <td>78.0</td>\n",
       "    </tr>\n",
       "    <tr>\n",
       "      <th>999</th>\n",
       "      <td>The 39 Steps</td>\n",
       "      <td>1935</td>\n",
       "      <td>86</td>\n",
       "      <td>Crime</td>\n",
       "      <td>7.6</td>\n",
       "      <td>Alfred Hitchcock</td>\n",
       "      <td>Robert Donat</td>\n",
       "      <td>51853</td>\n",
       "      <td>302787539.0</td>\n",
       "      <td>93.0</td>\n",
       "    </tr>\n",
       "  </tbody>\n",
       "</table>\n",
       "<p>1000 rows × 10 columns</p>\n",
       "</div>"
      ],
      "text/plain": [
       "                 Series_Title Released_Year  Runtime   Genre  IMDB_Rating  \\\n",
       "0    The Shawshank Redemption          1994      142   Drama          9.3   \n",
       "1               The Godfather          1972      175   Crime          9.2   \n",
       "2             The Dark Knight          2008      152  Action          9.0   \n",
       "3      The Godfather: Part II          1974      202   Crime          9.0   \n",
       "4                12 Angry Men          1957       96   Crime          9.0   \n",
       "..                        ...           ...      ...     ...          ...   \n",
       "995    Breakfast at Tiffany's          1961      115  Comedy          7.6   \n",
       "996                     Giant          1956      201   Drama          7.6   \n",
       "997     From Here to Eternity          1953      118   Drama          7.6   \n",
       "998                  Lifeboat          1944       97   Drama          7.6   \n",
       "999              The 39 Steps          1935       86   Crime          7.6   \n",
       "\n",
       "                 Director              Star1  No_of_Votes        Gross  \\\n",
       "0          Frank Darabont        Tim Robbins      2343110   28341469.0   \n",
       "1    Francis Ford Coppola      Marlon Brando      1620367  134966411.0   \n",
       "2       Christopher Nolan     Christian Bale      2303232  534858444.0   \n",
       "3    Francis Ford Coppola          Al Pacino      1129952   57300000.0   \n",
       "4            Sidney Lumet        Henry Fonda       689845    4360000.0   \n",
       "..                    ...                ...          ...          ...   \n",
       "995         Blake Edwards     Audrey Hepburn       166544  679874270.0   \n",
       "996        George Stevens   Elizabeth Taylor        34075  195217415.0   \n",
       "997        Fred Zinnemann     Burt Lancaster        43374   30500000.0   \n",
       "998      Alfred Hitchcock  Tallulah Bankhead        26471  852142728.0   \n",
       "999      Alfred Hitchcock       Robert Donat        51853  302787539.0   \n",
       "\n",
       "     Metascore  \n",
       "0         80.0  \n",
       "1        100.0  \n",
       "2         84.0  \n",
       "3         90.0  \n",
       "4         96.0  \n",
       "..         ...  \n",
       "995       76.0  \n",
       "996       84.0  \n",
       "997       85.0  \n",
       "998       78.0  \n",
       "999       93.0  \n",
       "\n",
       "[1000 rows x 10 columns]"
      ]
     },
     "execution_count": 62,
     "metadata": {},
     "output_type": "execute_result"
    }
   ],
   "source": [
    "movies"
   ]
  },
  {
   "cell_type": "code",
   "execution_count": 72,
   "id": "4358e477",
   "metadata": {},
   "outputs": [
    {
     "data": {
      "text/plain": [
       "Series_Title\n",
       "Gangs of Wasseypur    321\n",
       "Hamlet                242\n",
       "Name: Runtime, dtype: int64"
      ]
     },
     "execution_count": 72,
     "metadata": {},
     "output_type": "execute_result"
    }
   ],
   "source": [
    "#top 2 lengthy movies. \n",
    "#jispe calculation karte hain wo aggregate fn k saath aega\n",
    "movies.groupby('Series_Title')['Runtime'].max().sort_values(ascending=False).head(2)"
   ]
  },
  {
   "cell_type": "markdown",
   "id": "1121d0fa",
   "metadata": {},
   "source": [
    "# Machine Learning\n",
    "    - Supervised Learning\n",
    "        * Regression (skitlearn, tensorflow etc)\n",
    "        * Classification\n",
    "    - Unsupervised Learning\n",
    "        * Clustering\n",
    "        * Dimentionality Reduction\n",
    "    - Reinforcement Learning"
   ]
  },
  {
   "cell_type": "code",
   "execution_count": 74,
   "id": "4c699e63",
   "metadata": {},
   "outputs": [],
   "source": [
    "data = pd.read_csv(\"data files/weight-height.csv\")"
   ]
  },
  {
   "cell_type": "code",
   "execution_count": 77,
   "id": "862a9061",
   "metadata": {},
   "outputs": [
    {
     "data": {
      "text/plain": [
       "Index(['Gender', 'Height', 'Weight'], dtype='object')"
      ]
     },
     "execution_count": 77,
     "metadata": {},
     "output_type": "execute_result"
    }
   ],
   "source": [
    "data.shape\n",
    "data.columns"
   ]
  },
  {
   "cell_type": "code",
   "execution_count": 76,
   "id": "340c8928",
   "metadata": {},
   "outputs": [],
   "source": [
    "import matplotlib.pylab as plt"
   ]
  },
  {
   "cell_type": "code",
   "execution_count": 78,
   "id": "8d83915c",
   "metadata": {},
   "outputs": [
    {
     "data": {
      "text/plain": [
       "<matplotlib.collections.PathCollection at 0x1b510d2ac10>"
      ]
     },
     "execution_count": 78,
     "metadata": {},
     "output_type": "execute_result"
    },
    {
     "data": {
      "image/png": "[encoded data removed]",
      "text/plain": [
       "<Figure size 640x480 with 1 Axes>"
      ]
     },
     "metadata": {},
     "output_type": "display_data"
    }
   ],
   "source": [
    "plt.scatter(data.Height,data.Weight)"
   ]
  },
  {
   "cell_type": "code",
   "execution_count": 79,
   "id": "281a6294",
   "metadata": {},
   "outputs": [
    {
     "name": "stderr",
     "output_type": "stream",
     "text": [
      "C:\\Users\\Arifa Mustafa\\AppData\\Local\\Temp\\ipykernel_2656\\2627137660.py:1: FutureWarning: The default value of numeric_only in DataFrame.corr is deprecated. In a future version, it will default to False. Select only valid columns or specify the value of numeric_only to silence this warning.\n",
      "  data.corr()\n"
     ]
    },
    {
     "data": {
      "text/html": [
       "<div>\n",
       "<style scoped>\n",
       "    .dataframe tbody tr th:only-of-type {\n",
       "        vertical-align: middle;\n",
       "    }\n",
       "\n",
       "    .dataframe tbody tr th {\n",
       "        vertical-align: top;\n",
       "    }\n",
       "\n",
       "    .dataframe thead th {\n",
       "        text-align: right;\n",
       "    }\n",
       "</style>\n",
       "<table border=\"1\" class=\"dataframe\">\n",
       "  <thead>\n",
       "    <tr style=\"text-align: right;\">\n",
       "      <th></th>\n",
       "      <th>Height</th>\n",
       "      <th>Weight</th>\n",
       "    </tr>\n",
       "  </thead>\n",
       "  <tbody>\n",
       "    <tr>\n",
       "      <th>Height</th>\n",
       "      <td>1.000000</td>\n",
       "      <td>0.924756</td>\n",
       "    </tr>\n",
       "    <tr>\n",
       "      <th>Weight</th>\n",
       "      <td>0.924756</td>\n",
       "      <td>1.000000</td>\n",
       "    </tr>\n",
       "  </tbody>\n",
       "</table>\n",
       "</div>"
      ],
      "text/plain": [
       "          Height    Weight\n",
       "Height  1.000000  0.924756\n",
       "Weight  0.924756  1.000000"
      ]
     },
     "execution_count": 79,
     "metadata": {},
     "output_type": "execute_result"
    }
   ],
   "source": [
    "data.corr()"
   ]
  },
  {
   "cell_type": "code",
   "execution_count": 83,
   "id": "55d5a800",
   "metadata": {},
   "outputs": [],
   "source": [
    "from sklearn.linear_model import LinearRegression\n",
    "regressor = LinearRegression()\n",
    "X = data[['Height']]\n",
    "Y = data[['Weight']]"
   ]
  },
  {
   "cell_type": "code",
   "execution_count": 84,
   "id": "7236b64d",
   "metadata": {},
   "outputs": [
    {
     "data": {
      "text/html": [
       "<style>#sk-container-id-2 {color: black;background-color: white;}#sk-container-id-2 pre{padding: 0;}#sk-container-id-2 div.sk-toggleable {background-color: white;}#sk-container-id-2 label.sk-toggleable__label {cursor: pointer;display: block;width: 100%;margin-bottom: 0;padding: 0.3em;box-sizing: border-box;text-align: center;}#sk-container-id-2 label.sk-toggleable__label-arrow:before {content: \"▸\";float: left;margin-right: 0.25em;color: #696969;}#sk-container-id-2 label.sk-toggleable__label-arrow:hover:before {color: black;}#sk-container-id-2 div.sk-estimator:hover label.sk-toggleable__label-arrow:before {color: black;}#sk-container-id-2 div.sk-toggleable__content {max-height: 0;max-width: 0;overflow: hidden;text-align: left;background-color: #f0f8ff;}#sk-container-id-2 div.sk-toggleable__content pre {margin: 0.2em;color: black;border-radius: 0.25em;background-color: #f0f8ff;}#sk-container-id-2 input.sk-toggleable__control:checked~div.sk-toggleable__content {max-height: 200px;max-width: 100%;overflow: auto;}#sk-container-id-2 input.sk-toggleable__control:checked~label.sk-toggleable__label-arrow:before {content: \"▾\";}#sk-container-id-2 div.sk-estimator input.sk-toggleable__control:checked~label.sk-toggleable__label {background-color: #d4ebff;}#sk-container-id-2 div.sk-label input.sk-toggleable__control:checked~label.sk-toggleable__label {background-color: #d4ebff;}#sk-container-id-2 input.sk-hidden--visually {border: 0;clip: rect(1px 1px 1px 1px);clip: rect(1px, 1px, 1px, 1px);height: 1px;margin: -1px;overflow: hidden;padding: 0;position: absolute;width: 1px;}#sk-container-id-2 div.sk-estimator {font-family: monospace;background-color: #f0f8ff;border: 1px dotted black;border-radius: 0.25em;box-sizing: border-box;margin-bottom: 0.5em;}#sk-container-id-2 div.sk-estimator:hover {background-color: #d4ebff;}#sk-container-id-2 div.sk-parallel-item::after {content: \"\";width: 100%;border-bottom: 1px solid gray;flex-grow: 1;}#sk-container-id-2 div.sk-label:hover label.sk-toggleable__label {background-color: #d4ebff;}#sk-container-id-2 div.sk-serial::before {content: \"\";position: absolute;border-left: 1px solid gray;box-sizing: border-box;top: 0;bottom: 0;left: 50%;z-index: 0;}#sk-container-id-2 div.sk-serial {display: flex;flex-direction: column;align-items: center;background-color: white;padding-right: 0.2em;padding-left: 0.2em;position: relative;}#sk-container-id-2 div.sk-item {position: relative;z-index: 1;}#sk-container-id-2 div.sk-parallel {display: flex;align-items: stretch;justify-content: center;background-color: white;position: relative;}#sk-container-id-2 div.sk-item::before, #sk-container-id-2 div.sk-parallel-item::before {content: \"\";position: absolute;border-left: 1px solid gray;box-sizing: border-box;top: 0;bottom: 0;left: 50%;z-index: -1;}#sk-container-id-2 div.sk-parallel-item {display: flex;flex-direction: column;z-index: 1;position: relative;background-color: white;}#sk-container-id-2 div.sk-parallel-item:first-child::after {align-self: flex-end;width: 50%;}#sk-container-id-2 div.sk-parallel-item:last-child::after {align-self: flex-start;width: 50%;}#sk-container-id-2 div.sk-parallel-item:only-child::after {width: 0;}#sk-container-id-2 div.sk-dashed-wrapped {border: 1px dashed gray;margin: 0 0.4em 0.5em 0.4em;box-sizing: border-box;padding-bottom: 0.4em;background-color: white;}#sk-container-id-2 div.sk-label label {font-family: monospace;font-weight: bold;display: inline-block;line-height: 1.2em;}#sk-container-id-2 div.sk-label-container {text-align: center;}#sk-container-id-2 div.sk-container {/* jupyter's `normalize.less` sets `[hidden] { display: none; }` but bootstrap.min.css set `[hidden] { display: none !important; }` so we also need the `!important` here to be able to override the default hidden behavior on the sphinx rendered scikit-learn.org. See: https://github.com/scikit-learn/scikit-learn/issues/21755 */display: inline-block !important;position: relative;}#sk-container-id-2 div.sk-text-repr-fallback {display: none;}</style><div id=\"sk-container-id-2\" class=\"sk-top-container\"><div class=\"sk-text-repr-fallback\"><pre>LinearRegression()</pre><b>In a Jupyter environment, please rerun this cell to show the HTML representation or trust the notebook. <br />On GitHub, the HTML representation is unable to render, please try loading this page with nbviewer.org.</b></div><div class=\"sk-container\" hidden><div class=\"sk-item\"><div class=\"sk-estimator sk-toggleable\"><input class=\"sk-toggleable__control sk-hidden--visually\" id=\"sk-estimator-id-2\" type=\"checkbox\" checked><label for=\"sk-estimator-id-2\" class=\"sk-toggleable__label sk-toggleable__label-arrow\">LinearRegression</label><div class=\"sk-toggleable__content\"><pre>LinearRegression()</pre></div></div></div></div></div>"
      ],
      "text/plain": [
       "LinearRegression()"
      ]
     },
     "execution_count": 84,
     "metadata": {},
     "output_type": "execute_result"
    }
   ],
   "source": [
    "regressor.fit(X,Y)"
   ]
  },
  {
   "cell_type": "code",
   "execution_count": 85,
   "id": "26474fd7",
   "metadata": {},
   "outputs": [],
   "source": [
    "predictions = regressor.predict(X)"
   ]
  },
  {
   "cell_type": "code",
   "execution_count": 86,
   "id": "e1e7fd84",
   "metadata": {},
   "outputs": [
    {
     "data": {
      "text/plain": [
       "array([[219.16147995],\n",
       "       [180.07254622],\n",
       "       [221.19180857],\n",
       "       ...,\n",
       "       [142.15047511],\n",
       "       [182.01991949],\n",
       "       [127.30437134]])"
      ]
     },
     "execution_count": 86,
     "metadata": {},
     "output_type": "execute_result"
    }
   ],
   "source": [
    "predictions"
   ]
  },
  {
   "cell_type": "code",
   "execution_count": 88,
   "id": "d022a890",
   "metadata": {},
   "outputs": [
    {
     "data": {
      "text/plain": [
       "<matplotlib.collections.PathCollection at 0x1b513d06790>"
      ]
     },
     "execution_count": 88,
     "metadata": {},
     "output_type": "execute_result"
    },
    {
     "data": {
      "image/png": "[encoded data removed]",
      "text/plain": [
       "<Figure size 640x480 with 1 Axes>"
      ]
     },
     "metadata": {},
     "output_type": "display_data"
    }
   ],
   "source": [
    "plt.scatter(data['Height'], data['Weight'])\n",
    "plt.scatter(X,predictions)"
   ]
  },
  {
   "cell_type": "markdown",
   "id": "5af17ae0",
   "metadata": {},
   "source": [
    "# Testing"
   ]
  },
  {
   "cell_type": "code",
   "execution_count": 89,
   "id": "a1ff4ee5",
   "metadata": {},
   "outputs": [
    {
     "data": {
      "text/plain": [
       "array([[67],\n",
       "       [70],\n",
       "       [75],\n",
       "       [65],\n",
       "       [50],\n",
       "       [80]])"
      ]
     },
     "execution_count": 89,
     "metadata": {},
     "output_type": "execute_result"
    }
   ],
   "source": [
    "import numpy as np\n",
    "test=  np.array([[67],[70],[75],[65],[50],[80]])\n",
    "test"
   ]
  },
  {
   "cell_type": "code",
   "execution_count": 90,
   "id": "f621a127",
   "metadata": {},
   "outputs": [
    {
     "name": "stderr",
     "output_type": "stream",
     "text": [
      "C:\\Users\\Arifa Mustafa\\anaconda3\\Lib\\site-packages\\sklearn\\base.py:439: UserWarning: X does not have valid feature names, but LinearRegression was fitted with feature names\n",
      "  warnings.warn(\n"
     ]
    },
    {
     "data": {
      "text/plain": [
       "array([[166.32108012],\n",
       "       [189.47294304],\n",
       "       [228.05938125],\n",
       "       [150.88650484],\n",
       "       [ 35.12719023],\n",
       "       [266.64581945]])"
      ]
     },
     "execution_count": 90,
     "metadata": {},
     "output_type": "execute_result"
    }
   ],
   "source": [
    "regressor.predict(test)"
   ]
  },
  {
   "cell_type": "code",
   "execution_count": 94,
   "id": "c991aae5",
   "metadata": {},
   "outputs": [
    {
     "name": "stderr",
     "output_type": "stream",
     "text": [
      "C:\\Users\\Arifa Mustafa\\anaconda3\\Lib\\site-packages\\sklearn\\base.py:439: UserWarning: X does not have valid feature names, but LinearRegression was fitted with feature names\n",
      "  warnings.warn(\n"
     ]
    },
    {
     "data": {
      "text/plain": [
       "array([[243.49395653]])"
      ]
     },
     "execution_count": 94,
     "metadata": {},
     "output_type": "execute_result"
    }
   ],
   "source": [
    "regressor.predict([[77]])"
   ]
  },
  {
   "cell_type": "code",
   "execution_count": null,
   "id": "bee4d26b",
   "metadata": {},
   "outputs": [],
   "source": []
  },
  {
   "cell_type": "code",
   "execution_count": null,
   "id": "5c05628a",
   "metadata": {},
   "outputs": [],
   "source": []
  }
 ],
 "metadata": {
  "kernelspec": {
   "display_name": "Python 3 (ipykernel)",
   "language": "python",
   "name": "python3"
  },
  "language_info": {
   "codemirror_mode": {
    "name": "ipython",
    "version": 3
   },
   "file_extension": ".py",
   "mimetype": "text/x-python",
   "name": "python",
   "nbconvert_exporter": "python",
   "pygments_lexer": "ipython3",
   "version": "3.11.3"
  }
 },
 "nbformat": 4,
 "nbformat_minor": 5
}

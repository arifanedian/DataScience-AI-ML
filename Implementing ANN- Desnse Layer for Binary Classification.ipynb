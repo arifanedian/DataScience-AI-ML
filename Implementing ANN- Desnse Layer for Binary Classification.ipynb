{
 "cells": [
  {
   "cell_type": "markdown",
   "id": "8cb5ecec",
   "metadata": {},
   "source": [
    "# Implementing ANN- Desnse Layer for Binary Classification"
   ]
  },
  {
   "cell_type": "code",
   "execution_count": 7,
   "id": "fcfbeea0",
   "metadata": {},
   "outputs": [],
   "source": [
    "from tensorflow.keras.datasets import imdb\n",
    "(X_train,y_train) , (X_test, y_test) = imdb.load_data(num_words = 10000)"
   ]
  },
  {
   "cell_type": "code",
   "execution_count": 8,
   "id": "388aedc5",
   "metadata": {},
   "outputs": [],
   "source": [
    "import numpy as np \n",
    "def vectorize_sequences(sequences , dimension=10000):\n",
    "    results = np.zeros((len(sequences), dimension))\n",
    "    for i, sequence in enumerate(sequences):\n",
    "        for j in sequence:\n",
    "            results[i, j] = 1.\n",
    "    return results\n",
    "X_train = vectorize_sequences(X_train)\n",
    "X_test = vectorize_sequences(X_test)"
   ]
  },
  {
   "cell_type": "code",
   "execution_count": 10,
   "id": "dedfab37",
   "metadata": {},
   "outputs": [],
   "source": [
    "#You should also vectorize your labels, which is straightforward:\n",
    "y_train = np.asarray(y_train).astype(\"float32\")\n",
    "y_test = np.asarray(y_test).astype(\"float32\")"
   ]
  },
  {
   "cell_type": "code",
   "execution_count": 11,
   "id": "7d55dd4c",
   "metadata": {},
   "outputs": [],
   "source": [
    "from tensorflow import keras\n",
    "from tensorflow.keras import layers\n",
    "model = keras.Sequential([layers.Dense(16, activation=\"relu\"),layers.Dense(16, activation=\"relu\"),layers.Dense(1, activation=\"sigmoid\")])"
   ]
  },
  {
   "cell_type": "code",
   "execution_count": 12,
   "id": "2e4cd744",
   "metadata": {},
   "outputs": [],
   "source": [
    "model.compile(optimizer=\"rmsprop\",loss=\"binary_crossentropy\",metrics=[\"accuracy\"])"
   ]
  },
  {
   "cell_type": "code",
   "execution_count": 15,
   "id": "87364892",
   "metadata": {},
   "outputs": [],
   "source": [
    "#Setting aside a validation set\n",
    "x_val = X_train[:10000]\n",
    "partial_X_train = X_train[10000:]\n",
    "y_val = y_train[:10000]\n",
    "partial_y_train = y_train[10000:]"
   ]
  },
  {
   "cell_type": "code",
   "execution_count": 17,
   "id": "471166c3",
   "metadata": {},
   "outputs": [
    {
     "name": "stdout",
     "output_type": "stream",
     "text": [
      "Epoch 1/20\n",
      "30/30 [==============================] - 22s 175ms/step - loss: 0.5555 - accuracy: 0.7555 - val_loss: 0.4384 - val_accuracy: 0.8481\n",
      "Epoch 2/20\n",
      "30/30 [==============================] - 1s 37ms/step - loss: 0.3570 - accuracy: 0.8875 - val_loss: 0.3378 - val_accuracy: 0.8771\n",
      "Epoch 3/20\n",
      "30/30 [==============================] - 1s 39ms/step - loss: 0.2662 - accuracy: 0.9145 - val_loss: 0.2994 - val_accuracy: 0.8829\n",
      "Epoch 4/20\n",
      "30/30 [==============================] - 1s 37ms/step - loss: 0.2139 - accuracy: 0.9301 - val_loss: 0.2844 - val_accuracy: 0.8877\n",
      "Epoch 5/20\n",
      "30/30 [==============================] - 1s 39ms/step - loss: 0.1798 - accuracy: 0.9421 - val_loss: 0.2979 - val_accuracy: 0.8803\n",
      "Epoch 6/20\n",
      "30/30 [==============================] - 1s 48ms/step - loss: 0.1512 - accuracy: 0.9527 - val_loss: 0.2826 - val_accuracy: 0.8865\n",
      "Epoch 7/20\n",
      "30/30 [==============================] - 1s 39ms/step - loss: 0.1294 - accuracy: 0.9625 - val_loss: 0.3008 - val_accuracy: 0.8820\n",
      "Epoch 8/20\n",
      "30/30 [==============================] - 1s 36ms/step - loss: 0.1139 - accuracy: 0.9657 - val_loss: 0.2992 - val_accuracy: 0.8865\n",
      "Epoch 9/20\n",
      "30/30 [==============================] - 1s 34ms/step - loss: 0.0957 - accuracy: 0.9731 - val_loss: 0.3120 - val_accuracy: 0.8832\n",
      "Epoch 10/20\n",
      "30/30 [==============================] - 1s 37ms/step - loss: 0.0840 - accuracy: 0.9773 - val_loss: 0.3365 - val_accuracy: 0.8781\n",
      "Epoch 11/20\n",
      "30/30 [==============================] - 1s 35ms/step - loss: 0.0689 - accuracy: 0.9834 - val_loss: 0.3502 - val_accuracy: 0.8805\n",
      "Epoch 12/20\n",
      "30/30 [==============================] - 1s 33ms/step - loss: 0.0608 - accuracy: 0.9853 - val_loss: 0.3667 - val_accuracy: 0.8784\n",
      "Epoch 13/20\n",
      "30/30 [==============================] - 1s 34ms/step - loss: 0.0497 - accuracy: 0.9894 - val_loss: 0.3873 - val_accuracy: 0.8788\n",
      "Epoch 14/20\n",
      "30/30 [==============================] - 1s 34ms/step - loss: 0.0400 - accuracy: 0.9931 - val_loss: 0.4113 - val_accuracy: 0.8760\n",
      "Epoch 15/20\n",
      "30/30 [==============================] - 1s 34ms/step - loss: 0.0377 - accuracy: 0.9919 - val_loss: 0.4352 - val_accuracy: 0.8737\n",
      "Epoch 16/20\n",
      "30/30 [==============================] - 1s 35ms/step - loss: 0.0294 - accuracy: 0.9951 - val_loss: 0.4524 - val_accuracy: 0.8738\n",
      "Epoch 17/20\n",
      "30/30 [==============================] - 1s 38ms/step - loss: 0.0249 - accuracy: 0.9967 - val_loss: 0.4707 - val_accuracy: 0.8732\n",
      "Epoch 18/20\n",
      "30/30 [==============================] - 1s 35ms/step - loss: 0.0203 - accuracy: 0.9969 - val_loss: 0.5059 - val_accuracy: 0.8723\n",
      "Epoch 19/20\n",
      "30/30 [==============================] - 1s 34ms/step - loss: 0.0148 - accuracy: 0.9991 - val_loss: 0.5299 - val_accuracy: 0.8696\n",
      "Epoch 20/20\n",
      "30/30 [==============================] - 1s 34ms/step - loss: 0.0151 - accuracy: 0.9983 - val_loss: 0.5512 - val_accuracy: 0.8703\n"
     ]
    }
   ],
   "source": [
    "history = model.fit(partial_X_train,partial_y_train,epochs=20,batch_size=512,validation_data=(x_val, y_val))"
   ]
  },
  {
   "cell_type": "code",
   "execution_count": 18,
   "id": "51fd3d70",
   "metadata": {},
   "outputs": [
    {
     "data": {
      "image/png": "[encoded data removed]",
      "text/plain": [
       "<Figure size 640x480 with 1 Axes>"
      ]
     },
     "metadata": {},
     "output_type": "display_data"
    }
   ],
   "source": [
    "import matplotlib.pyplot as plt\n",
    "history_dict = history.history\n",
    "loss_values = history_dict[\"loss\"]\n",
    "val_loss_values = history_dict[\"val_loss\"]\n",
    "epochs = range(1, len(loss_values) + 1)\n",
    "plt.plot(epochs, loss_values, \"bo\", label=\"Training loss\")\n",
    "plt.plot(epochs, val_loss_values, \"b\", label=\"Validation loss\")\n",
    "plt.title(\"Training and validation loss\")\n",
    "plt.xlabel(\"Epochs\")\n",
    "plt.ylabel(\"Loss\")\n",
    "plt.legend()\n",
    "plt.show()"
   ]
  },
  {
   "cell_type": "code",
   "execution_count": 19,
   "id": "9e19f27e",
   "metadata": {},
   "outputs": [
    {
     "data": {
      "text/plain": [
       "<keras.src.callbacks.History at 0x24268595810>"
      ]
     },
     "execution_count": 19,
     "metadata": {},
     "output_type": "execute_result"
    }
   ],
   "source": [
    "history"
   ]
  },
  {
   "cell_type": "code",
   "execution_count": 20,
   "id": "2429e173",
   "metadata": {},
   "outputs": [
    {
     "data": {
      "text/plain": [
       "{'loss': [0.5555365681648254,\n",
       "  0.3569875657558441,\n",
       "  0.2662135362625122,\n",
       "  0.2138880342245102,\n",
       "  0.17975221574306488,\n",
       "  0.15119004249572754,\n",
       "  0.12943923473358154,\n",
       "  0.11393097043037415,\n",
       "  0.09565670043230057,\n",
       "  0.08403801918029785,\n",
       "  0.06892818212509155,\n",
       "  0.060834866017103195,\n",
       "  0.049721162766218185,\n",
       "  0.04004037007689476,\n",
       "  0.03768601641058922,\n",
       "  0.02938663214445114,\n",
       "  0.02486310340464115,\n",
       "  0.02034398727118969,\n",
       "  0.014847795478999615,\n",
       "  0.015103491954505444],\n",
       " 'accuracy': [0.755466639995575,\n",
       "  0.8875333070755005,\n",
       "  0.9145333170890808,\n",
       "  0.9301333427429199,\n",
       "  0.9420666694641113,\n",
       "  0.9526666402816772,\n",
       "  0.9625333547592163,\n",
       "  0.965666651725769,\n",
       "  0.9730666875839233,\n",
       "  0.9772666692733765,\n",
       "  0.9833999872207642,\n",
       "  0.9852666854858398,\n",
       "  0.9894000291824341,\n",
       "  0.9931333065032959,\n",
       "  0.9919333457946777,\n",
       "  0.9951333403587341,\n",
       "  0.9967333078384399,\n",
       "  0.9969333410263062,\n",
       "  0.9991333484649658,\n",
       "  0.9982666373252869],\n",
       " 'val_loss': [0.4384375512599945,\n",
       "  0.33781152963638306,\n",
       "  0.2994192838668823,\n",
       "  0.28444281220436096,\n",
       "  0.29792478680610657,\n",
       "  0.28260332345962524,\n",
       "  0.3008236587047577,\n",
       "  0.2992452383041382,\n",
       "  0.3119780123233795,\n",
       "  0.33648231625556946,\n",
       "  0.35015031695365906,\n",
       "  0.3667442202568054,\n",
       "  0.38727089762687683,\n",
       "  0.41126781702041626,\n",
       "  0.4352308213710785,\n",
       "  0.4523700177669525,\n",
       "  0.47067856788635254,\n",
       "  0.5058652758598328,\n",
       "  0.5298508405685425,\n",
       "  0.5512151122093201],\n",
       " 'val_accuracy': [0.8481000065803528,\n",
       "  0.8770999908447266,\n",
       "  0.8828999996185303,\n",
       "  0.8877000212669373,\n",
       "  0.880299985408783,\n",
       "  0.8865000009536743,\n",
       "  0.8820000290870667,\n",
       "  0.8865000009536743,\n",
       "  0.8831999897956848,\n",
       "  0.8780999779701233,\n",
       "  0.8805000185966492,\n",
       "  0.8784000277519226,\n",
       "  0.8787999749183655,\n",
       "  0.8759999871253967,\n",
       "  0.8737000226974487,\n",
       "  0.8737999796867371,\n",
       "  0.873199999332428,\n",
       "  0.8723000288009644,\n",
       "  0.8695999979972839,\n",
       "  0.8702999949455261]}"
      ]
     },
     "execution_count": 20,
     "metadata": {},
     "output_type": "execute_result"
    }
   ],
   "source": [
    "history.historystory"
   ]
  },
  {
   "cell_type": "code",
   "execution_count": 21,
   "id": "40160e1a",
   "metadata": {},
   "outputs": [],
   "source": [
    "import pandas as pd"
   ]
  },
  {
   "cell_type": "code",
   "execution_count": 22,
   "id": "630f10a6",
   "metadata": {},
   "outputs": [
    {
     "data": {
      "text/html": [
       "<div>\n",
       "<style scoped>\n",
       "    .dataframe tbody tr th:only-of-type {\n",
       "        vertical-align: middle;\n",
       "    }\n",
       "\n",
       "    .dataframe tbody tr th {\n",
       "        vertical-align: top;\n",
       "    }\n",
       "\n",
       "    .dataframe thead th {\n",
       "        text-align: right;\n",
       "    }\n",
       "</style>\n",
       "<table border=\"1\" class=\"dataframe\">\n",
       "  <thead>\n",
       "    <tr style=\"text-align: right;\">\n",
       "      <th></th>\n",
       "      <th>loss</th>\n",
       "      <th>accuracy</th>\n",
       "      <th>val_loss</th>\n",
       "      <th>val_accuracy</th>\n",
       "    </tr>\n",
       "  </thead>\n",
       "  <tbody>\n",
       "    <tr>\n",
       "      <th>0</th>\n",
       "      <td>0.555537</td>\n",
       "      <td>0.755467</td>\n",
       "      <td>0.438438</td>\n",
       "      <td>0.8481</td>\n",
       "    </tr>\n",
       "    <tr>\n",
       "      <th>1</th>\n",
       "      <td>0.356988</td>\n",
       "      <td>0.887533</td>\n",
       "      <td>0.337812</td>\n",
       "      <td>0.8771</td>\n",
       "    </tr>\n",
       "    <tr>\n",
       "      <th>2</th>\n",
       "      <td>0.266214</td>\n",
       "      <td>0.914533</td>\n",
       "      <td>0.299419</td>\n",
       "      <td>0.8829</td>\n",
       "    </tr>\n",
       "    <tr>\n",
       "      <th>3</th>\n",
       "      <td>0.213888</td>\n",
       "      <td>0.930133</td>\n",
       "      <td>0.284443</td>\n",
       "      <td>0.8877</td>\n",
       "    </tr>\n",
       "    <tr>\n",
       "      <th>4</th>\n",
       "      <td>0.179752</td>\n",
       "      <td>0.942067</td>\n",
       "      <td>0.297925</td>\n",
       "      <td>0.8803</td>\n",
       "    </tr>\n",
       "    <tr>\n",
       "      <th>5</th>\n",
       "      <td>0.151190</td>\n",
       "      <td>0.952667</td>\n",
       "      <td>0.282603</td>\n",
       "      <td>0.8865</td>\n",
       "    </tr>\n",
       "    <tr>\n",
       "      <th>6</th>\n",
       "      <td>0.129439</td>\n",
       "      <td>0.962533</td>\n",
       "      <td>0.300824</td>\n",
       "      <td>0.8820</td>\n",
       "    </tr>\n",
       "    <tr>\n",
       "      <th>7</th>\n",
       "      <td>0.113931</td>\n",
       "      <td>0.965667</td>\n",
       "      <td>0.299245</td>\n",
       "      <td>0.8865</td>\n",
       "    </tr>\n",
       "    <tr>\n",
       "      <th>8</th>\n",
       "      <td>0.095657</td>\n",
       "      <td>0.973067</td>\n",
       "      <td>0.311978</td>\n",
       "      <td>0.8832</td>\n",
       "    </tr>\n",
       "    <tr>\n",
       "      <th>9</th>\n",
       "      <td>0.084038</td>\n",
       "      <td>0.977267</td>\n",
       "      <td>0.336482</td>\n",
       "      <td>0.8781</td>\n",
       "    </tr>\n",
       "    <tr>\n",
       "      <th>10</th>\n",
       "      <td>0.068928</td>\n",
       "      <td>0.983400</td>\n",
       "      <td>0.350150</td>\n",
       "      <td>0.8805</td>\n",
       "    </tr>\n",
       "    <tr>\n",
       "      <th>11</th>\n",
       "      <td>0.060835</td>\n",
       "      <td>0.985267</td>\n",
       "      <td>0.366744</td>\n",
       "      <td>0.8784</td>\n",
       "    </tr>\n",
       "    <tr>\n",
       "      <th>12</th>\n",
       "      <td>0.049721</td>\n",
       "      <td>0.989400</td>\n",
       "      <td>0.387271</td>\n",
       "      <td>0.8788</td>\n",
       "    </tr>\n",
       "    <tr>\n",
       "      <th>13</th>\n",
       "      <td>0.040040</td>\n",
       "      <td>0.993133</td>\n",
       "      <td>0.411268</td>\n",
       "      <td>0.8760</td>\n",
       "    </tr>\n",
       "    <tr>\n",
       "      <th>14</th>\n",
       "      <td>0.037686</td>\n",
       "      <td>0.991933</td>\n",
       "      <td>0.435231</td>\n",
       "      <td>0.8737</td>\n",
       "    </tr>\n",
       "    <tr>\n",
       "      <th>15</th>\n",
       "      <td>0.029387</td>\n",
       "      <td>0.995133</td>\n",
       "      <td>0.452370</td>\n",
       "      <td>0.8738</td>\n",
       "    </tr>\n",
       "    <tr>\n",
       "      <th>16</th>\n",
       "      <td>0.024863</td>\n",
       "      <td>0.996733</td>\n",
       "      <td>0.470679</td>\n",
       "      <td>0.8732</td>\n",
       "    </tr>\n",
       "    <tr>\n",
       "      <th>17</th>\n",
       "      <td>0.020344</td>\n",
       "      <td>0.996933</td>\n",
       "      <td>0.505865</td>\n",
       "      <td>0.8723</td>\n",
       "    </tr>\n",
       "    <tr>\n",
       "      <th>18</th>\n",
       "      <td>0.014848</td>\n",
       "      <td>0.999133</td>\n",
       "      <td>0.529851</td>\n",
       "      <td>0.8696</td>\n",
       "    </tr>\n",
       "    <tr>\n",
       "      <th>19</th>\n",
       "      <td>0.015103</td>\n",
       "      <td>0.998267</td>\n",
       "      <td>0.551215</td>\n",
       "      <td>0.8703</td>\n",
       "    </tr>\n",
       "  </tbody>\n",
       "</table>\n",
       "</div>"
      ],
      "text/plain": [
       "        loss  accuracy  val_loss  val_accuracy\n",
       "0   0.555537  0.755467  0.438438        0.8481\n",
       "1   0.356988  0.887533  0.337812        0.8771\n",
       "2   0.266214  0.914533  0.299419        0.8829\n",
       "3   0.213888  0.930133  0.284443        0.8877\n",
       "4   0.179752  0.942067  0.297925        0.8803\n",
       "5   0.151190  0.952667  0.282603        0.8865\n",
       "6   0.129439  0.962533  0.300824        0.8820\n",
       "7   0.113931  0.965667  0.299245        0.8865\n",
       "8   0.095657  0.973067  0.311978        0.8832\n",
       "9   0.084038  0.977267  0.336482        0.8781\n",
       "10  0.068928  0.983400  0.350150        0.8805\n",
       "11  0.060835  0.985267  0.366744        0.8784\n",
       "12  0.049721  0.989400  0.387271        0.8788\n",
       "13  0.040040  0.993133  0.411268        0.8760\n",
       "14  0.037686  0.991933  0.435231        0.8737\n",
       "15  0.029387  0.995133  0.452370        0.8738\n",
       "16  0.024863  0.996733  0.470679        0.8732\n",
       "17  0.020344  0.996933  0.505865        0.8723\n",
       "18  0.014848  0.999133  0.529851        0.8696\n",
       "19  0.015103  0.998267  0.551215        0.8703"
      ]
     },
     "execution_count": 22,
     "metadata": {},
     "output_type": "execute_result"
    }
   ],
   "source": [
    "pd.DataFrame(history.history)"
   ]
  },
  {
   "cell_type": "code",
   "execution_count": 23,
   "id": "a7bb70c8",
   "metadata": {},
   "outputs": [],
   "source": [
    "#re-training the model from scratch, because after 4 epochs the model started overfitting\n",
    "\n",
    "model = keras.Sequential([\n",
    "layers.Dense(16, activation=\"relu\"),layers.Dense(16, activation=\"relu\"),layers.Dense(1, activation=\"sigmoid\")])"
   ]
  },
  {
   "cell_type": "code",
   "execution_count": 25,
   "id": "adb4bc9d",
   "metadata": {},
   "outputs": [
    {
     "name": "stdout",
     "output_type": "stream",
     "text": [
      "Epoch 1/4\n",
      "49/49 [==============================] - 12s 28ms/step - loss: 0.4733 - accuracy: 0.8115\n",
      "Epoch 2/4\n",
      "49/49 [==============================] - 1s 28ms/step - loss: 0.2807 - accuracy: 0.9012\n",
      "Epoch 3/4\n",
      "49/49 [==============================] - 1s 27ms/step - loss: 0.2207 - accuracy: 0.9209\n",
      "Epoch 4/4\n",
      "49/49 [==============================] - 1s 26ms/step - loss: 0.1868 - accuracy: 0.9332\n",
      "782/782 [==============================] - 58s 54ms/step - loss: 0.3065 - accuracy: 0.8767\n"
     ]
    }
   ],
   "source": [
    "model.compile(optimizer=\"rmsprop\",loss=\"binary_crossentropy\",metrics=[\"accuracy\"])\n",
    "model.fit(X_train, y_train, epochs=4, batch_size=512)\n",
    "results = model.evaluate(X_test, y_test)"
   ]
  },
  {
   "cell_type": "code",
   "execution_count": 26,
   "id": "3d01c240",
   "metadata": {},
   "outputs": [
    {
     "data": {
      "text/plain": [
       "[0.30645298957824707, 0.8767200112342834]"
      ]
     },
     "execution_count": 26,
     "metadata": {},
     "output_type": "execute_result"
    }
   ],
   "source": [
    "results"
   ]
  },
  {
   "cell_type": "code",
   "execution_count": 30,
   "id": "1c852257",
   "metadata": {},
   "outputs": [
    {
     "name": "stdout",
     "output_type": "stream",
     "text": [
      "1/1 [==============================] - 0s 83ms/step\n"
     ]
    }
   ],
   "source": [
    "review=model.predict(X_test[0].reshape(1,10000))"
   ]
  },
  {
   "cell_type": "code",
   "execution_count": 29,
   "id": "9d0ef9a3",
   "metadata": {},
   "outputs": [
    {
     "data": {
      "text/plain": [
       "0.0"
      ]
     },
     "execution_count": 29,
     "metadata": {},
     "output_type": "execute_result"
    }
   ],
   "source": [
    "y_test[0]"
   ]
  },
  {
   "cell_type": "code",
   "execution_count": 31,
   "id": "9a6e57bf",
   "metadata": {},
   "outputs": [
    {
     "data": {
      "text/plain": [
       "array([[0.18389425]], dtype=float32)"
      ]
     },
     "execution_count": 31,
     "metadata": {},
     "output_type": "execute_result"
    }
   ],
   "source": [
    "review"
   ]
  },
  {
   "cell_type": "code",
   "execution_count": 33,
   "id": "8ae5683b",
   "metadata": {},
   "outputs": [
    {
     "data": {
      "text/plain": [
       "0.18389425"
      ]
     },
     "execution_count": 33,
     "metadata": {},
     "output_type": "execute_result"
    }
   ],
   "source": [
    "review[0][0]"
   ]
  },
  {
   "cell_type": "code",
   "execution_count": 41,
   "id": "cdd2f6fe",
   "metadata": {},
   "outputs": [],
   "source": [
    "def predict_review(review):\n",
    "    print(review[0][0])\n",
    "    if review[0][0] < 0.5:\n",
    "        return \"below avg Review\"\n",
    "    else:\n",
    "        return \"good review\""
   ]
  },
  {
   "cell_type": "code",
   "execution_count": 42,
   "id": "6f9cabf8",
   "metadata": {},
   "outputs": [
    {
     "name": "stdout",
     "output_type": "stream",
     "text": [
      "1/1 [==============================] - 0s 60ms/step\n",
      "0.9997162\n"
     ]
    },
    {
     "data": {
      "text/plain": [
       "'good review'"
      ]
     },
     "execution_count": 42,
     "metadata": {},
     "output_type": "execute_result"
    }
   ],
   "source": [
    "predict_review(model.predict(X_test[1].reshape(1,10000)))"
   ]
  },
  {
   "cell_type": "code",
   "execution_count": null,
   "id": "9c0a9e8d",
   "metadata": {},
   "outputs": [],
   "source": []
  }
 ],
 "metadata": {
  "kernelspec": {
   "display_name": "Python 3 (ipykernel)",
   "language": "python",
   "name": "python3"
  },
  "language_info": {
   "codemirror_mode": {
    "name": "ipython",
    "version": 3
   },
   "file_extension": ".py",
   "mimetype": "text/x-python",
   "name": "python",
   "nbconvert_exporter": "python",
   "pygments_lexer": "ipython3",
   "version": "3.11.3"
  }
 },
 "nbformat": 4,
 "nbformat_minor": 5
}

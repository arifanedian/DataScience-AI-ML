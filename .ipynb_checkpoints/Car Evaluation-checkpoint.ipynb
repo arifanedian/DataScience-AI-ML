{
 "cells": [
  {
   "cell_type": "markdown",
   "id": "3a841da1",
   "metadata": {},
   "source": [
    "# Car Evaluation"
   ]
  },
  {
   "cell_type": "code",
   "execution_count": 5,
   "id": "d291722b",
   "metadata": {},
   "outputs": [],
   "source": [
    "import pandas as pd\n",
    "import numpy as np\n",
    "import matplotlib.pyplot as plt\n",
    "from sklearn.preprocessing import OrdinalEncoder, OneHotEncoder, MinMaxScaler, LabelEncoder\n",
    "from sklearn.model_selection import train_test_split\n",
    "from sklearn.pipeline import Pipeline\n",
    "from sklearn.tree import DecisionTreeClassifier, plot_tree\n",
    "from sklearn.ensemble import RandomForestClassifier\n",
    "from sklearn.naive_bayes import CategoricalNB\n",
    "from sklearn.neural_network import MLPClassifier\n",
    "from sklearn.metrics import accuracy_score, classification_report, ConfusionMatrixDisplay, confusion_matrix\n",
    "from sklearn.compose import ColumnTransformer\n",
    "from sklearn.linear_model._logistic import LogisticRegression"
   ]
  },
  {
   "cell_type": "code",
   "execution_count": 6,
   "id": "1d9a21de",
   "metadata": {},
   "outputs": [],
   "source": [
    "car_data = pd.read_csv('data files/car.csv')"
   ]
  },
  {
   "cell_type": "code",
   "execution_count": 7,
   "id": "7a94830d",
   "metadata": {},
   "outputs": [],
   "source": [
    "car_data.shape"
   ]
  },
  {
   "cell_type": "code",
   "execution_count": 8,
   "id": "6ea9eae2",
   "metadata": {},
   "outputs": [],
   "source": [
    "car_data.describe(exclude='number')"
   ]
  },
  {
   "cell_type": "code",
   "execution_count": 9,
   "id": "55580bc6",
   "metadata": {},
   "outputs": [],
   "source": [
    "car_data.info()"
   ]
  },
  {
   "cell_type": "code",
   "execution_count": 10,
   "id": "e257900f",
   "metadata": {},
   "outputs": [],
   "source": [
    "car_data.label.value_counts()"
   ]
  },
  {
   "cell_type": "code",
   "execution_count": 11,
   "id": "7d198811",
   "metadata": {},
   "outputs": [],
   "source": [
    "car_data.label = ['acc' if((l=='good') | (l=='vgood') | (l=='acc')) else 'unacc' for l in car_data.label]"
   ]
  },
  {
   "cell_type": "code",
   "execution_count": 12,
   "id": "11af18d0",
   "metadata": {},
   "outputs": [],
   "source": [
    "car_data = pd.concat([\n",
    "    car_data[car_data.label == 'acc'],\n",
    "    car_data[car_data.label == 'unacc'].sample(n=518)\n",
    "])"
   ]
  },
  {
   "cell_type": "code",
   "execution_count": 13,
   "id": "9addf962",
   "metadata": {},
   "outputs": [],
   "source": [
    "car_data"
   ]
  },
  {
   "cell_type": "code",
   "execution_count": 14,
   "id": "6364703c",
   "metadata": {},
   "outputs": [],
   "source": [
    "car_data.label.value_counts()"
   ]
  },
  {
   "cell_type": "code",
   "execution_count": 15,
   "id": "11b825e3",
   "metadata": {},
   "outputs": [],
   "source": [
    "le = LabelEncoder()\n",
    "car_data.label  = le.fit_transform(car_data.label )"
   ]
  },
  {
   "cell_type": "code",
   "execution_count": 16,
   "id": "3f477515",
   "metadata": {},
   "outputs": [],
   "source": [
    "car_data.label.value_counts()"
   ]
  },
  {
   "cell_type": "code",
   "execution_count": 17,
   "id": "66403ba3",
   "metadata": {},
   "outputs": [],
   "source": [
    "X_train,X_test,y_train,y_test = train_test_split(car_data.drop(columns=['label']),\n",
    "                                                 car_data['label'],\n",
    "                                                 test_size=0.2,\n",
    "                                                random_state=0)"
   ]
  },
  {
   "cell_type": "code",
   "execution_count": 18,
   "id": "59157045",
   "metadata": {},
   "outputs": [],
   "source": [
    "X_train"
   ]
  },
  {
   "cell_type": "code",
   "execution_count": 19,
   "id": "be227568",
   "metadata": {},
   "outputs": [],
   "source": [
    "ohe = OrdinalEncoder()\n",
    "ohe.fit(car_data[['buying', 'maint', 'lug_boot', 'safety', 'persons', 'doors']])"
   ]
  },
  {
   "cell_type": "code",
   "execution_count": 20,
   "id": "37782fff",
   "metadata": {},
   "outputs": [],
   "source": [
    "# columTransformer = ColumnTransformer(transformers=[\n",
    "#     ('tf1', OrdinalEncoder(categories=[['low', 'med','high','vhigh']]),['buying', 'maint']),\n",
    "#     ('tf2', OrdinalEncoder(categories=[['small', 'med', 'big']]),['lug_boot']),\n",
    "#     ('tf3', OrdinalEncoder(categories=[['low', 'med', 'high']]), ['safety']),\n",
    "#     ('tf6', OrdinalEncoder(categories=[['2', '4', 'more']]), ['persons']),\n",
    "#     ('tf7', OrdinalEncoder(categories=[['2', '3', '4','5more']]), ['doors'])\n",
    "# ], remainder='passthrough')\n",
    "\n",
    "columTransformer = ColumnTransformer(transformers=\n",
    "    [\n",
    "        ('tf1', OrdinalEncoder(categories=ohe.categories_),['buying', 'maint', 'lug_boot', 'safety', 'persons', 'doors'])\n",
    " \n",
    " ],\n",
    " remainder='passthrough')"
   ]
  },
  {
   "cell_type": "code",
   "execution_count": 21,
   "id": "b1e3ce44",
   "metadata": {},
   "outputs": [],
   "source": [
    "y_test"
   ]
  },
  {
   "cell_type": "code",
   "execution_count": 22,
   "id": "6d82e74a",
   "metadata": {},
   "outputs": [],
   "source": [
    "# min_max_trans = ColumnTransformer([\n",
    "#     ('tf5', MinMaxScaler(),slice(0,10))\n",
    "# ], remainder='passthrough')"
   ]
  },
  {
   "cell_type": "code",
   "execution_count": 23,
   "id": "52abde1e",
   "metadata": {},
   "outputs": [],
   "source": [
    "X_train = columTransformer.fit_transform(X_train)"
   ]
  },
  {
   "cell_type": "code",
   "execution_count": 24,
   "id": "f38eb5e6",
   "metadata": {},
   "outputs": [],
   "source": [
    "X_train"
   ]
  },
  {
   "cell_type": "code",
   "execution_count": 25,
   "id": "fbc01df2",
   "metadata": {
    "scrolled": true
   },
   "outputs": [],
   "source": [
    "X_test = columTransformer.fit_transform(X_test)"
   ]
  },
  {
   "cell_type": "code",
   "execution_count": 26,
   "id": "e974053e",
   "metadata": {},
   "outputs": [],
   "source": [
    "#Decision Tree Classifier\n",
    "\n",
    "tree = DecisionTreeClassifier()\n",
    "tree.fit(X_train, y_train)"
   ]
  },
  {
   "cell_type": "code",
   "execution_count": 27,
   "id": "a77cf661",
   "metadata": {},
   "outputs": [],
   "source": [
    "#Random Forest Classifier\n",
    "rf = RandomForestClassifier()\n",
    "rf.fit(X_train, y_train,100)\n",
    "y_pred = rf.predict(X_test)\n",
    "print(\"RandomForestClassifier\\n\", accuracy_score(y_pred, y_test))\n",
    "cm= confusion_matrix(y_pred, y_test)\n",
    "print(classification_report(y_pred, y_test))"
   ]
  },
  {
   "cell_type": "code",
   "execution_count": 28,
   "id": "a5b5e04e",
   "metadata": {},
   "outputs": [],
   "source": [
    "disp = ConfusionMatrixDisplay(confusion_matrix=cm, display_labels=rf.classes_)\n",
    "\n",
    "disp.plot()\n",
    "plt.xlabel('RandomForestClassifier')\n",
    "plt.show()"
   ]
  },
  {
   "cell_type": "code",
   "execution_count": 29,
   "id": "8fe640f4",
   "metadata": {},
   "outputs": [],
   "source": [
    "#Random Forest Classifier\n",
    "lr = LogisticRegression()\n",
    "lr.fit(X_train, y_train,100)\n",
    "y_pred = lr.predict(X_test)\n",
    "print(\"LogisticRegression\\n\", accuracy_score(y_pred, y_test))\n",
    "cm= confusion_matrix(y_pred, y_test)\n",
    "print(classification_report(y_pred, y_test))"
   ]
  },
  {
   "cell_type": "code",
   "execution_count": 30,
   "id": "442990e9",
   "metadata": {},
   "outputs": [],
   "source": [
    "disp = ConfusionMatrixDisplay(confusion_matrix=cm, display_labels=lr.classes_)\n",
    "disp.plot()\n",
    "plt.show()"
   ]
  },
  {
   "cell_type": "code",
   "execution_count": 31,
   "id": "7d8e1a20",
   "metadata": {},
   "outputs": [],
   "source": [
    "#Random Forest Classifier\n",
    "tree = DecisionTreeClassifier()\n",
    "tree.fit(X_train, y_train)\n",
    "y_pred = tree.predict(X_test)\n",
    "print(\"DecisionTreeClassifier\\n\", accuracy_score(y_pred, y_test))\n",
    "cm= confusion_matrix(y_pred, y_test)\n",
    "print(classification_report(y_pred, y_test))"
   ]
  },
  {
   "cell_type": "code",
   "execution_count": 32,
   "id": "30092ef3",
   "metadata": {},
   "outputs": [],
   "source": [
    "disp = ConfusionMatrixDisplay(confusion_matrix=cm, display_labels=tree.classes_)\n",
    "disp.plot()\n",
    "plt.show()"
   ]
  },
  {
   "cell_type": "code",
   "execution_count": 33,
   "id": "652d5bf3",
   "metadata": {},
   "outputs": [],
   "source": [
    "#Random Forest Classifier\n",
    "mlp = MLPClassifier()\n",
    "mlp.fit(X_train, y_train)\n",
    "y_pred = mlp.predict(X_test)\n",
    "print(\"MLPClassifier\\n\", accuracy_score(y_pred, y_test))\n",
    "print(confusion_matrix(y_pred, y_test))\n",
    "print(classification_report(y_pred, y_test))"
   ]
  },
  {
   "cell_type": "code",
   "execution_count": 34,
   "id": "c44e056b",
   "metadata": {},
   "outputs": [],
   "source": [
    "#Random Forest Classifier\n",
    "nb = CategoricalNB()\n",
    "nb.fit(X_train, y_train)\n",
    "y_pred = nb.predict(X_test)\n",
    "print(\"CategoricalNB\\n\", accuracy_score(y_pred, y_test))\n",
    "print(confusion_matrix(y_pred, y_test))\n",
    "print(classification_report(y_pred, y_test))"
   ]
  },
  {
   "cell_type": "code",
   "execution_count": 35,
   "id": "c1a2d5f2",
   "metadata": {},
   "outputs": [],
   "source": [
    "accuracy_score(y_pred, y_test)"
   ]
  },
  {
   "cell_type": "code",
   "execution_count": null,
   "id": "139c8d30",
   "metadata": {},
   "outputs": [],
   "source": []
  },
  {
   "cell_type": "code",
   "execution_count": 36,
   "id": "16f4b784",
   "metadata": {},
   "outputs": [],
   "source": [
    "confusion_matrix(y_pred, y_test)"
   ]
  },
  {
   "cell_type": "code",
   "execution_count": 37,
   "id": "effc78c1",
   "metadata": {},
   "outputs": [],
   "source": [
    "classification_report(y_pred, y_test)"
   ]
  },
  {
   "cell_type": "code",
   "execution_count": 38,
   "id": "9e5154f4",
   "metadata": {},
   "outputs": [],
   "source": []
  },
  {
   "cell_type": "code",
   "execution_count": null,
   "id": "ef51c1b7",
   "metadata": {},
   "outputs": [],
   "source": []
  }
 ],
 "metadata": {
  "kernelspec": {
   "display_name": "Python 3 (ipykernel)",
   "language": "python",
   "name": "python3"
  },
  "language_info": {
   "codemirror_mode": {
    "name": "ipython",
    "version": 3
   },
   "file_extension": ".py",
   "mimetype": "text/x-python",
   "name": "python",
   "nbconvert_exporter": "python",
   "pygments_lexer": "ipython3",
   "version": "3.11.3"
  }
 },
 "nbformat": 4,
 "nbformat_minor": 5
}

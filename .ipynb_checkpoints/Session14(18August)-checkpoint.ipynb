{
 "cells": [
  {
   "cell_type": "markdown",
   "id": "22bb9ecc",
   "metadata": {},
   "source": [
    "# GroupBy Objects"
   ]
  },
  {
   "cell_type": "code",
   "execution_count": null,
   "id": "3c1061bd",
   "metadata": {},
   "outputs": [],
   "source": [
    "import pandas as pd"
   ]
  },
  {
   "cell_type": "code",
   "execution_count": null,
   "id": "1c4f9529",
   "metadata": {},
   "outputs": [],
   "source": [
    "movies  = pd.read_csv('imdb-top-1000.csv')"
   ]
  },
  {
   "cell_type": "code",
   "execution_count": null,
   "id": "8d2cd852",
   "metadata": {},
   "outputs": [],
   "source": [
    "movies.head()"
   ]
  },
  {
   "cell_type": "code",
   "execution_count": null,
   "id": "6cf44f5e",
   "metadata": {},
   "outputs": [],
   "source": [
    "movies.shape"
   ]
  },
  {
   "cell_type": "code",
   "execution_count": null,
   "id": "bce7f757",
   "metadata": {},
   "outputs": [],
   "source": [
    "movies['Genre'].value_counts()"
   ]
  },
  {
   "cell_type": "code",
   "execution_count": null,
   "id": "6391bc6d",
   "metadata": {},
   "outputs": [],
   "source": [
    "movies[movies.Genre==\"Action\"]"
   ]
  },
  {
   "cell_type": "code",
   "execution_count": null,
   "id": "5fd6e665",
   "metadata": {},
   "outputs": [],
   "source": [
    "movies.groupby('Genre')"
   ]
  },
  {
   "cell_type": "code",
   "execution_count": null,
   "id": "d5b002a8",
   "metadata": {},
   "outputs": [],
   "source": [
    "movies.groupby('Genre').groups"
   ]
  },
  {
   "cell_type": "code",
   "execution_count": null,
   "id": "740cd229",
   "metadata": {},
   "outputs": [],
   "source": [
    "movies.groupby('Genre').get_group('Crime')"
   ]
  },
  {
   "cell_type": "code",
   "execution_count": null,
   "id": "ad650396",
   "metadata": {},
   "outputs": [],
   "source": [
    "movies.groupby('Genre').get_group('Animation')"
   ]
  },
  {
   "cell_type": "code",
   "execution_count": null,
   "id": "df44c555",
   "metadata": {},
   "outputs": [],
   "source": [
    "movies.groupby('Genre')['IMDB_Rating'].mean().sort_values(ascending=False).index[0]"
   ]
  },
  {
   "cell_type": "code",
   "execution_count": null,
   "id": "46a2ec3f",
   "metadata": {},
   "outputs": [],
   "source": [
    "movies.groupby('Genre')['IMDB_Rating'].mean().sort_values(ascending=False).index[-1]"
   ]
  },
  {
   "cell_type": "code",
   "execution_count": null,
   "id": "5a1c8f1f",
   "metadata": {},
   "outputs": [],
   "source": [
    "movies[movies.Released_Year=='1994']"
   ]
  },
  {
   "cell_type": "code",
   "execution_count": null,
   "id": "fe3dd59f",
   "metadata": {},
   "outputs": [],
   "source": [
    "movies.groupby('Released_Year')['Runtime'].max()"
   ]
  },
  {
   "cell_type": "code",
   "execution_count": null,
   "id": "ad79d48a",
   "metadata": {},
   "outputs": [],
   "source": [
    "movies.groupby('Genre')['No_of_Votes'].sum().sort_values(ascending=False).head(3)"
   ]
  },
  {
   "cell_type": "code",
   "execution_count": null,
   "id": "6c5d9dc2",
   "metadata": {},
   "outputs": [],
   "source": [
    "# movies.groupby('Director')['Gross'].max().sort_values(ascending=False).head(3)"
   ]
  },
  {
   "cell_type": "code",
   "execution_count": null,
   "id": "638d5415",
   "metadata": {},
   "outputs": [],
   "source": [
    "movies.groupby('Director')['Gross'].sum().sort_values(ascending=False).head(3)"
   ]
  },
  {
   "cell_type": "code",
   "execution_count": null,
   "id": "a124b9a2",
   "metadata": {},
   "outputs": [],
   "source": [
    "movies[movies['Genre']==\"Action\"].groupby('Star1').count().sort_values(by=\"Genre\", ascending=False).index[:2]"
   ]
  },
  {
   "cell_type": "code",
   "execution_count": null,
   "id": "edfe757b",
   "metadata": {},
   "outputs": [],
   "source": [
    "movies[movies['Genre']==\"Action\"].groupby('Star1')['Star1'].count().sort_values(ascending=False).head(3)"
   ]
  },
  {
   "cell_type": "code",
   "execution_count": null,
   "id": "93792a55",
   "metadata": {},
   "outputs": [],
   "source": [
    "movies.sort_values(by='Runtime', ascending=False).head(3)['Series_Title'].values"
   ]
  },
  {
   "cell_type": "markdown",
   "id": "aeddc46e",
   "metadata": {},
   "source": [
    "# Machine Learning  \n",
    "   - Supervised Learning \n",
    "       - Regression\n",
    "       - Classsification\n",
    "       \n",
    "   - Unsupervised Learning     \n",
    "       - Clustering \n",
    "       - Dimensionality Reduction\n",
    "       \n",
    "   - Reinforcement Learning \n",
    "       \n",
    "       \n",
    "       \n",
    "       "
   ]
  },
  {
   "cell_type": "code",
   "execution_count": null,
   "id": "1bed0ddd",
   "metadata": {},
   "outputs": [],
   "source": [
    "data = pd.read_csv('weight-height.csv')"
   ]
  },
  {
   "cell_type": "code",
   "execution_count": null,
   "id": "985c73b8",
   "metadata": {},
   "outputs": [],
   "source": [
    "data"
   ]
  },
  {
   "cell_type": "code",
   "execution_count": null,
   "id": "df1bb0a3",
   "metadata": {},
   "outputs": [],
   "source": [
    "import matplotlib.pyplot as plt"
   ]
  },
  {
   "cell_type": "code",
   "execution_count": null,
   "id": "d29c33b4",
   "metadata": {},
   "outputs": [],
   "source": [
    "plt.scatter(data['Height'], data['Weight'])"
   ]
  },
  {
   "cell_type": "code",
   "execution_count": null,
   "id": "b748793c",
   "metadata": {},
   "outputs": [],
   "source": [
    "data.corr()"
   ]
  },
  {
   "cell_type": "code",
   "execution_count": null,
   "id": "c712c79a",
   "metadata": {},
   "outputs": [],
   "source": [
    "X  = data[['Height']]\n",
    "y = data.Weight.values\n"
   ]
  },
  {
   "cell_type": "code",
   "execution_count": null,
   "id": "e0c51031",
   "metadata": {},
   "outputs": [],
   "source": [
    "X.ndim"
   ]
  },
  {
   "cell_type": "code",
   "execution_count": null,
   "id": "9f67b639",
   "metadata": {},
   "outputs": [],
   "source": [
    "def line(m,c):\n",
    "    y = m*X+c\n",
    "    return y"
   ]
  },
  {
   "cell_type": "code",
   "execution_count": null,
   "id": "50fae33c",
   "metadata": {},
   "outputs": [],
   "source": [
    "y_predict = line(7.7,-350.7)"
   ]
  },
  {
   "cell_type": "code",
   "execution_count": null,
   "id": "014a2f48",
   "metadata": {},
   "outputs": [],
   "source": [
    "plt.scatter(data['Height'], data['Weight'])\n",
    "plt.scatter(X,y_predict)"
   ]
  },
  {
   "cell_type": "code",
   "execution_count": null,
   "id": "ef31692e",
   "metadata": {},
   "outputs": [],
   "source": [
    "from sklearn.metrics import mean_squared_error"
   ]
  },
  {
   "cell_type": "code",
   "execution_count": null,
   "id": "71889d66",
   "metadata": {},
   "outputs": [],
   "source": [
    "mean_squared_error(y,predictions)"
   ]
  },
  {
   "cell_type": "code",
   "execution_count": null,
   "id": "758d6602",
   "metadata": {},
   "outputs": [],
   "source": [
    "from sklearn.metrics import r2_score\n",
    "r2_score(y,predictions)"
   ]
  },
  {
   "cell_type": "code",
   "execution_count": null,
   "id": "4e4ed75b",
   "metadata": {},
   "outputs": [],
   "source": [
    "from sklearn.linear_model import LinearRegression\n",
    "regressor = LinearRegression()"
   ]
  },
  {
   "cell_type": "code",
   "execution_count": null,
   "id": "b3b3b8ab",
   "metadata": {},
   "outputs": [],
   "source": [
    "regressor.fit(X, y)"
   ]
  },
  {
   "cell_type": "code",
   "execution_count": null,
   "id": "fa2a8d66",
   "metadata": {},
   "outputs": [],
   "source": [
    "predictions = regressor.predict(X)"
   ]
  },
  {
   "cell_type": "code",
   "execution_count": null,
   "id": "a18729ec",
   "metadata": {},
   "outputs": [],
   "source": [
    "predictions"
   ]
  },
  {
   "cell_type": "code",
   "execution_count": null,
   "id": "665d3e8c",
   "metadata": {},
   "outputs": [],
   "source": [
    "plt.scatter(data['Height'], data['Weight'])\n",
    "plt.scatter(X,predictions)"
   ]
  },
  {
   "cell_type": "code",
   "execution_count": null,
   "id": "8d97b3f7",
   "metadata": {},
   "outputs": [],
   "source": [
    "regressor.coef_"
   ]
  },
  {
   "cell_type": "code",
   "execution_count": null,
   "id": "644992f4",
   "metadata": {},
   "outputs": [],
   "source": [
    "regressor.intercept_"
   ]
  },
  {
   "cell_type": "code",
   "execution_count": null,
   "id": "a405ab0a",
   "metadata": {},
   "outputs": [],
   "source": [
    "regressor.predict([[71]])"
   ]
  },
  {
   "cell_type": "code",
   "execution_count": null,
   "id": "15273ee6",
   "metadata": {},
   "outputs": [],
   "source": [
    "import numpy as np\n",
    "test=  np.array([[67],[70],[75],[65],[50],[80]])\n",
    "test"
   ]
  },
  {
   "cell_type": "code",
   "execution_count": null,
   "id": "0ef13388",
   "metadata": {},
   "outputs": [],
   "source": [
    "regressor.predict(test)"
   ]
  },
  {
   "cell_type": "code",
   "execution_count": null,
   "id": "1122c9ce",
   "metadata": {},
   "outputs": [],
   "source": []
  }
 ],
 "metadata": {
  "kernelspec": {
   "display_name": "Python 3 (ipykernel)",
   "language": "python",
   "name": "python3"
  },
  "language_info": {
   "codemirror_mode": {
    "name": "ipython",
    "version": 3
   },
   "file_extension": ".py",
   "mimetype": "text/x-python",
   "name": "python",
   "nbconvert_exporter": "python",
   "pygments_lexer": "ipython3",
   "version": "3.11.3"
  }
 },
 "nbformat": 4,
 "nbformat_minor": 5
}

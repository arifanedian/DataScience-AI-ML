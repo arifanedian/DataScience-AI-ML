{
 "cells": [
  {
   "cell_type": "code",
   "execution_count": 9,
   "id": "c059b9cc",
   "metadata": {},
   "outputs": [],
   "source": [
    "class Laptop:\n",
    "    #attributes\n",
    "    make = \"Lenovo\"\n",
    "    ram = \"16gb\"\n",
    "    color = \"black\"\n",
    "    processor = \"corei3\"\n",
    "    generation = \"5th\"\n",
    "    \n",
    "    #behaviors\n",
    "    def bootup(self):\n",
    "        print(\"Laptop is booting up\")\n",
    "    def shutdown(self):\n",
    "        print(\"Laptop is shutting down\")\n",
    "    def runapp(self):\n",
    "        print(\"MS word is running\")"
   ]
  },
  {
   "cell_type": "code",
   "execution_count": 10,
   "id": "f72f4949",
   "metadata": {},
   "outputs": [],
   "source": [
    "new_laptop = Laptop()"
   ]
  },
  {
   "cell_type": "code",
   "execution_count": 11,
   "id": "79ebd424",
   "metadata": {},
   "outputs": [
    {
     "name": "stdout",
     "output_type": "stream",
     "text": [
      "Laptop is booting up\n"
     ]
    }
   ],
   "source": [
    "new_laptop.bootup()"
   ]
  },
  {
   "cell_type": "code",
   "execution_count": 12,
   "id": "f4e3982e",
   "metadata": {},
   "outputs": [
    {
     "data": {
      "text/plain": [
       "'16gb'"
      ]
     },
     "execution_count": 12,
     "metadata": {},
     "output_type": "execute_result"
    }
   ],
   "source": [
    "new_laptop.ram"
   ]
  },
  {
   "cell_type": "code",
   "execution_count": 13,
   "id": "5e2724b3",
   "metadata": {},
   "outputs": [
    {
     "name": "stdout",
     "output_type": "stream",
     "text": [
      "Laptop is shutting down\n"
     ]
    }
   ],
   "source": [
    "new_laptop.shutdown()"
   ]
  },
  {
   "cell_type": "code",
   "execution_count": 17,
   "id": "0c28ae57",
   "metadata": {},
   "outputs": [],
   "source": [
    "class Laptop():\n",
    "    def __init__(self,color,ram,make,processor,generation,model):\n",
    "        self.color = color\n",
    "        self.ram = ram\n",
    "        self.make = make\n",
    "        self.processor = processor\n",
    "        self.generation = generation\n",
    "        self.model = model\n",
    "    \n",
    "    def specs(self):\n",
    "        print(f\"\"\"\n",
    "            Laptop Specifications\n",
    "            _____________________\n",
    "            Color : {self.color}\n",
    "            Ram   : {self.ram}\n",
    "            Make  : {self.make}\n",
    "            Processor : {self.processor}\n",
    "            Generation : {self.generation}\n",
    "            Model : {self.model}\n",
    "            \n",
    "        \"\"\")\n",
    "        "
   ]
  },
  {
   "cell_type": "code",
   "execution_count": 18,
   "id": "87755f07",
   "metadata": {},
   "outputs": [],
   "source": [
    "lpt1 = Laptop('blue','16gb','HP','corei5','5th','ABC')"
   ]
  },
  {
   "cell_type": "code",
   "execution_count": 19,
   "id": "9c57a745",
   "metadata": {},
   "outputs": [
    {
     "name": "stdout",
     "output_type": "stream",
     "text": [
      "\n",
      "            Laptop Specifications\n",
      "            _____________________\n",
      "            Color : blue\n",
      "            Ram   : 16gb\n",
      "            Make  : HP\n",
      "            Processor : corei5\n",
      "            Generation : 5th\n",
      "            Model : ABC\n",
      "            \n",
      "        \n"
     ]
    }
   ],
   "source": [
    "lpt1.specs()"
   ]
  },
  {
   "cell_type": "code",
   "execution_count": 20,
   "id": "0aeaf2d2",
   "metadata": {},
   "outputs": [
    {
     "name": "stdout",
     "output_type": "stream",
     "text": [
      "\n",
      "            Laptop Specifications\n",
      "            _____________________\n",
      "            Color : blue\n",
      "            Ram   : 16gb\n",
      "            Make  : HP\n",
      "            Processor : corei5\n",
      "            Generation : 5th\n",
      "            Model : ABC\n",
      "            \n",
      "        \n"
     ]
    }
   ],
   "source": [
    "#This syntax is not recommended but written for understanding\n",
    "Laptop.specs(lpt1)"
   ]
  },
  {
   "cell_type": "code",
   "execution_count": 29,
   "id": "1f9ad74a",
   "metadata": {},
   "outputs": [],
   "source": [
    "class Laptop():\n",
    "    def __init__(self,color=\"\",ram=\"\",make=\"\",processor=\"\",generation=\"\",model=\"\"):\n",
    "        self.color = color\n",
    "        self.ram = ram\n",
    "        self.make = make\n",
    "        self.processor = processor\n",
    "        self.generation = generation\n",
    "        self.model = model\n",
    "    \n",
    "    def specs(self):\n",
    "        print(f\"\"\"\n",
    "            Laptop Specifications\n",
    "            _____________________\n",
    "            Color : {self.color}\n",
    "            Ram   : {self.ram}\n",
    "            Make  : {self.make}\n",
    "            Processor : {self.processor}\n",
    "            Generation : {self.generation}\n",
    "            Model : {self.model}\n",
    "            \n",
    "        \"\"\")"
   ]
  },
  {
   "cell_type": "code",
   "execution_count": 30,
   "id": "04d917a1",
   "metadata": {},
   "outputs": [],
   "source": [
    "newlaptop = Laptop()"
   ]
  },
  {
   "cell_type": "code",
   "execution_count": 31,
   "id": "cd8f2279",
   "metadata": {},
   "outputs": [
    {
     "name": "stdout",
     "output_type": "stream",
     "text": [
      "\n",
      "            Laptop Specifications\n",
      "            _____________________\n",
      "            Color : \n",
      "            Ram   : \n",
      "            Make  : \n",
      "            Processor : \n",
      "            Generation : \n",
      "            Model : \n",
      "            \n",
      "        \n"
     ]
    }
   ],
   "source": [
    "newlaptop.specs()"
   ]
  },
  {
   "cell_type": "markdown",
   "id": "f13a77a3",
   "metadata": {},
   "source": [
    "# Encapsulation"
   ]
  },
  {
   "cell_type": "code",
   "execution_count": 43,
   "id": "9d9441a7",
   "metadata": {},
   "outputs": [],
   "source": [
    "class Student:\n",
    "    def __init__(self,rollno=\"\",name=\"\",batch=\"\",university_name=\"\"):\n",
    "        self.rollno = rollno\n",
    "        self.name = name\n",
    "        self.batch = batch\n",
    "        self.university_name = university_name\n",
    "    \n",
    "    def studentInfo(self):\n",
    "        print(f\"\"\"\n",
    "            Student Information Cell\n",
    "            ________________________\n",
    "            Student Rollno : {self.rollno}\n",
    "            Student Name   : {self.name}\n",
    "            Student Batch  : {self.batch}\n",
    "            Student Uni    : {self.university_name}\n",
    "        \"\"\")\n",
    "    def get_rollno(self):\n",
    "        return self.rollno\n",
    "    \n",
    "    def get_name(self):\n",
    "        return self.name\n",
    "    \n",
    "    def get_batch(self):\n",
    "        return self.batch\n",
    "    \n",
    "    def get_uni(self):\n",
    "        return self.university_name\n",
    "    \n",
    "    def set_rollno(self,rollno):\n",
    "        self.rollno = rollno\n",
    "        \n",
    "    def set_name(self,name):\n",
    "        self.name = name\n",
    "        \n",
    "    def set_batch(self,batch):\n",
    "        self.batch = batch\n",
    "        \n",
    "    def set_uni(self,university_name):\n",
    "        self.university_name = university_name"
   ]
  },
  {
   "cell_type": "code",
   "execution_count": 44,
   "id": "b09bcbce",
   "metadata": {},
   "outputs": [],
   "source": [
    "std1 = Student()"
   ]
  },
  {
   "cell_type": "code",
   "execution_count": 45,
   "id": "09ac6765",
   "metadata": {},
   "outputs": [
    {
     "name": "stdout",
     "output_type": "stream",
     "text": [
      "\n",
      "            Student Information Cell\n",
      "            ________________________\n",
      "            Student Rollno : cs101053\n",
      "            Student Name   : Arifa\n",
      "            Student Batch  : 2010-2011\n",
      "            Student Uni    : Ned University\n",
      "        \n"
     ]
    }
   ],
   "source": [
    "std1.set_name(\"Arifa\")\n",
    "std1.set_batch(\"2010-2011\")\n",
    "std1.set_rollno(\"cs101053\")\n",
    "std1.set_uni(\"Ned University\")\n",
    "std1.studentInfo()"
   ]
  },
  {
   "cell_type": "code",
   "execution_count": 46,
   "id": "6673166e",
   "metadata": {},
   "outputs": [
    {
     "data": {
      "text/plain": [
       "'2010-2011'"
      ]
     },
     "execution_count": 46,
     "metadata": {},
     "output_type": "execute_result"
    }
   ],
   "source": [
    "std1.get_batch()"
   ]
  },
  {
   "cell_type": "code",
   "execution_count": 47,
   "id": "7dbf1965",
   "metadata": {},
   "outputs": [],
   "source": [
    "import Student"
   ]
  },
  {
   "cell_type": "code",
   "execution_count": 51,
   "id": "96323b25",
   "metadata": {},
   "outputs": [],
   "source": [
    "std2 = Student.Student()"
   ]
  },
  {
   "cell_type": "code",
   "execution_count": 52,
   "id": "2f0b11f9",
   "metadata": {},
   "outputs": [
    {
     "name": "stdout",
     "output_type": "stream",
     "text": [
      "\n",
      "            Student Information Cell\n",
      "            ________________________\n",
      "            Student Rollno : \n",
      "            Student Name   : \n",
      "            Student Batch  : \n",
      "            Student Uni    : \n",
      "        \n"
     ]
    }
   ],
   "source": [
    "std2.studentInfo()"
   ]
  },
  {
   "cell_type": "code",
   "execution_count": 53,
   "id": "91967133",
   "metadata": {},
   "outputs": [],
   "source": [
    "std3 = Student.Student(\"cs191091\",\"Arifa\",\"2013-2014\",\"Dha Suffa University\")"
   ]
  },
  {
   "cell_type": "code",
   "execution_count": 54,
   "id": "7b24fbd7",
   "metadata": {},
   "outputs": [
    {
     "name": "stdout",
     "output_type": "stream",
     "text": [
      "\n",
      "            Student Information Cell\n",
      "            ________________________\n",
      "            Student Rollno : cs191091\n",
      "            Student Name   : Arifa\n",
      "            Student Batch  : 2013-2014\n",
      "            Student Uni    : Dha Suffa University\n",
      "        \n"
     ]
    }
   ],
   "source": [
    "std3.studentInfo()"
   ]
  },
  {
   "cell_type": "code",
   "execution_count": 73,
   "id": "aafc907f",
   "metadata": {},
   "outputs": [
    {
     "name": "stdout",
     "output_type": "stream",
     "text": [
      "\n",
      "            Student Information Cell\n",
      "            ________________________\n",
      "            Student Rollno : cs191091\n",
      "            Student Name   : abc\n",
      "            Student Batch  : 2013-2014\n",
      "            Student Uni    : Dha Suffa University\n",
      "        \n"
     ]
    }
   ],
   "source": [
    "std3.name = \"abc\"\n",
    "std3.get_name()\n",
    "\n",
    "std3.studentInfo()"
   ]
  },
  {
   "cell_type": "code",
   "execution_count": 66,
   "id": "a2480298",
   "metadata": {},
   "outputs": [],
   "source": [
    "#Write a Python program to create a class representing a Circle. Include methods to calculate \n",
    "#its area and perimeter.\n",
    "\n",
    "class Circle:\n",
    "    def __init__(self,radius):\n",
    "        self.radius = radius\n",
    "    ''' Area would be calculated on the basis of radius already initiazed in the class definition'''\n",
    "    def area(self):\n",
    "        return 3.14*self.radius**2\n",
    "    def perimeter(self):\n",
    "        return 2*3.14*self.radius"
   ]
  },
  {
   "cell_type": "code",
   "execution_count": 67,
   "id": "fac94c6a",
   "metadata": {},
   "outputs": [],
   "source": [
    "c = Circle(5.5)"
   ]
  },
  {
   "cell_type": "code",
   "execution_count": 68,
   "id": "f288f702",
   "metadata": {},
   "outputs": [
    {
     "data": {
      "text/plain": [
       "94.985"
      ]
     },
     "execution_count": 68,
     "metadata": {},
     "output_type": "execute_result"
    }
   ],
   "source": [
    "c.area()"
   ]
  },
  {
   "cell_type": "markdown",
   "id": "c7e42291",
   "metadata": {},
   "source": [
    "# Inheritance"
   ]
  },
  {
   "cell_type": "code",
   "execution_count": 105,
   "id": "7aa39131",
   "metadata": {},
   "outputs": [],
   "source": [
    "class Battery():\n",
    "    def __init__(self,manuf=\"\",amp=\"\",backup=\"\",cells=\"\"):\n",
    "        self.manuf = manuf\n",
    "        self.amp = amp\n",
    "        self.backup = backup\n",
    "        self.cells = cells\n",
    "    def battery_desc(self):\n",
    "        print(f\"\"\"\n",
    "            Battery Spec\n",
    "            ____________\n",
    "            Manufacturer : {self.manuf}\n",
    "            Ampere : {self.amp}\n",
    "            Backup : {self.backup}\n",
    "            Cells : {self.cells}\n",
    "        \"\"\")"
   ]
  },
  {
   "cell_type": "code",
   "execution_count": 106,
   "id": "ecfe4ffe",
   "metadata": {},
   "outputs": [],
   "source": [
    "class Car():\n",
    "    def __init__(self,model,make,capacity,battery):\n",
    "        self.model = model\n",
    "        self.make = make\n",
    "        self.capacity = capacity\n",
    "        self.odometer_reading = 0\n",
    "        self.battery = battery\n",
    "        \n",
    "    def fuel_tank(self):\n",
    "        print(\"Fuel tank is full -- am joking :D\")\n",
    "    def get_mileage(self):\n",
    "        print(f\"{self.make} car has travelled {self.odometer_reading}km \")\n",
    "    def set_mileage(self,new_reading):\n",
    "        if new_reading > self.odometer_reading:\n",
    "            self.odometer_reading = new_reading\n",
    "        else:\n",
    "            print(\"Car meter cannot be reset\")\n",
    "    def describe_car(self):\n",
    "        print(self.make, self.model, self.capacity,self.odometer_reading)\n"
   ]
  },
  {
   "cell_type": "code",
   "execution_count": 97,
   "id": "7a66bdd7",
   "metadata": {},
   "outputs": [],
   "source": [
    "class Electric_Car(Car):\n",
    "    def fuel_tank(self):\n",
    "        print(\"electric car has no fuel tank\")"
   ]
  },
  {
   "cell_type": "code",
   "execution_count": 120,
   "id": "638b0a21",
   "metadata": {},
   "outputs": [],
   "source": [
    "car1 = Car(\"2023\",\"Honda\",\"5\",\"abc\")"
   ]
  },
  {
   "cell_type": "code",
   "execution_count": null,
   "id": "4d122eef",
   "metadata": {},
   "outputs": [],
   "source": []
  },
  {
   "cell_type": "code",
   "execution_count": null,
   "id": "b139b8b7",
   "metadata": {},
   "outputs": [],
   "source": []
  },
  {
   "cell_type": "code",
   "execution_count": 109,
   "id": "fb70dad4",
   "metadata": {},
   "outputs": [
    {
     "name": "stdout",
     "output_type": "stream",
     "text": [
      "Honda car has travelled 0km \n"
     ]
    }
   ],
   "source": [
    "car1.get_mileage()"
   ]
  },
  {
   "cell_type": "code",
   "execution_count": 110,
   "id": "e6d9f527",
   "metadata": {},
   "outputs": [],
   "source": [
    "car1.set_mileage(1000)"
   ]
  },
  {
   "cell_type": "code",
   "execution_count": 111,
   "id": "5948edbc",
   "metadata": {},
   "outputs": [
    {
     "name": "stdout",
     "output_type": "stream",
     "text": [
      "Honda car has travelled 1000km \n"
     ]
    }
   ],
   "source": [
    "car1.get_mileage()"
   ]
  },
  {
   "cell_type": "code",
   "execution_count": 112,
   "id": "e478d7bb",
   "metadata": {},
   "outputs": [],
   "source": [
    "ec1 = Electric_Car(\"Tesla2023\",\"Tesla\",4)"
   ]
  },
  {
   "cell_type": "code",
   "execution_count": 90,
   "id": "f4727c1b",
   "metadata": {},
   "outputs": [
    {
     "name": "stdout",
     "output_type": "stream",
     "text": [
      "Tesla Tesla2023 4 0\n"
     ]
    }
   ],
   "source": [
    "ec1.describe_car()"
   ]
  },
  {
   "cell_type": "code",
   "execution_count": 91,
   "id": "9615a82b",
   "metadata": {},
   "outputs": [
    {
     "name": "stdout",
     "output_type": "stream",
     "text": [
      "Tesla car has travelled 0km \n"
     ]
    }
   ],
   "source": [
    "ec1.get_mileage()"
   ]
  },
  {
   "cell_type": "code",
   "execution_count": 92,
   "id": "ce3152c8",
   "metadata": {},
   "outputs": [],
   "source": [
    "ec1.set_mileage(20)"
   ]
  },
  {
   "cell_type": "code",
   "execution_count": 93,
   "id": "2f21e8af",
   "metadata": {},
   "outputs": [
    {
     "name": "stdout",
     "output_type": "stream",
     "text": [
      "Tesla car has travelled 20km \n"
     ]
    }
   ],
   "source": [
    "ec1.get_mileage()"
   ]
  },
  {
   "cell_type": "code",
   "execution_count": 100,
   "id": "b9e5fe59",
   "metadata": {},
   "outputs": [
    {
     "name": "stdout",
     "output_type": "stream",
     "text": [
      "electric car has no fuel tank\n"
     ]
    }
   ],
   "source": [
    "ec1.fuel_tank()"
   ]
  },
  {
   "cell_type": "code",
   "execution_count": null,
   "id": "029200b4",
   "metadata": {},
   "outputs": [],
   "source": []
  },
  {
   "cell_type": "markdown",
   "id": "cadc1e81",
   "metadata": {},
   "source": [
    "# Instance as Attribute"
   ]
  },
  {
   "cell_type": "code",
   "execution_count": 117,
   "id": "1caaca6a",
   "metadata": {},
   "outputs": [],
   "source": [
    "class Node():\n",
    "    def __init__(self,data,node):\n",
    "        self.data = data\n",
    "        self.node = node"
   ]
  },
  {
   "cell_type": "code",
   "execution_count": null,
   "id": "baf15df8",
   "metadata": {},
   "outputs": [],
   "source": [
    "class LinkedList():\n",
    "    def __init__(self,head):\n",
    "        self.head = head\n",
    "    def insert_node"
   ]
  }
 ],
 "metadata": {
  "kernelspec": {
   "display_name": "Python 3 (ipykernel)",
   "language": "python",
   "name": "python3"
  },
  "language_info": {
   "codemirror_mode": {
    "name": "ipython",
    "version": 3
   },
   "file_extension": ".py",
   "mimetype": "text/x-python",
   "name": "python",
   "nbconvert_exporter": "python",
   "pygments_lexer": "ipython3",
   "version": "3.11.3"
  }
 },
 "nbformat": 4,
 "nbformat_minor": 5
}

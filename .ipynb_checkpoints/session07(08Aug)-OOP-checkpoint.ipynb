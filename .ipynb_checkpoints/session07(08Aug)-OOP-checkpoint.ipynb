{
 "cells": [
  {
   "cell_type": "code",
   "execution_count": 9,
   "id": "90493e61",
   "metadata": {},
   "outputs": [],
   "source": [
    "class Laptop:\n",
    "    #attributes\n",
    "    make = \"Lenovo\"\n",
    "    ram = \"16gb\"\n",
    "    color = \"black\"\n",
    "    processor = \"corei3\"\n",
    "    generation = \"5th\"\n",
    "    \n",
    "    #behaviors\n",
    "    def bootup(self):\n",
    "        print(\"Laptop is booting up\")\n",
    "    def shutdown(self):\n",
    "        print(\"Laptop is shutting down\")\n",
    "    def runapp(self):\n",
    "        print(\"MS word is running\")"
   ]
  },
  {
   "cell_type": "code",
   "execution_count": 10,
   "id": "c2053adf",
   "metadata": {},
   "outputs": [],
   "source": [
    "new_laptop = Laptop()"
   ]
  },
  {
   "cell_type": "code",
   "execution_count": 11,
   "id": "ae7d8031",
   "metadata": {},
   "outputs": [
    {
     "name": "stdout",
     "output_type": "stream",
     "text": [
      "Laptop is booting up\n"
     ]
    }
   ],
   "source": [
    "new_laptop.bootup()"
   ]
  },
  {
   "cell_type": "code",
   "execution_count": 12,
   "id": "ee385b78",
   "metadata": {},
   "outputs": [
    {
     "data": {
      "text/plain": [
       "'16gb'"
      ]
     },
     "execution_count": 12,
     "metadata": {},
     "output_type": "execute_result"
    }
   ],
   "source": [
    "new_laptop.ram"
   ]
  },
  {
   "cell_type": "code",
   "execution_count": 13,
   "id": "59e74797",
   "metadata": {},
   "outputs": [
    {
     "name": "stdout",
     "output_type": "stream",
     "text": [
      "Laptop is shutting down\n"
     ]
    }
   ],
   "source": [
    "new_laptop.shutdown()"
   ]
  },
  {
   "cell_type": "code",
   "execution_count": 17,
   "id": "be276249",
   "metadata": {},
   "outputs": [],
   "source": [
    "class Laptop():\n",
    "    def __init__(self,color,ram,make,processor,generation,model):\n",
    "        self.color = color\n",
    "        self.ram = ram\n",
    "        self.make = make\n",
    "        self.processor = processor\n",
    "        self.generation = generation\n",
    "        self.model = model\n",
    "    \n",
    "    def specs(self):\n",
    "        print(f\"\"\"\n",
    "            Laptop Specifications\n",
    "            _____________________\n",
    "            Color : {self.color}\n",
    "            Ram   : {self.ram}\n",
    "            Make  : {self.make}\n",
    "            Processor : {self.processor}\n",
    "            Generation : {self.generation}\n",
    "            Model : {self.model}\n",
    "            \n",
    "        \"\"\")\n",
    "        "
   ]
  },
  {
   "cell_type": "code",
   "execution_count": 18,
   "id": "85be07f4",
   "metadata": {},
   "outputs": [],
   "source": [
    "lpt1 = Laptop('blue','16gb','HP','corei5','5th','ABC')"
   ]
  },
  {
   "cell_type": "code",
   "execution_count": 19,
   "id": "ae555ac1",
   "metadata": {},
   "outputs": [
    {
     "name": "stdout",
     "output_type": "stream",
     "text": [
      "\n",
      "            Laptop Specifications\n",
      "            _____________________\n",
      "            Color : blue\n",
      "            Ram   : 16gb\n",
      "            Make  : HP\n",
      "            Processor : corei5\n",
      "            Generation : 5th\n",
      "            Model : ABC\n",
      "            \n",
      "        \n"
     ]
    }
   ],
   "source": [
    "lpt1.specs()"
   ]
  },
  {
   "cell_type": "code",
   "execution_count": 20,
   "id": "a63bbef4",
   "metadata": {},
   "outputs": [
    {
     "name": "stdout",
     "output_type": "stream",
     "text": [
      "\n",
      "            Laptop Specifications\n",
      "            _____________________\n",
      "            Color : blue\n",
      "            Ram   : 16gb\n",
      "            Make  : HP\n",
      "            Processor : corei5\n",
      "            Generation : 5th\n",
      "            Model : ABC\n",
      "            \n",
      "        \n"
     ]
    }
   ],
   "source": [
    "#This syntax is not recommended but written for understanding\n",
    "Laptop.specs(lpt1)"
   ]
  },
  {
   "cell_type": "code",
   "execution_count": 29,
   "id": "20b2d826",
   "metadata": {},
   "outputs": [],
   "source": [
    "class Laptop():\n",
    "    def __init__(self,color=\"\",ram=\"\",make=\"\",processor=\"\",generation=\"\",model=\"\"):\n",
    "        self.color = color\n",
    "        self.ram = ram\n",
    "        self.make = make\n",
    "        self.processor = processor\n",
    "        self.generation = generation\n",
    "        self.model = model\n",
    "    \n",
    "    def specs(self):\n",
    "        print(f\"\"\"\n",
    "            Laptop Specifications\n",
    "            _____________________\n",
    "            Color : {self.color}\n",
    "            Ram   : {self.ram}\n",
    "            Make  : {self.make}\n",
    "            Processor : {self.processor}\n",
    "            Generation : {self.generation}\n",
    "            Model : {self.model}\n",
    "            \n",
    "        \"\"\")"
   ]
  },
  {
   "cell_type": "code",
   "execution_count": 30,
   "id": "120ccc6a",
   "metadata": {},
   "outputs": [],
   "source": [
    "newlaptop = Laptop()"
   ]
  },
  {
   "cell_type": "code",
   "execution_count": 31,
   "id": "6036bf14",
   "metadata": {},
   "outputs": [
    {
     "name": "stdout",
     "output_type": "stream",
     "text": [
      "\n",
      "            Laptop Specifications\n",
      "            _____________________\n",
      "            Color : \n",
      "            Ram   : \n",
      "            Make  : \n",
      "            Processor : \n",
      "            Generation : \n",
      "            Model : \n",
      "            \n",
      "        \n"
     ]
    }
   ],
   "source": [
    "newlaptop.specs()"
   ]
  },
  {
   "cell_type": "code",
   "execution_count": 43,
   "id": "107a9d79",
   "metadata": {},
   "outputs": [],
   "source": [
    "class Student:\n",
    "    def __init__(self,rollno=\"\",name=\"\",batch=\"\",university_name=\"\"):\n",
    "        self.rollno = rollno\n",
    "        self.name = name\n",
    "        self.batch = batch\n",
    "        self.university_name = university_name\n",
    "    \n",
    "    def studentInfo(self):\n",
    "        print(f\"\"\"\n",
    "            Student Information Cell\n",
    "            ________________________\n",
    "            Student Rollno : {self.rollno}\n",
    "            Student Name   : {self.name}\n",
    "            Student Batch  : {self.batch}\n",
    "            Student Uni    : {self.university_name}\n",
    "        \"\"\")\n",
    "    def get_rollno(self):\n",
    "        return self.rollno\n",
    "    \n",
    "    def get_name(self):\n",
    "        return self.name\n",
    "    \n",
    "    def get_batch(self):\n",
    "        return self.batch\n",
    "    \n",
    "    def get_uni(self):\n",
    "        return self.university_name\n",
    "    \n",
    "    def set_rollno(self,rollno):\n",
    "        self.rollno = rollno\n",
    "        \n",
    "    def set_name(self,name):\n",
    "        self.name = name\n",
    "        \n",
    "    def set_batch(self,batch):\n",
    "        self.batch = batch\n",
    "        \n",
    "    def set_uni(self,university_name):\n",
    "        self.university_name = university_name"
   ]
  },
  {
   "cell_type": "code",
   "execution_count": 44,
   "id": "6b52f5d0",
   "metadata": {},
   "outputs": [],
   "source": [
    "std1 = Student()"
   ]
  },
  {
   "cell_type": "code",
   "execution_count": 45,
   "id": "f9478337",
   "metadata": {},
   "outputs": [
    {
     "name": "stdout",
     "output_type": "stream",
     "text": [
      "\n",
      "            Student Information Cell\n",
      "            ________________________\n",
      "            Student Rollno : cs101053\n",
      "            Student Name   : Arifa\n",
      "            Student Batch  : 2010-2011\n",
      "            Student Uni    : Ned University\n",
      "        \n"
     ]
    }
   ],
   "source": [
    "std1.set_name(\"Arifa\")\n",
    "std1.set_batch(\"2010-2011\")\n",
    "std1.set_rollno(\"cs101053\")\n",
    "std1.set_uni(\"Ned University\")\n",
    "std1.studentInfo()"
   ]
  },
  {
   "cell_type": "code",
   "execution_count": 46,
   "id": "619a0ac3",
   "metadata": {},
   "outputs": [
    {
     "data": {
      "text/plain": [
       "'2010-2011'"
      ]
     },
     "execution_count": 46,
     "metadata": {},
     "output_type": "execute_result"
    }
   ],
   "source": [
    "std1.get_batch()"
   ]
  },
  {
   "cell_type": "code",
   "execution_count": 47,
   "id": "4248b9b4",
   "metadata": {},
   "outputs": [],
   "source": [
    "import Student"
   ]
  },
  {
   "cell_type": "code",
   "execution_count": 51,
   "id": "2830030b",
   "metadata": {},
   "outputs": [],
   "source": [
    "std2 = Student.Student()"
   ]
  },
  {
   "cell_type": "code",
   "execution_count": null,
   "id": "60dda2c5",
   "metadata": {},
   "outputs": [],
   "source": []
  }
 ],
 "metadata": {
  "kernelspec": {
   "display_name": "Python 3 (ipykernel)",
   "language": "python",
   "name": "python3"
  },
  "language_info": {
   "codemirror_mode": {
    "name": "ipython",
    "version": 3
   },
   "file_extension": ".py",
   "mimetype": "text/x-python",
   "name": "python",
   "nbconvert_exporter": "python",
   "pygments_lexer": "ipython3",
   "version": "3.11.3"
  }
 },
 "nbformat": 4,
 "nbformat_minor": 5
}

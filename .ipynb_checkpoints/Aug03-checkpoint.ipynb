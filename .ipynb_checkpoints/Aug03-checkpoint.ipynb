{
 "cells": [
  {
   "cell_type": "markdown",
   "id": "166d9862",
   "metadata": {},
   "source": [
    "## Control Flow\n",
    "#### Conditional Statements\n",
    " if statement\n",
    " if else \n",
    " elif\n",
    " "
   ]
  },
  {
   "cell_type": "code",
   "execution_count": 4,
   "id": "67a2e07c",
   "metadata": {},
   "outputs": [
    {
     "name": "stdout",
     "output_type": "stream",
     "text": [
      "Enter a number8\n",
      "enter another number9\n",
      "num1 is greater than num2\n"
     ]
    }
   ],
   "source": [
    "num1 = int(input(\"Enter a number\"))\n",
    "num2 = int(input(\"enter another number\"))\n",
    "if num1<num2: print(\"num1 is greater than num2\")\n",
    "elif num1==num2: print(\"num1 is equal to num2\")\n",
    "else: print(\"num1 is less than num2\")"
   ]
  },
  {
   "cell_type": "code",
   "execution_count": 8,
   "id": "6ff99de6",
   "metadata": {},
   "outputs": [
    {
     "name": "stdout",
     "output_type": "stream",
     "text": [
      "Enter a number6\n",
      "Even\n"
     ]
    }
   ],
   "source": [
    "if(int(input(\"Enter a number\")) % 2 == 0): print(\"Even\") \n",
    "else: print(\"Odd\")"
   ]
  },
  {
   "cell_type": "code",
   "execution_count": 10,
   "id": "042249ba",
   "metadata": {},
   "outputs": [
    {
     "name": "stdout",
     "output_type": "stream",
     "text": [
      "Enter a number5\n",
      "Odd\n"
     ]
    }
   ],
   "source": [
    "print (\"Even\") if(int(input(\"Enter a number\")) % 2 == 0) else print(\"Odd\") "
   ]
  },
  {
   "cell_type": "code",
   "execution_count": 11,
   "id": "58113353",
   "metadata": {},
   "outputs": [
    {
     "name": "stdout",
     "output_type": "stream",
     "text": [
      "Enter a number8789\n",
      "9\n"
     ]
    }
   ],
   "source": [
    "print(int(input(\"Enter a number\"))%10)"
   ]
  },
  {
   "cell_type": "code",
   "execution_count": 14,
   "id": "5a9a6f7c",
   "metadata": {},
   "outputs": [
    {
     "name": "stdout",
     "output_type": "stream",
     "text": [
      "EnterusernameArifaMustafaDsu\n",
      "Username exceeds 10 characters\n"
     ]
    }
   ],
   "source": [
    "print (\"Username exceeds 10 characters\") if(len((input(\"Enterusername\")))) > 10 else print(\"Ok\")"
   ]
  },
  {
   "cell_type": "code",
   "execution_count": 22,
   "id": "2e7b1175",
   "metadata": {},
   "outputs": [
    {
     "name": "stdout",
     "output_type": "stream",
     "text": [
      "Enter a number: 587\n"
     ]
    },
    {
     "data": {
      "text/plain": [
       "58.7"
      ]
     },
     "execution_count": 22,
     "metadata": {},
     "output_type": "execute_result"
    }
   ],
   "source": [
    "num = int(input(\"Enter a number: \"))\n",
    "temp = num%10\n",
    "num = num/10\n",
    "num"
   ]
  },
  {
   "cell_type": "code",
   "execution_count": 28,
   "id": "2e0c77a8",
   "metadata": {},
   "outputs": [
    {
     "name": "stdout",
     "output_type": "stream",
     "text": [
      "Enter a number1\n",
      "try again lucky number was 6\n"
     ]
    }
   ],
   "source": [
    "import random\n",
    "num = random.randint(1,10)\n",
    "guess = int(input(\"Enter a number\"))\n",
    "if guess  == num:\n",
    "    print(f\"you guessed{guess}, you won\")\n",
    "else:\n",
    "    print(f\"try again lucky number was {num}\")"
   ]
  },
  {
   "cell_type": "code",
   "execution_count": 32,
   "id": "b83871f4",
   "metadata": {},
   "outputs": [
    {
     "name": "stdout",
     "output_type": "stream",
     "text": [
      "enter budget900000000\n",
      "Sab khareedlo\n"
     ]
    }
   ],
   "source": [
    "budget = int(input(\"enter budget\"))\n",
    "if budget<200 : print(\"buy eggs\")\n",
    "elif budget<1000 : print(\"Buy meat\")\n",
    "else: print(\"Sab khareedlo\")\n",
    "    "
   ]
  },
  {
   "cell_type": "code",
   "execution_count": 36,
   "id": "99b74049",
   "metadata": {},
   "outputs": [
    {
     "name": "stdout",
     "output_type": "stream",
     "text": [
      "enter height6.9999999\n",
      "7\n",
      "Tall\n"
     ]
    }
   ],
   "source": [
    "height = round(float(input(\"enter height\")))\n",
    "print(height)\n",
    "\n",
    "if height > 6 :\n",
    "    print(\"Tall\")\n",
    "elif height > 5:\n",
    "    print(\"Average\")\n",
    "else: \n",
    "    print(\"Short\")"
   ]
  },
  {
   "cell_type": "code",
   "execution_count": 45,
   "id": "1627ded1",
   "metadata": {},
   "outputs": [
    {
     "name": "stdout",
     "output_type": "stream",
     "text": [
      "Enter you salary 1000000\n",
      "Enter years of service 2\n",
      "you are not eligible for bonus\n",
      "Salary: 1000000 , bonusamount: 15000.0 , total amount credited: 1015000.0\n"
     ]
    }
   ],
   "source": [
    "salary = int(input(\"Enter you salary \"))\n",
    "years_of_service = int(input(\"Enter years of service \"))\n",
    "if years_of_service > 15 : bonusamount = (15/100) * salary \n",
    "elif years_of_service > 10 : bonusamount = (10/100) * salary\n",
    "elif years_of_service > 5 : bonusamount = (5/100) * salary\n",
    "else: print(\"you are not eligible for bonus\")\n",
    "print (f\"Salary: {salary} , bonusamount: {bonusamount} , total amount credited: {salary+bonusamount}\")   "
   ]
  },
  {
   "cell_type": "code",
   "execution_count": 49,
   "id": "e5d52ace",
   "metadata": {},
   "outputs": [
    {
     "name": "stdout",
     "output_type": "stream",
     "text": [
      "Enter you salary 10000\n",
      "Enter years of service 2\n",
      "you are not eligible for bonus\n",
      "Salary: 10000 , bonusamount: 0 , total amount credited: 10000\n"
     ]
    }
   ],
   "source": [
    "salary , years_of_service , bonus = int(input(\"Enter you salary \")) , int(input(\"Enter years of service \")), 0\n",
    "if years_of_service > 15 : bonusamount = (15/100) * salary \n",
    "elif years_of_service > 10 : bonusamount = (10/100) * salary\n",
    "elif years_of_service > 5 : bonusamount = (5/100) * salary\n",
    "else: \n",
    "    print(\"you are not eligible for bonus\")\n",
    "print (f\"Salary: {salary} , bonusamount: {bonusamount} , total amount credited: {salary+bonusamount}\")     "
   ]
  },
  {
   "cell_type": "code",
   "execution_count": 54,
   "id": "20e0944e",
   "metadata": {},
   "outputs": [
    {
     "name": "stdout",
     "output_type": "stream",
     "text": [
      "Enter number of units 305\n"
     ]
    },
    {
     "data": {
      "text/plain": [
       "2575"
      ]
     },
     "execution_count": 54,
     "metadata": {},
     "output_type": "execute_result"
    }
   ],
   "source": [
    "units,totalbill = int(input(\"Enter number of units \")) , 0\n",
    "if units <= 100 : totalbill = units *5\n",
    "elif units <= 300 : totalbill = 100*5 + ((units-100)*10)\n",
    "else : totalbill = 100*5 + 200*10 + ((units-300)*15)\n",
    "totalbill"
   ]
  },
  {
   "cell_type": "code",
   "execution_count": null,
   "id": "0bf3396d",
   "metadata": {},
   "outputs": [],
   "source": []
  }
 ],
 "metadata": {
  "kernelspec": {
   "display_name": "Python 3 (ipykernel)",
   "language": "python",
   "name": "python3"
  },
  "language_info": {
   "codemirror_mode": {
    "name": "ipython",
    "version": 3
   },
   "file_extension": ".py",
   "mimetype": "text/x-python",
   "name": "python",
   "nbconvert_exporter": "python",
   "pygments_lexer": "ipython3",
   "version": "3.11.3"
  }
 },
 "nbformat": 4,
 "nbformat_minor": 5
}

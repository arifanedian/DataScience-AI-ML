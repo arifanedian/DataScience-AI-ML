{
 "cells": [
  {
   "cell_type": "code",
   "execution_count": 66,
   "id": "11e716de",
   "metadata": {},
   "outputs": [],
   "source": [
    "import pandas as pd\n",
    "import numpy as np\n",
    "\n"
   ]
  },
  {
   "cell_type": "code",
   "execution_count": 37,
   "id": "e7f47cc3",
   "metadata": {},
   "outputs": [],
   "source": [
    "df = pd.read_excel('data files/loan-data.xlsx', usecols=['term','int_rate', 'loan_amnt','installment','emp_length',\n",
    "                                                     'home_ownership', 'annual_inc','verification_status',\n",
    "                                                     'loan_status','purpose', 'last_credit_pull_d', 'repay_fail'])"
   ]
  },
  {
   "cell_type": "code",
   "execution_count": 38,
   "id": "af681ca3",
   "metadata": {},
   "outputs": [
    {
     "data": {
      "text/html": [
       "<div>\n",
       "<style scoped>\n",
       "    .dataframe tbody tr th:only-of-type {\n",
       "        vertical-align: middle;\n",
       "    }\n",
       "\n",
       "    .dataframe tbody tr th {\n",
       "        vertical-align: top;\n",
       "    }\n",
       "\n",
       "    .dataframe thead th {\n",
       "        text-align: right;\n",
       "    }\n",
       "</style>\n",
       "<table border=\"1\" class=\"dataframe\">\n",
       "  <thead>\n",
       "    <tr style=\"text-align: right;\">\n",
       "      <th></th>\n",
       "      <th>loan_amnt</th>\n",
       "      <th>term</th>\n",
       "      <th>int_rate</th>\n",
       "      <th>installment</th>\n",
       "      <th>emp_length</th>\n",
       "      <th>home_ownership</th>\n",
       "      <th>annual_inc</th>\n",
       "      <th>verification_status</th>\n",
       "      <th>loan_status</th>\n",
       "      <th>purpose</th>\n",
       "      <th>last_credit_pull_d</th>\n",
       "      <th>repay_fail</th>\n",
       "    </tr>\n",
       "  </thead>\n",
       "  <tbody>\n",
       "    <tr>\n",
       "      <th>0</th>\n",
       "      <td>0.0</td>\n",
       "      <td>36 months</td>\n",
       "      <td>0.00</td>\n",
       "      <td>0.00</td>\n",
       "      <td>&lt; 1 year</td>\n",
       "      <td>RENT</td>\n",
       "      <td>0.0</td>\n",
       "      <td>Not Verified</td>\n",
       "      <td>Charged Off</td>\n",
       "      <td>major_purchase</td>\n",
       "      <td>2023-01-07</td>\n",
       "      <td>1</td>\n",
       "    </tr>\n",
       "    <tr>\n",
       "      <th>1</th>\n",
       "      <td>2500.0</td>\n",
       "      <td>36 months</td>\n",
       "      <td>13.98</td>\n",
       "      <td>85.42</td>\n",
       "      <td>4 years</td>\n",
       "      <td>RENT</td>\n",
       "      <td>20004.0</td>\n",
       "      <td>Not Verified</td>\n",
       "      <td>Does not meet the credit policy. Status:Fully ...</td>\n",
       "      <td>other</td>\n",
       "      <td>2023-06-16</td>\n",
       "      <td>0</td>\n",
       "    </tr>\n",
       "    <tr>\n",
       "      <th>2</th>\n",
       "      <td>5000.0</td>\n",
       "      <td>36 months</td>\n",
       "      <td>15.95</td>\n",
       "      <td>175.67</td>\n",
       "      <td>4 years</td>\n",
       "      <td>RENT</td>\n",
       "      <td>59000.0</td>\n",
       "      <td>Not Verified</td>\n",
       "      <td>Charged Off</td>\n",
       "      <td>debt_consolidation</td>\n",
       "      <td>2023-03-12</td>\n",
       "      <td>1</td>\n",
       "    </tr>\n",
       "    <tr>\n",
       "      <th>3</th>\n",
       "      <td>7000.0</td>\n",
       "      <td>36 months</td>\n",
       "      <td>9.91</td>\n",
       "      <td>225.58</td>\n",
       "      <td>10+ years</td>\n",
       "      <td>MORTGAGE</td>\n",
       "      <td>53796.0</td>\n",
       "      <td>Not Verified</td>\n",
       "      <td>Fully Paid</td>\n",
       "      <td>other</td>\n",
       "      <td>2023-03-14</td>\n",
       "      <td>0</td>\n",
       "    </tr>\n",
       "    <tr>\n",
       "      <th>4</th>\n",
       "      <td>2000.0</td>\n",
       "      <td>36 months</td>\n",
       "      <td>5.42</td>\n",
       "      <td>60.32</td>\n",
       "      <td>10+ years</td>\n",
       "      <td>RENT</td>\n",
       "      <td>30000.0</td>\n",
       "      <td>Not Verified</td>\n",
       "      <td>Fully Paid</td>\n",
       "      <td>debt_consolidation</td>\n",
       "      <td>2023-06-16</td>\n",
       "      <td>0</td>\n",
       "    </tr>\n",
       "  </tbody>\n",
       "</table>\n",
       "</div>"
      ],
      "text/plain": [
       "   loan_amnt       term  int_rate  installment emp_length home_ownership  \\\n",
       "0        0.0  36 months      0.00         0.00   < 1 year           RENT   \n",
       "1     2500.0  36 months     13.98        85.42    4 years           RENT   \n",
       "2     5000.0  36 months     15.95       175.67    4 years           RENT   \n",
       "3     7000.0  36 months      9.91       225.58  10+ years       MORTGAGE   \n",
       "4     2000.0  36 months      5.42        60.32  10+ years           RENT   \n",
       "\n",
       "   annual_inc verification_status  \\\n",
       "0         0.0        Not Verified   \n",
       "1     20004.0        Not Verified   \n",
       "2     59000.0        Not Verified   \n",
       "3     53796.0        Not Verified   \n",
       "4     30000.0        Not Verified   \n",
       "\n",
       "                                         loan_status             purpose  \\\n",
       "0                                        Charged Off      major_purchase   \n",
       "1  Does not meet the credit policy. Status:Fully ...               other   \n",
       "2                                        Charged Off  debt_consolidation   \n",
       "3                                         Fully Paid               other   \n",
       "4                                         Fully Paid  debt_consolidation   \n",
       "\n",
       "  last_credit_pull_d  repay_fail  \n",
       "0         2023-01-07           1  \n",
       "1         2023-06-16           0  \n",
       "2         2023-03-12           1  \n",
       "3         2023-03-14           0  \n",
       "4         2023-06-16           0  "
      ]
     },
     "execution_count": 38,
     "metadata": {},
     "output_type": "execute_result"
    }
   ],
   "source": [
    "df.head()"
   ]
  },
  {
   "cell_type": "code",
   "execution_count": 39,
   "id": "ede290b3",
   "metadata": {},
   "outputs": [
    {
     "data": {
      "text/plain": [
       "loan_amnt                1\n",
       "term                     0\n",
       "int_rate                 0\n",
       "installment              1\n",
       "emp_length             993\n",
       "home_ownership           0\n",
       "annual_inc               2\n",
       "verification_status      0\n",
       "loan_status              0\n",
       "purpose                  0\n",
       "last_credit_pull_d       3\n",
       "repay_fail               0\n",
       "dtype: int64"
      ]
     },
     "execution_count": 39,
     "metadata": {},
     "output_type": "execute_result"
    }
   ],
   "source": [
    "df.isna().sum()"
   ]
  },
  {
   "cell_type": "code",
   "execution_count": 40,
   "id": "448f9194",
   "metadata": {},
   "outputs": [],
   "source": [
    "df = df.dropna()"
   ]
  },
  {
   "cell_type": "code",
   "execution_count": 41,
   "id": "d3483e1f",
   "metadata": {},
   "outputs": [
    {
     "data": {
      "text/html": [
       "<div>\n",
       "<style scoped>\n",
       "    .dataframe tbody tr th:only-of-type {\n",
       "        vertical-align: middle;\n",
       "    }\n",
       "\n",
       "    .dataframe tbody tr th {\n",
       "        vertical-align: top;\n",
       "    }\n",
       "\n",
       "    .dataframe thead th {\n",
       "        text-align: right;\n",
       "    }\n",
       "</style>\n",
       "<table border=\"1\" class=\"dataframe\">\n",
       "  <thead>\n",
       "    <tr style=\"text-align: right;\">\n",
       "      <th></th>\n",
       "      <th>loan_amnt</th>\n",
       "      <th>term</th>\n",
       "      <th>int_rate</th>\n",
       "      <th>installment</th>\n",
       "      <th>emp_length</th>\n",
       "      <th>home_ownership</th>\n",
       "      <th>annual_inc</th>\n",
       "      <th>verification_status</th>\n",
       "      <th>loan_status</th>\n",
       "      <th>purpose</th>\n",
       "      <th>last_credit_pull_d</th>\n",
       "      <th>repay_fail</th>\n",
       "    </tr>\n",
       "  </thead>\n",
       "  <tbody>\n",
       "    <tr>\n",
       "      <th>0</th>\n",
       "      <td>0.0</td>\n",
       "      <td>36 months</td>\n",
       "      <td>0.00</td>\n",
       "      <td>0.00</td>\n",
       "      <td>&lt; 1 year</td>\n",
       "      <td>RENT</td>\n",
       "      <td>0.0</td>\n",
       "      <td>Not Verified</td>\n",
       "      <td>Charged Off</td>\n",
       "      <td>major_purchase</td>\n",
       "      <td>2023-01-07</td>\n",
       "      <td>1</td>\n",
       "    </tr>\n",
       "    <tr>\n",
       "      <th>1</th>\n",
       "      <td>2500.0</td>\n",
       "      <td>36 months</td>\n",
       "      <td>13.98</td>\n",
       "      <td>85.42</td>\n",
       "      <td>4 years</td>\n",
       "      <td>RENT</td>\n",
       "      <td>20004.0</td>\n",
       "      <td>Not Verified</td>\n",
       "      <td>Does not meet the credit policy. Status:Fully ...</td>\n",
       "      <td>other</td>\n",
       "      <td>2023-06-16</td>\n",
       "      <td>0</td>\n",
       "    </tr>\n",
       "    <tr>\n",
       "      <th>2</th>\n",
       "      <td>5000.0</td>\n",
       "      <td>36 months</td>\n",
       "      <td>15.95</td>\n",
       "      <td>175.67</td>\n",
       "      <td>4 years</td>\n",
       "      <td>RENT</td>\n",
       "      <td>59000.0</td>\n",
       "      <td>Not Verified</td>\n",
       "      <td>Charged Off</td>\n",
       "      <td>debt_consolidation</td>\n",
       "      <td>2023-03-12</td>\n",
       "      <td>1</td>\n",
       "    </tr>\n",
       "    <tr>\n",
       "      <th>3</th>\n",
       "      <td>7000.0</td>\n",
       "      <td>36 months</td>\n",
       "      <td>9.91</td>\n",
       "      <td>225.58</td>\n",
       "      <td>10+ years</td>\n",
       "      <td>MORTGAGE</td>\n",
       "      <td>53796.0</td>\n",
       "      <td>Not Verified</td>\n",
       "      <td>Fully Paid</td>\n",
       "      <td>other</td>\n",
       "      <td>2023-03-14</td>\n",
       "      <td>0</td>\n",
       "    </tr>\n",
       "    <tr>\n",
       "      <th>4</th>\n",
       "      <td>2000.0</td>\n",
       "      <td>36 months</td>\n",
       "      <td>5.42</td>\n",
       "      <td>60.32</td>\n",
       "      <td>10+ years</td>\n",
       "      <td>RENT</td>\n",
       "      <td>30000.0</td>\n",
       "      <td>Not Verified</td>\n",
       "      <td>Fully Paid</td>\n",
       "      <td>debt_consolidation</td>\n",
       "      <td>2023-06-16</td>\n",
       "      <td>0</td>\n",
       "    </tr>\n",
       "  </tbody>\n",
       "</table>\n",
       "</div>"
      ],
      "text/plain": [
       "   loan_amnt       term  int_rate  installment emp_length home_ownership  \\\n",
       "0        0.0  36 months      0.00         0.00   < 1 year           RENT   \n",
       "1     2500.0  36 months     13.98        85.42    4 years           RENT   \n",
       "2     5000.0  36 months     15.95       175.67    4 years           RENT   \n",
       "3     7000.0  36 months      9.91       225.58  10+ years       MORTGAGE   \n",
       "4     2000.0  36 months      5.42        60.32  10+ years           RENT   \n",
       "\n",
       "   annual_inc verification_status  \\\n",
       "0         0.0        Not Verified   \n",
       "1     20004.0        Not Verified   \n",
       "2     59000.0        Not Verified   \n",
       "3     53796.0        Not Verified   \n",
       "4     30000.0        Not Verified   \n",
       "\n",
       "                                         loan_status             purpose  \\\n",
       "0                                        Charged Off      major_purchase   \n",
       "1  Does not meet the credit policy. Status:Fully ...               other   \n",
       "2                                        Charged Off  debt_consolidation   \n",
       "3                                         Fully Paid               other   \n",
       "4                                         Fully Paid  debt_consolidation   \n",
       "\n",
       "  last_credit_pull_d  repay_fail  \n",
       "0         2023-01-07           1  \n",
       "1         2023-06-16           0  \n",
       "2         2023-03-12           1  \n",
       "3         2023-03-14           0  \n",
       "4         2023-06-16           0  "
      ]
     },
     "execution_count": 41,
     "metadata": {},
     "output_type": "execute_result"
    }
   ],
   "source": [
    "df.head()"
   ]
  },
  {
   "cell_type": "code",
   "execution_count": 45,
   "id": "d42ef6e4",
   "metadata": {},
   "outputs": [],
   "source": [
    " df['term'] = df['term'].str.replace(' months','').astype('int')"
   ]
  },
  {
   "cell_type": "code",
   "execution_count": 54,
   "id": "1b6c1fd8",
   "metadata": {},
   "outputs": [],
   "source": [
    "df['emp_length'] = df['emp_length'].str.split(' ',expand=True)[0].replace('<','0').replace('10+','10').astype('int')"
   ]
  },
  {
   "cell_type": "code",
   "execution_count": 36,
   "id": "f241cc96",
   "metadata": {},
   "outputs": [
    {
     "data": {
      "text/plain": [
       "array(['RENT', 'MORTGAGE', 'OWN', 'OTHER', 'NONE'], dtype=object)"
      ]
     },
     "execution_count": 36,
     "metadata": {},
     "output_type": "execute_result"
    }
   ],
   "source": [
    "df['home_ownership'].unique()"
   ]
  },
  {
   "cell_type": "code",
   "execution_count": 57,
   "id": "5393d264",
   "metadata": {},
   "outputs": [],
   "source": [
    "df['home_ownership'] = df['home_ownership'].str.replace('NONE','OTHER')"
   ]
  },
  {
   "cell_type": "code",
   "execution_count": 58,
   "id": "f7ba33e0",
   "metadata": {},
   "outputs": [
    {
     "data": {
      "text/html": [
       "<div>\n",
       "<style scoped>\n",
       "    .dataframe tbody tr th:only-of-type {\n",
       "        vertical-align: middle;\n",
       "    }\n",
       "\n",
       "    .dataframe tbody tr th {\n",
       "        vertical-align: top;\n",
       "    }\n",
       "\n",
       "    .dataframe thead th {\n",
       "        text-align: right;\n",
       "    }\n",
       "</style>\n",
       "<table border=\"1\" class=\"dataframe\">\n",
       "  <thead>\n",
       "    <tr style=\"text-align: right;\">\n",
       "      <th></th>\n",
       "      <th>loan_amnt</th>\n",
       "      <th>term</th>\n",
       "      <th>int_rate</th>\n",
       "      <th>installment</th>\n",
       "      <th>emp_length</th>\n",
       "      <th>home_ownership</th>\n",
       "      <th>annual_inc</th>\n",
       "      <th>verification_status</th>\n",
       "      <th>loan_status</th>\n",
       "      <th>purpose</th>\n",
       "      <th>last_credit_pull_d</th>\n",
       "      <th>repay_fail</th>\n",
       "    </tr>\n",
       "  </thead>\n",
       "  <tbody>\n",
       "    <tr>\n",
       "      <th>25114</th>\n",
       "      <td>10000.0</td>\n",
       "      <td>36</td>\n",
       "      <td>6.62</td>\n",
       "      <td>307.04</td>\n",
       "      <td>3</td>\n",
       "      <td>RENT</td>\n",
       "      <td>80004.0</td>\n",
       "      <td>Source Verified</td>\n",
       "      <td>Fully Paid</td>\n",
       "      <td>major_purchase</td>\n",
       "      <td>2023-12-14</td>\n",
       "      <td>0</td>\n",
       "    </tr>\n",
       "    <tr>\n",
       "      <th>26262</th>\n",
       "      <td>4200.0</td>\n",
       "      <td>60</td>\n",
       "      <td>19.29</td>\n",
       "      <td>109.63</td>\n",
       "      <td>5</td>\n",
       "      <td>MORTGAGE</td>\n",
       "      <td>55000.0</td>\n",
       "      <td>Not Verified</td>\n",
       "      <td>Fully Paid</td>\n",
       "      <td>debt_consolidation</td>\n",
       "      <td>2023-05-16</td>\n",
       "      <td>0</td>\n",
       "    </tr>\n",
       "    <tr>\n",
       "      <th>27750</th>\n",
       "      <td>6000.0</td>\n",
       "      <td>36</td>\n",
       "      <td>7.90</td>\n",
       "      <td>187.75</td>\n",
       "      <td>10</td>\n",
       "      <td>MORTGAGE</td>\n",
       "      <td>170000.0</td>\n",
       "      <td>Source Verified</td>\n",
       "      <td>Fully Paid</td>\n",
       "      <td>house</td>\n",
       "      <td>2023-12-14</td>\n",
       "      <td>0</td>\n",
       "    </tr>\n",
       "    <tr>\n",
       "      <th>35578</th>\n",
       "      <td>10000.0</td>\n",
       "      <td>36</td>\n",
       "      <td>13.99</td>\n",
       "      <td>341.73</td>\n",
       "      <td>3</td>\n",
       "      <td>MORTGAGE</td>\n",
       "      <td>190000.0</td>\n",
       "      <td>Verified</td>\n",
       "      <td>Fully Paid</td>\n",
       "      <td>credit_card</td>\n",
       "      <td>2023-06-16</td>\n",
       "      <td>0</td>\n",
       "    </tr>\n",
       "    <tr>\n",
       "      <th>29670</th>\n",
       "      <td>25000.0</td>\n",
       "      <td>60</td>\n",
       "      <td>10.59</td>\n",
       "      <td>397.39</td>\n",
       "      <td>4</td>\n",
       "      <td>MORTGAGE</td>\n",
       "      <td>43000.0</td>\n",
       "      <td>Verified</td>\n",
       "      <td>Fully Paid</td>\n",
       "      <td>debt_consolidation</td>\n",
       "      <td>2023-10-14</td>\n",
       "      <td>0</td>\n",
       "    </tr>\n",
       "    <tr>\n",
       "      <th>10751</th>\n",
       "      <td>22000.0</td>\n",
       "      <td>36</td>\n",
       "      <td>7.88</td>\n",
       "      <td>688.19</td>\n",
       "      <td>3</td>\n",
       "      <td>RENT</td>\n",
       "      <td>99996.0</td>\n",
       "      <td>Verified</td>\n",
       "      <td>Fully Paid</td>\n",
       "      <td>major_purchase</td>\n",
       "      <td>2023-12-15</td>\n",
       "      <td>0</td>\n",
       "    </tr>\n",
       "    <tr>\n",
       "      <th>32267</th>\n",
       "      <td>15600.0</td>\n",
       "      <td>60</td>\n",
       "      <td>15.95</td>\n",
       "      <td>378.95</td>\n",
       "      <td>1</td>\n",
       "      <td>RENT</td>\n",
       "      <td>82000.0</td>\n",
       "      <td>Not Verified</td>\n",
       "      <td>Fully Paid</td>\n",
       "      <td>credit_card</td>\n",
       "      <td>2023-05-15</td>\n",
       "      <td>0</td>\n",
       "    </tr>\n",
       "    <tr>\n",
       "      <th>7707</th>\n",
       "      <td>20000.0</td>\n",
       "      <td>60</td>\n",
       "      <td>19.29</td>\n",
       "      <td>522.01</td>\n",
       "      <td>2</td>\n",
       "      <td>RENT</td>\n",
       "      <td>55000.0</td>\n",
       "      <td>Source Verified</td>\n",
       "      <td>Fully Paid</td>\n",
       "      <td>major_purchase</td>\n",
       "      <td>2023-06-16</td>\n",
       "      <td>0</td>\n",
       "    </tr>\n",
       "    <tr>\n",
       "      <th>4592</th>\n",
       "      <td>8000.0</td>\n",
       "      <td>36</td>\n",
       "      <td>16.02</td>\n",
       "      <td>281.34</td>\n",
       "      <td>4</td>\n",
       "      <td>RENT</td>\n",
       "      <td>70000.0</td>\n",
       "      <td>Not Verified</td>\n",
       "      <td>Fully Paid</td>\n",
       "      <td>debt_consolidation</td>\n",
       "      <td>2023-06-16</td>\n",
       "      <td>0</td>\n",
       "    </tr>\n",
       "    <tr>\n",
       "      <th>6879</th>\n",
       "      <td>13200.0</td>\n",
       "      <td>60</td>\n",
       "      <td>10.65</td>\n",
       "      <td>284.71</td>\n",
       "      <td>1</td>\n",
       "      <td>RENT</td>\n",
       "      <td>60000.0</td>\n",
       "      <td>Verified</td>\n",
       "      <td>Fully Paid</td>\n",
       "      <td>wedding</td>\n",
       "      <td>2023-03-14</td>\n",
       "      <td>0</td>\n",
       "    </tr>\n",
       "  </tbody>\n",
       "</table>\n",
       "</div>"
      ],
      "text/plain": [
       "       loan_amnt  term  int_rate  installment  emp_length home_ownership  \\\n",
       "25114    10000.0    36      6.62       307.04           3           RENT   \n",
       "26262     4200.0    60     19.29       109.63           5       MORTGAGE   \n",
       "27750     6000.0    36      7.90       187.75          10       MORTGAGE   \n",
       "35578    10000.0    36     13.99       341.73           3       MORTGAGE   \n",
       "29670    25000.0    60     10.59       397.39           4       MORTGAGE   \n",
       "10751    22000.0    36      7.88       688.19           3           RENT   \n",
       "32267    15600.0    60     15.95       378.95           1           RENT   \n",
       "7707     20000.0    60     19.29       522.01           2           RENT   \n",
       "4592      8000.0    36     16.02       281.34           4           RENT   \n",
       "6879     13200.0    60     10.65       284.71           1           RENT   \n",
       "\n",
       "       annual_inc verification_status loan_status             purpose  \\\n",
       "25114     80004.0     Source Verified  Fully Paid      major_purchase   \n",
       "26262     55000.0        Not Verified  Fully Paid  debt_consolidation   \n",
       "27750    170000.0     Source Verified  Fully Paid               house   \n",
       "35578    190000.0            Verified  Fully Paid         credit_card   \n",
       "29670     43000.0            Verified  Fully Paid  debt_consolidation   \n",
       "10751     99996.0            Verified  Fully Paid      major_purchase   \n",
       "32267     82000.0        Not Verified  Fully Paid         credit_card   \n",
       "7707      55000.0     Source Verified  Fully Paid      major_purchase   \n",
       "4592      70000.0        Not Verified  Fully Paid  debt_consolidation   \n",
       "6879      60000.0            Verified  Fully Paid             wedding   \n",
       "\n",
       "      last_credit_pull_d  repay_fail  \n",
       "25114         2023-12-14           0  \n",
       "26262         2023-05-16           0  \n",
       "27750         2023-12-14           0  \n",
       "35578         2023-06-16           0  \n",
       "29670         2023-10-14           0  \n",
       "10751         2023-12-15           0  \n",
       "32267         2023-05-15           0  \n",
       "7707          2023-06-16           0  \n",
       "4592          2023-06-16           0  \n",
       "6879          2023-03-14           0  "
      ]
     },
     "execution_count": 58,
     "metadata": {},
     "output_type": "execute_result"
    }
   ],
   "source": [
    "df.sample(10)"
   ]
  },
  {
   "cell_type": "code",
   "execution_count": 59,
   "id": "ef4ba16a",
   "metadata": {},
   "outputs": [
    {
     "data": {
      "text/plain": [
       "array(['Not Verified', 'Verified', 'Source Verified'], dtype=object)"
      ]
     },
     "execution_count": 59,
     "metadata": {},
     "output_type": "execute_result"
    }
   ],
   "source": [
    "df['verification_status'].unique()"
   ]
  },
  {
   "cell_type": "code",
   "execution_count": 62,
   "id": "1d0571da",
   "metadata": {},
   "outputs": [
    {
     "data": {
      "text/plain": [
       "array(['Not Verified', 'Verified'], dtype=object)"
      ]
     },
     "execution_count": 62,
     "metadata": {},
     "output_type": "execute_result"
    }
   ],
   "source": [
    "df['verification_status'].str.replace('Source Verified','Verified').unique()"
   ]
  },
  {
   "cell_type": "code",
   "execution_count": 63,
   "id": "f8d3b38e",
   "metadata": {},
   "outputs": [],
   "source": [
    "df['verification_status']=df['verification_status'].str.replace('Source Verified','Verified')"
   ]
  },
  {
   "cell_type": "code",
   "execution_count": 64,
   "id": "e5923ead",
   "metadata": {},
   "outputs": [
    {
     "data": {
      "text/plain": [
       "array(['Charged Off',\n",
       "       'Does not meet the credit policy. Status:Fully Paid', 'Fully Paid',\n",
       "       'Does not meet the credit policy. Status:Charged Off', 'Current',\n",
       "       'Late (31-120 days)', 'In Grace Period', 'Late (16-30 days)',\n",
       "       'Default'], dtype=object)"
      ]
     },
     "execution_count": 64,
     "metadata": {},
     "output_type": "execute_result"
    }
   ],
   "source": [
    "df['loan_status'].unique()"
   ]
  },
  {
   "cell_type": "code",
   "execution_count": 70,
   "id": "6194ab5b",
   "metadata": {},
   "outputs": [
    {
     "name": "stderr",
     "output_type": "stream",
     "text": [
      "C:\\Users\\Arifa Mustafa\\AppData\\Local\\Temp\\ipykernel_12972\\1290303504.py:1: FutureWarning: The default value of regex will change from True to False in a future version.\n",
      "  df['loan_status'] = df['loan_status'].str.replace('Does not meet the credit policy. Status:Fully Paid','Fully Paid').replace('Does not meet the credit policy. Status:Charged Off','Charged Off')\n"
     ]
    }
   ],
   "source": [
    "df['loan_status'] = df['loan_status'].str.replace('Does not meet the credit policy. Status:Fully Paid','Fully Paid').replace('Does not meet the credit policy. Status:Charged Off','Charged Off')"
   ]
  },
  {
   "cell_type": "code",
   "execution_count": 79,
   "id": "4d36b054",
   "metadata": {},
   "outputs": [
    {
     "data": {
      "text/plain": [
       "array(['Charged Off', 'Fully Paid', 'Current', 'Late (31-120 days)',\n",
       "       'GradePeriod', 'Late (16-30 days)', 'Default'], dtype=object)"
      ]
     },
     "execution_count": 79,
     "metadata": {},
     "output_type": "execute_result"
    }
   ],
   "source": [
    "df['loan_status'].unique()"
   ]
  },
  {
   "cell_type": "code",
   "execution_count": 77,
   "id": "039e7970",
   "metadata": {},
   "outputs": [],
   "source": [
    "df['loan_status']=df['loan_status'].str.replace('In Grace Period','GracePeriod')"
   ]
  },
  {
   "cell_type": "code",
   "execution_count": 78,
   "id": "f82e29a4",
   "metadata": {},
   "outputs": [
    {
     "data": {
      "text/plain": [
       "0        Charged Off\n",
       "1         Fully Paid\n",
       "2        Charged Off\n",
       "3         Fully Paid\n",
       "4         Fully Paid\n",
       "            ...     \n",
       "38475     Fully Paid\n",
       "38476     Fully Paid\n",
       "38477     Fully Paid\n",
       "38478     Fully Paid\n",
       "38479     Fully Paid\n",
       "Name: loan_status, Length: 37482, dtype: object"
      ]
     },
     "execution_count": 78,
     "metadata": {},
     "output_type": "execute_result"
    }
   ],
   "source": [
    "df['loan_status']"
   ]
  },
  {
   "cell_type": "code",
   "execution_count": 80,
   "id": "b52ebdb5",
   "metadata": {},
   "outputs": [
    {
     "data": {
      "text/html": [
       "<div>\n",
       "<style scoped>\n",
       "    .dataframe tbody tr th:only-of-type {\n",
       "        vertical-align: middle;\n",
       "    }\n",
       "\n",
       "    .dataframe tbody tr th {\n",
       "        vertical-align: top;\n",
       "    }\n",
       "\n",
       "    .dataframe thead th {\n",
       "        text-align: right;\n",
       "    }\n",
       "</style>\n",
       "<table border=\"1\" class=\"dataframe\">\n",
       "  <thead>\n",
       "    <tr style=\"text-align: right;\">\n",
       "      <th></th>\n",
       "      <th>loan_amnt</th>\n",
       "      <th>term</th>\n",
       "      <th>int_rate</th>\n",
       "      <th>installment</th>\n",
       "      <th>emp_length</th>\n",
       "      <th>home_ownership</th>\n",
       "      <th>annual_inc</th>\n",
       "      <th>verification_status</th>\n",
       "      <th>loan_status</th>\n",
       "      <th>purpose</th>\n",
       "      <th>last_credit_pull_d</th>\n",
       "      <th>repay_fail</th>\n",
       "    </tr>\n",
       "  </thead>\n",
       "  <tbody>\n",
       "    <tr>\n",
       "      <th>0</th>\n",
       "      <td>0.0</td>\n",
       "      <td>36</td>\n",
       "      <td>0.00</td>\n",
       "      <td>0.00</td>\n",
       "      <td>0</td>\n",
       "      <td>RENT</td>\n",
       "      <td>0.0</td>\n",
       "      <td>Not Verified</td>\n",
       "      <td>Charged Off</td>\n",
       "      <td>major_purchase</td>\n",
       "      <td>2023-01-07</td>\n",
       "      <td>1</td>\n",
       "    </tr>\n",
       "    <tr>\n",
       "      <th>1</th>\n",
       "      <td>2500.0</td>\n",
       "      <td>36</td>\n",
       "      <td>13.98</td>\n",
       "      <td>85.42</td>\n",
       "      <td>4</td>\n",
       "      <td>RENT</td>\n",
       "      <td>20004.0</td>\n",
       "      <td>Not Verified</td>\n",
       "      <td>Fully Paid</td>\n",
       "      <td>other</td>\n",
       "      <td>2023-06-16</td>\n",
       "      <td>0</td>\n",
       "    </tr>\n",
       "    <tr>\n",
       "      <th>2</th>\n",
       "      <td>5000.0</td>\n",
       "      <td>36</td>\n",
       "      <td>15.95</td>\n",
       "      <td>175.67</td>\n",
       "      <td>4</td>\n",
       "      <td>RENT</td>\n",
       "      <td>59000.0</td>\n",
       "      <td>Not Verified</td>\n",
       "      <td>Charged Off</td>\n",
       "      <td>debt_consolidation</td>\n",
       "      <td>2023-03-12</td>\n",
       "      <td>1</td>\n",
       "    </tr>\n",
       "    <tr>\n",
       "      <th>3</th>\n",
       "      <td>7000.0</td>\n",
       "      <td>36</td>\n",
       "      <td>9.91</td>\n",
       "      <td>225.58</td>\n",
       "      <td>10</td>\n",
       "      <td>MORTGAGE</td>\n",
       "      <td>53796.0</td>\n",
       "      <td>Not Verified</td>\n",
       "      <td>Fully Paid</td>\n",
       "      <td>other</td>\n",
       "      <td>2023-03-14</td>\n",
       "      <td>0</td>\n",
       "    </tr>\n",
       "    <tr>\n",
       "      <th>4</th>\n",
       "      <td>2000.0</td>\n",
       "      <td>36</td>\n",
       "      <td>5.42</td>\n",
       "      <td>60.32</td>\n",
       "      <td>10</td>\n",
       "      <td>RENT</td>\n",
       "      <td>30000.0</td>\n",
       "      <td>Not Verified</td>\n",
       "      <td>Fully Paid</td>\n",
       "      <td>debt_consolidation</td>\n",
       "      <td>2023-06-16</td>\n",
       "      <td>0</td>\n",
       "    </tr>\n",
       "  </tbody>\n",
       "</table>\n",
       "</div>"
      ],
      "text/plain": [
       "   loan_amnt  term  int_rate  installment  emp_length home_ownership  \\\n",
       "0        0.0    36      0.00         0.00           0           RENT   \n",
       "1     2500.0    36     13.98        85.42           4           RENT   \n",
       "2     5000.0    36     15.95       175.67           4           RENT   \n",
       "3     7000.0    36      9.91       225.58          10       MORTGAGE   \n",
       "4     2000.0    36      5.42        60.32          10           RENT   \n",
       "\n",
       "   annual_inc verification_status  loan_status             purpose  \\\n",
       "0         0.0        Not Verified  Charged Off      major_purchase   \n",
       "1     20004.0        Not Verified   Fully Paid               other   \n",
       "2     59000.0        Not Verified  Charged Off  debt_consolidation   \n",
       "3     53796.0        Not Verified   Fully Paid               other   \n",
       "4     30000.0        Not Verified   Fully Paid  debt_consolidation   \n",
       "\n",
       "  last_credit_pull_d  repay_fail  \n",
       "0         2023-01-07           1  \n",
       "1         2023-06-16           0  \n",
       "2         2023-03-12           1  \n",
       "3         2023-03-14           0  \n",
       "4         2023-06-16           0  "
      ]
     },
     "execution_count": 80,
     "metadata": {},
     "output_type": "execute_result"
    }
   ],
   "source": [
    "df.head()"
   ]
  },
  {
   "cell_type": "markdown",
   "id": "4cdead09",
   "metadata": {},
   "source": [
    "Since home_ownership,verification_status,loan_status,purpose are categorical data. We need to encode them\n"
   ]
  },
  {
   "cell_type": "markdown",
   "id": "1416a135",
   "metadata": {},
   "source": [
    "### Extracting Training Data"
   ]
  },
  {
   "cell_type": "code",
   "execution_count": 97,
   "id": "73573b32",
   "metadata": {},
   "outputs": [],
   "source": [
    "#Input data\n",
    "X = df.drop('repay_fail',axis=1)\n",
    "\n",
    "#Output labels\n",
    "y = df['repay_fail']"
   ]
  },
  {
   "cell_type": "code",
   "execution_count": 98,
   "id": "dffd5cbf",
   "metadata": {},
   "outputs": [
    {
     "data": {
      "text/html": [
       "<div>\n",
       "<style scoped>\n",
       "    .dataframe tbody tr th:only-of-type {\n",
       "        vertical-align: middle;\n",
       "    }\n",
       "\n",
       "    .dataframe tbody tr th {\n",
       "        vertical-align: top;\n",
       "    }\n",
       "\n",
       "    .dataframe thead th {\n",
       "        text-align: right;\n",
       "    }\n",
       "</style>\n",
       "<table border=\"1\" class=\"dataframe\">\n",
       "  <thead>\n",
       "    <tr style=\"text-align: right;\">\n",
       "      <th></th>\n",
       "      <th>loan_amnt</th>\n",
       "      <th>term</th>\n",
       "      <th>int_rate</th>\n",
       "      <th>installment</th>\n",
       "      <th>emp_length</th>\n",
       "      <th>home_ownership</th>\n",
       "      <th>annual_inc</th>\n",
       "      <th>verification_status</th>\n",
       "      <th>loan_status</th>\n",
       "      <th>purpose</th>\n",
       "      <th>last_credit_pull_d</th>\n",
       "    </tr>\n",
       "  </thead>\n",
       "  <tbody>\n",
       "    <tr>\n",
       "      <th>0</th>\n",
       "      <td>0.0</td>\n",
       "      <td>36</td>\n",
       "      <td>0.00</td>\n",
       "      <td>0.00</td>\n",
       "      <td>0</td>\n",
       "      <td>RENT</td>\n",
       "      <td>0.0</td>\n",
       "      <td>Not Verified</td>\n",
       "      <td>Charged Off</td>\n",
       "      <td>major_purchase</td>\n",
       "      <td>2023-01-07</td>\n",
       "    </tr>\n",
       "    <tr>\n",
       "      <th>1</th>\n",
       "      <td>2500.0</td>\n",
       "      <td>36</td>\n",
       "      <td>13.98</td>\n",
       "      <td>85.42</td>\n",
       "      <td>4</td>\n",
       "      <td>RENT</td>\n",
       "      <td>20004.0</td>\n",
       "      <td>Not Verified</td>\n",
       "      <td>Fully Paid</td>\n",
       "      <td>other</td>\n",
       "      <td>2023-06-16</td>\n",
       "    </tr>\n",
       "    <tr>\n",
       "      <th>2</th>\n",
       "      <td>5000.0</td>\n",
       "      <td>36</td>\n",
       "      <td>15.95</td>\n",
       "      <td>175.67</td>\n",
       "      <td>4</td>\n",
       "      <td>RENT</td>\n",
       "      <td>59000.0</td>\n",
       "      <td>Not Verified</td>\n",
       "      <td>Charged Off</td>\n",
       "      <td>debt_consolidation</td>\n",
       "      <td>2023-03-12</td>\n",
       "    </tr>\n",
       "    <tr>\n",
       "      <th>3</th>\n",
       "      <td>7000.0</td>\n",
       "      <td>36</td>\n",
       "      <td>9.91</td>\n",
       "      <td>225.58</td>\n",
       "      <td>10</td>\n",
       "      <td>MORTGAGE</td>\n",
       "      <td>53796.0</td>\n",
       "      <td>Not Verified</td>\n",
       "      <td>Fully Paid</td>\n",
       "      <td>other</td>\n",
       "      <td>2023-03-14</td>\n",
       "    </tr>\n",
       "    <tr>\n",
       "      <th>4</th>\n",
       "      <td>2000.0</td>\n",
       "      <td>36</td>\n",
       "      <td>5.42</td>\n",
       "      <td>60.32</td>\n",
       "      <td>10</td>\n",
       "      <td>RENT</td>\n",
       "      <td>30000.0</td>\n",
       "      <td>Not Verified</td>\n",
       "      <td>Fully Paid</td>\n",
       "      <td>debt_consolidation</td>\n",
       "      <td>2023-06-16</td>\n",
       "    </tr>\n",
       "    <tr>\n",
       "      <th>...</th>\n",
       "      <td>...</td>\n",
       "      <td>...</td>\n",
       "      <td>...</td>\n",
       "      <td>...</td>\n",
       "      <td>...</td>\n",
       "      <td>...</td>\n",
       "      <td>...</td>\n",
       "      <td>...</td>\n",
       "      <td>...</td>\n",
       "      <td>...</td>\n",
       "      <td>...</td>\n",
       "    </tr>\n",
       "    <tr>\n",
       "      <th>38475</th>\n",
       "      <td>3000.0</td>\n",
       "      <td>36</td>\n",
       "      <td>11.99</td>\n",
       "      <td>99.63</td>\n",
       "      <td>3</td>\n",
       "      <td>RENT</td>\n",
       "      <td>74250.0</td>\n",
       "      <td>Verified</td>\n",
       "      <td>Fully Paid</td>\n",
       "      <td>credit_card</td>\n",
       "      <td>2023-06-16</td>\n",
       "    </tr>\n",
       "    <tr>\n",
       "      <th>38476</th>\n",
       "      <td>10400.0</td>\n",
       "      <td>36</td>\n",
       "      <td>13.49</td>\n",
       "      <td>352.88</td>\n",
       "      <td>9</td>\n",
       "      <td>RENT</td>\n",
       "      <td>62000.0</td>\n",
       "      <td>Verified</td>\n",
       "      <td>Fully Paid</td>\n",
       "      <td>credit_card</td>\n",
       "      <td>2023-06-16</td>\n",
       "    </tr>\n",
       "    <tr>\n",
       "      <th>38477</th>\n",
       "      <td>16000.0</td>\n",
       "      <td>60</td>\n",
       "      <td>14.96</td>\n",
       "      <td>250.77</td>\n",
       "      <td>10</td>\n",
       "      <td>MORTGAGE</td>\n",
       "      <td>95088.0</td>\n",
       "      <td>Verified</td>\n",
       "      <td>Fully Paid</td>\n",
       "      <td>debt_consolidation</td>\n",
       "      <td>2023-02-16</td>\n",
       "    </tr>\n",
       "    <tr>\n",
       "      <th>38478</th>\n",
       "      <td>10000.0</td>\n",
       "      <td>36</td>\n",
       "      <td>16.89</td>\n",
       "      <td>355.99</td>\n",
       "      <td>1</td>\n",
       "      <td>RENT</td>\n",
       "      <td>48720.0</td>\n",
       "      <td>Not Verified</td>\n",
       "      <td>Fully Paid</td>\n",
       "      <td>debt_consolidation</td>\n",
       "      <td>2023-09-15</td>\n",
       "    </tr>\n",
       "    <tr>\n",
       "      <th>38479</th>\n",
       "      <td>3200.0</td>\n",
       "      <td>36</td>\n",
       "      <td>13.49</td>\n",
       "      <td>108.58</td>\n",
       "      <td>7</td>\n",
       "      <td>RENT</td>\n",
       "      <td>38400.0</td>\n",
       "      <td>Verified</td>\n",
       "      <td>Fully Paid</td>\n",
       "      <td>debt_consolidation</td>\n",
       "      <td>2023-11-14</td>\n",
       "    </tr>\n",
       "  </tbody>\n",
       "</table>\n",
       "<p>37482 rows × 11 columns</p>\n",
       "</div>"
      ],
      "text/plain": [
       "       loan_amnt  term  int_rate  installment  emp_length home_ownership  \\\n",
       "0            0.0    36      0.00         0.00           0           RENT   \n",
       "1         2500.0    36     13.98        85.42           4           RENT   \n",
       "2         5000.0    36     15.95       175.67           4           RENT   \n",
       "3         7000.0    36      9.91       225.58          10       MORTGAGE   \n",
       "4         2000.0    36      5.42        60.32          10           RENT   \n",
       "...          ...   ...       ...          ...         ...            ...   \n",
       "38475     3000.0    36     11.99        99.63           3           RENT   \n",
       "38476    10400.0    36     13.49       352.88           9           RENT   \n",
       "38477    16000.0    60     14.96       250.77          10       MORTGAGE   \n",
       "38478    10000.0    36     16.89       355.99           1           RENT   \n",
       "38479     3200.0    36     13.49       108.58           7           RENT   \n",
       "\n",
       "       annual_inc verification_status  loan_status             purpose  \\\n",
       "0             0.0        Not Verified  Charged Off      major_purchase   \n",
       "1         20004.0        Not Verified   Fully Paid               other   \n",
       "2         59000.0        Not Verified  Charged Off  debt_consolidation   \n",
       "3         53796.0        Not Verified   Fully Paid               other   \n",
       "4         30000.0        Not Verified   Fully Paid  debt_consolidation   \n",
       "...           ...                 ...          ...                 ...   \n",
       "38475     74250.0            Verified   Fully Paid         credit_card   \n",
       "38476     62000.0            Verified   Fully Paid         credit_card   \n",
       "38477     95088.0            Verified   Fully Paid  debt_consolidation   \n",
       "38478     48720.0        Not Verified   Fully Paid  debt_consolidation   \n",
       "38479     38400.0            Verified   Fully Paid  debt_consolidation   \n",
       "\n",
       "      last_credit_pull_d  \n",
       "0             2023-01-07  \n",
       "1             2023-06-16  \n",
       "2             2023-03-12  \n",
       "3             2023-03-14  \n",
       "4             2023-06-16  \n",
       "...                  ...  \n",
       "38475         2023-06-16  \n",
       "38476         2023-06-16  \n",
       "38477         2023-02-16  \n",
       "38478         2023-09-15  \n",
       "38479         2023-11-14  \n",
       "\n",
       "[37482 rows x 11 columns]"
      ]
     },
     "execution_count": 98,
     "metadata": {},
     "output_type": "execute_result"
    }
   ],
   "source": []
  },
  {
   "cell_type": "code",
   "execution_count": 134,
   "id": "e0038060",
   "metadata": {},
   "outputs": [],
   "source": [
    "X = X.drop('last_credit_pull_d',axis=1)"
   ]
  },
  {
   "cell_type": "code",
   "execution_count": 162,
   "id": "67b49af5",
   "metadata": {},
   "outputs": [],
   "source": [
    "from sklearn.model_selection import train_test_split\n",
    "from sklearn.preprocessing import OneHotEncoder\n",
    "from sklearn.compose import make_column_transformer\n",
    "from sklearn.pipeline import make_pipeline\n",
    "from sklearn.tree import DecisionTreeClassifier\n",
    "from sklearn.metrics import accuracy_score\n",
    "from sklearn.metrics import classification_report\n",
    "from sklearn.linear_model import LogisticRegression"
   ]
  },
  {
   "cell_type": "code",
   "execution_count": 145,
   "id": "e5af3b1f",
   "metadata": {},
   "outputs": [
    {
     "data": {
      "text/html": [
       "<style>#sk-container-id-5 {color: black;background-color: white;}#sk-container-id-5 pre{padding: 0;}#sk-container-id-5 div.sk-toggleable {background-color: white;}#sk-container-id-5 label.sk-toggleable__label {cursor: pointer;display: block;width: 100%;margin-bottom: 0;padding: 0.3em;box-sizing: border-box;text-align: center;}#sk-container-id-5 label.sk-toggleable__label-arrow:before {content: \"▸\";float: left;margin-right: 0.25em;color: #696969;}#sk-container-id-5 label.sk-toggleable__label-arrow:hover:before {color: black;}#sk-container-id-5 div.sk-estimator:hover label.sk-toggleable__label-arrow:before {color: black;}#sk-container-id-5 div.sk-toggleable__content {max-height: 0;max-width: 0;overflow: hidden;text-align: left;background-color: #f0f8ff;}#sk-container-id-5 div.sk-toggleable__content pre {margin: 0.2em;color: black;border-radius: 0.25em;background-color: #f0f8ff;}#sk-container-id-5 input.sk-toggleable__control:checked~div.sk-toggleable__content {max-height: 200px;max-width: 100%;overflow: auto;}#sk-container-id-5 input.sk-toggleable__control:checked~label.sk-toggleable__label-arrow:before {content: \"▾\";}#sk-container-id-5 div.sk-estimator input.sk-toggleable__control:checked~label.sk-toggleable__label {background-color: #d4ebff;}#sk-container-id-5 div.sk-label input.sk-toggleable__control:checked~label.sk-toggleable__label {background-color: #d4ebff;}#sk-container-id-5 input.sk-hidden--visually {border: 0;clip: rect(1px 1px 1px 1px);clip: rect(1px, 1px, 1px, 1px);height: 1px;margin: -1px;overflow: hidden;padding: 0;position: absolute;width: 1px;}#sk-container-id-5 div.sk-estimator {font-family: monospace;background-color: #f0f8ff;border: 1px dotted black;border-radius: 0.25em;box-sizing: border-box;margin-bottom: 0.5em;}#sk-container-id-5 div.sk-estimator:hover {background-color: #d4ebff;}#sk-container-id-5 div.sk-parallel-item::after {content: \"\";width: 100%;border-bottom: 1px solid gray;flex-grow: 1;}#sk-container-id-5 div.sk-label:hover label.sk-toggleable__label {background-color: #d4ebff;}#sk-container-id-5 div.sk-serial::before {content: \"\";position: absolute;border-left: 1px solid gray;box-sizing: border-box;top: 0;bottom: 0;left: 50%;z-index: 0;}#sk-container-id-5 div.sk-serial {display: flex;flex-direction: column;align-items: center;background-color: white;padding-right: 0.2em;padding-left: 0.2em;position: relative;}#sk-container-id-5 div.sk-item {position: relative;z-index: 1;}#sk-container-id-5 div.sk-parallel {display: flex;align-items: stretch;justify-content: center;background-color: white;position: relative;}#sk-container-id-5 div.sk-item::before, #sk-container-id-5 div.sk-parallel-item::before {content: \"\";position: absolute;border-left: 1px solid gray;box-sizing: border-box;top: 0;bottom: 0;left: 50%;z-index: -1;}#sk-container-id-5 div.sk-parallel-item {display: flex;flex-direction: column;z-index: 1;position: relative;background-color: white;}#sk-container-id-5 div.sk-parallel-item:first-child::after {align-self: flex-end;width: 50%;}#sk-container-id-5 div.sk-parallel-item:last-child::after {align-self: flex-start;width: 50%;}#sk-container-id-5 div.sk-parallel-item:only-child::after {width: 0;}#sk-container-id-5 div.sk-dashed-wrapped {border: 1px dashed gray;margin: 0 0.4em 0.5em 0.4em;box-sizing: border-box;padding-bottom: 0.4em;background-color: white;}#sk-container-id-5 div.sk-label label {font-family: monospace;font-weight: bold;display: inline-block;line-height: 1.2em;}#sk-container-id-5 div.sk-label-container {text-align: center;}#sk-container-id-5 div.sk-container {/* jupyter's `normalize.less` sets `[hidden] { display: none; }` but bootstrap.min.css set `[hidden] { display: none !important; }` so we also need the `!important` here to be able to override the default hidden behavior on the sphinx rendered scikit-learn.org. See: https://github.com/scikit-learn/scikit-learn/issues/21755 */display: inline-block !important;position: relative;}#sk-container-id-5 div.sk-text-repr-fallback {display: none;}</style><div id=\"sk-container-id-5\" class=\"sk-top-container\"><div class=\"sk-text-repr-fallback\"><pre>OneHotEncoder()</pre><b>In a Jupyter environment, please rerun this cell to show the HTML representation or trust the notebook. <br />On GitHub, the HTML representation is unable to render, please try loading this page with nbviewer.org.</b></div><div class=\"sk-container\" hidden><div class=\"sk-item\"><div class=\"sk-estimator sk-toggleable\"><input class=\"sk-toggleable__control sk-hidden--visually\" id=\"sk-estimator-id-11\" type=\"checkbox\" checked><label for=\"sk-estimator-id-11\" class=\"sk-toggleable__label sk-toggleable__label-arrow\">OneHotEncoder</label><div class=\"sk-toggleable__content\"><pre>OneHotEncoder()</pre></div></div></div></div></div>"
      ],
      "text/plain": [
       "OneHotEncoder()"
      ]
     },
     "execution_count": 145,
     "metadata": {},
     "output_type": "execute_result"
    }
   ],
   "source": [
    "ohe = OneHotEncoder()\n",
    "ohe.fit(X[['home_ownership','verification_status','loan_status','purpose']])"
   ]
  },
  {
   "cell_type": "code",
   "execution_count": 146,
   "id": "104deeba",
   "metadata": {},
   "outputs": [],
   "source": [
    "#makinga column transformer\n",
    "column_trans = make_column_transformer((OneHotEncoder(categories=ohe.categories_),['home_ownership','verification_status','loan_status','purpose']),\n",
    "                                    remainder='passthrough')"
   ]
  },
  {
   "cell_type": "code",
   "execution_count": null,
   "id": "e4eb65c1",
   "metadata": {},
   "outputs": [],
   "source": []
  },
  {
   "cell_type": "code",
   "execution_count": 147,
   "id": "188bcede",
   "metadata": {},
   "outputs": [],
   "source": [
    "#Train-test split\n",
    "X_train,X_test,y_train,y_test = train_test_split(X,y,test_size=0.2,random_state=0)"
   ]
  },
  {
   "cell_type": "code",
   "execution_count": 148,
   "id": "2ec3617c",
   "metadata": {},
   "outputs": [],
   "source": [
    "dt = DecisionTreeClassifier()"
   ]
  },
  {
   "cell_type": "code",
   "execution_count": 149,
   "id": "71fd7528",
   "metadata": {},
   "outputs": [],
   "source": [
    "pipe = make_pipeline(column_trans,dt)"
   ]
  },
  {
   "cell_type": "code",
   "execution_count": 150,
   "id": "1a256db8",
   "metadata": {},
   "outputs": [
    {
     "data": {
      "text/html": [
       "<style>#sk-container-id-6 {color: black;background-color: white;}#sk-container-id-6 pre{padding: 0;}#sk-container-id-6 div.sk-toggleable {background-color: white;}#sk-container-id-6 label.sk-toggleable__label {cursor: pointer;display: block;width: 100%;margin-bottom: 0;padding: 0.3em;box-sizing: border-box;text-align: center;}#sk-container-id-6 label.sk-toggleable__label-arrow:before {content: \"▸\";float: left;margin-right: 0.25em;color: #696969;}#sk-container-id-6 label.sk-toggleable__label-arrow:hover:before {color: black;}#sk-container-id-6 div.sk-estimator:hover label.sk-toggleable__label-arrow:before {color: black;}#sk-container-id-6 div.sk-toggleable__content {max-height: 0;max-width: 0;overflow: hidden;text-align: left;background-color: #f0f8ff;}#sk-container-id-6 div.sk-toggleable__content pre {margin: 0.2em;color: black;border-radius: 0.25em;background-color: #f0f8ff;}#sk-container-id-6 input.sk-toggleable__control:checked~div.sk-toggleable__content {max-height: 200px;max-width: 100%;overflow: auto;}#sk-container-id-6 input.sk-toggleable__control:checked~label.sk-toggleable__label-arrow:before {content: \"▾\";}#sk-container-id-6 div.sk-estimator input.sk-toggleable__control:checked~label.sk-toggleable__label {background-color: #d4ebff;}#sk-container-id-6 div.sk-label input.sk-toggleable__control:checked~label.sk-toggleable__label {background-color: #d4ebff;}#sk-container-id-6 input.sk-hidden--visually {border: 0;clip: rect(1px 1px 1px 1px);clip: rect(1px, 1px, 1px, 1px);height: 1px;margin: -1px;overflow: hidden;padding: 0;position: absolute;width: 1px;}#sk-container-id-6 div.sk-estimator {font-family: monospace;background-color: #f0f8ff;border: 1px dotted black;border-radius: 0.25em;box-sizing: border-box;margin-bottom: 0.5em;}#sk-container-id-6 div.sk-estimator:hover {background-color: #d4ebff;}#sk-container-id-6 div.sk-parallel-item::after {content: \"\";width: 100%;border-bottom: 1px solid gray;flex-grow: 1;}#sk-container-id-6 div.sk-label:hover label.sk-toggleable__label {background-color: #d4ebff;}#sk-container-id-6 div.sk-serial::before {content: \"\";position: absolute;border-left: 1px solid gray;box-sizing: border-box;top: 0;bottom: 0;left: 50%;z-index: 0;}#sk-container-id-6 div.sk-serial {display: flex;flex-direction: column;align-items: center;background-color: white;padding-right: 0.2em;padding-left: 0.2em;position: relative;}#sk-container-id-6 div.sk-item {position: relative;z-index: 1;}#sk-container-id-6 div.sk-parallel {display: flex;align-items: stretch;justify-content: center;background-color: white;position: relative;}#sk-container-id-6 div.sk-item::before, #sk-container-id-6 div.sk-parallel-item::before {content: \"\";position: absolute;border-left: 1px solid gray;box-sizing: border-box;top: 0;bottom: 0;left: 50%;z-index: -1;}#sk-container-id-6 div.sk-parallel-item {display: flex;flex-direction: column;z-index: 1;position: relative;background-color: white;}#sk-container-id-6 div.sk-parallel-item:first-child::after {align-self: flex-end;width: 50%;}#sk-container-id-6 div.sk-parallel-item:last-child::after {align-self: flex-start;width: 50%;}#sk-container-id-6 div.sk-parallel-item:only-child::after {width: 0;}#sk-container-id-6 div.sk-dashed-wrapped {border: 1px dashed gray;margin: 0 0.4em 0.5em 0.4em;box-sizing: border-box;padding-bottom: 0.4em;background-color: white;}#sk-container-id-6 div.sk-label label {font-family: monospace;font-weight: bold;display: inline-block;line-height: 1.2em;}#sk-container-id-6 div.sk-label-container {text-align: center;}#sk-container-id-6 div.sk-container {/* jupyter's `normalize.less` sets `[hidden] { display: none; }` but bootstrap.min.css set `[hidden] { display: none !important; }` so we also need the `!important` here to be able to override the default hidden behavior on the sphinx rendered scikit-learn.org. See: https://github.com/scikit-learn/scikit-learn/issues/21755 */display: inline-block !important;position: relative;}#sk-container-id-6 div.sk-text-repr-fallback {display: none;}</style><div id=\"sk-container-id-6\" class=\"sk-top-container\"><div class=\"sk-text-repr-fallback\"><pre>Pipeline(steps=[(&#x27;columntransformer&#x27;,\n",
       "                 ColumnTransformer(remainder=&#x27;passthrough&#x27;,\n",
       "                                   transformers=[(&#x27;onehotencoder&#x27;,\n",
       "                                                  OneHotEncoder(categories=[array([&#x27;MORTGAGE&#x27;, &#x27;OTHER&#x27;, &#x27;OWN&#x27;, &#x27;RENT&#x27;], dtype=object),\n",
       "                                                                            array([&#x27;Not Verified&#x27;, &#x27;Verified&#x27;], dtype=object),\n",
       "                                                                            array([&#x27;Charged Off&#x27;, &#x27;Current&#x27;, &#x27;Default&#x27;, &#x27;Fully Paid&#x27;, &#x27;GradePeriod&#x27;,\n",
       "       &#x27;Late (16-30 days)&#x27;, &#x27;Late (31-120 days)&#x27;], dtype=object),\n",
       "                                                                            array([&#x27;car&#x27;, &#x27;credit_card&#x27;, &#x27;debt_consolidation&#x27;, &#x27;educational&#x27;,\n",
       "       &#x27;home_improvement&#x27;, &#x27;house&#x27;, &#x27;major_purchase&#x27;, &#x27;medical&#x27;, &#x27;moving&#x27;,\n",
       "       &#x27;other&#x27;, &#x27;renewable_energy&#x27;, &#x27;small_business&#x27;, &#x27;vacation&#x27;,\n",
       "       &#x27;wedding&#x27;], dtype=object)]),\n",
       "                                                  [&#x27;home_ownership&#x27;,\n",
       "                                                   &#x27;verification_status&#x27;,\n",
       "                                                   &#x27;loan_status&#x27;,\n",
       "                                                   &#x27;purpose&#x27;])])),\n",
       "                (&#x27;decisiontreeclassifier&#x27;, DecisionTreeClassifier())])</pre><b>In a Jupyter environment, please rerun this cell to show the HTML representation or trust the notebook. <br />On GitHub, the HTML representation is unable to render, please try loading this page with nbviewer.org.</b></div><div class=\"sk-container\" hidden><div class=\"sk-item sk-dashed-wrapped\"><div class=\"sk-label-container\"><div class=\"sk-label sk-toggleable\"><input class=\"sk-toggleable__control sk-hidden--visually\" id=\"sk-estimator-id-12\" type=\"checkbox\" ><label for=\"sk-estimator-id-12\" class=\"sk-toggleable__label sk-toggleable__label-arrow\">Pipeline</label><div class=\"sk-toggleable__content\"><pre>Pipeline(steps=[(&#x27;columntransformer&#x27;,\n",
       "                 ColumnTransformer(remainder=&#x27;passthrough&#x27;,\n",
       "                                   transformers=[(&#x27;onehotencoder&#x27;,\n",
       "                                                  OneHotEncoder(categories=[array([&#x27;MORTGAGE&#x27;, &#x27;OTHER&#x27;, &#x27;OWN&#x27;, &#x27;RENT&#x27;], dtype=object),\n",
       "                                                                            array([&#x27;Not Verified&#x27;, &#x27;Verified&#x27;], dtype=object),\n",
       "                                                                            array([&#x27;Charged Off&#x27;, &#x27;Current&#x27;, &#x27;Default&#x27;, &#x27;Fully Paid&#x27;, &#x27;GradePeriod&#x27;,\n",
       "       &#x27;Late (16-30 days)&#x27;, &#x27;Late (31-120 days)&#x27;], dtype=object),\n",
       "                                                                            array([&#x27;car&#x27;, &#x27;credit_card&#x27;, &#x27;debt_consolidation&#x27;, &#x27;educational&#x27;,\n",
       "       &#x27;home_improvement&#x27;, &#x27;house&#x27;, &#x27;major_purchase&#x27;, &#x27;medical&#x27;, &#x27;moving&#x27;,\n",
       "       &#x27;other&#x27;, &#x27;renewable_energy&#x27;, &#x27;small_business&#x27;, &#x27;vacation&#x27;,\n",
       "       &#x27;wedding&#x27;], dtype=object)]),\n",
       "                                                  [&#x27;home_ownership&#x27;,\n",
       "                                                   &#x27;verification_status&#x27;,\n",
       "                                                   &#x27;loan_status&#x27;,\n",
       "                                                   &#x27;purpose&#x27;])])),\n",
       "                (&#x27;decisiontreeclassifier&#x27;, DecisionTreeClassifier())])</pre></div></div></div><div class=\"sk-serial\"><div class=\"sk-item sk-dashed-wrapped\"><div class=\"sk-label-container\"><div class=\"sk-label sk-toggleable\"><input class=\"sk-toggleable__control sk-hidden--visually\" id=\"sk-estimator-id-13\" type=\"checkbox\" ><label for=\"sk-estimator-id-13\" class=\"sk-toggleable__label sk-toggleable__label-arrow\">columntransformer: ColumnTransformer</label><div class=\"sk-toggleable__content\"><pre>ColumnTransformer(remainder=&#x27;passthrough&#x27;,\n",
       "                  transformers=[(&#x27;onehotencoder&#x27;,\n",
       "                                 OneHotEncoder(categories=[array([&#x27;MORTGAGE&#x27;, &#x27;OTHER&#x27;, &#x27;OWN&#x27;, &#x27;RENT&#x27;], dtype=object),\n",
       "                                                           array([&#x27;Not Verified&#x27;, &#x27;Verified&#x27;], dtype=object),\n",
       "                                                           array([&#x27;Charged Off&#x27;, &#x27;Current&#x27;, &#x27;Default&#x27;, &#x27;Fully Paid&#x27;, &#x27;GradePeriod&#x27;,\n",
       "       &#x27;Late (16-30 days)&#x27;, &#x27;Late (31-120 days)&#x27;], dtype=object),\n",
       "                                                           array([&#x27;car&#x27;, &#x27;credit_card&#x27;, &#x27;debt_consolidation&#x27;, &#x27;educational&#x27;,\n",
       "       &#x27;home_improvement&#x27;, &#x27;house&#x27;, &#x27;major_purchase&#x27;, &#x27;medical&#x27;, &#x27;moving&#x27;,\n",
       "       &#x27;other&#x27;, &#x27;renewable_energy&#x27;, &#x27;small_business&#x27;, &#x27;vacation&#x27;,\n",
       "       &#x27;wedding&#x27;], dtype=object)]),\n",
       "                                 [&#x27;home_ownership&#x27;, &#x27;verification_status&#x27;,\n",
       "                                  &#x27;loan_status&#x27;, &#x27;purpose&#x27;])])</pre></div></div></div><div class=\"sk-parallel\"><div class=\"sk-parallel-item\"><div class=\"sk-item\"><div class=\"sk-label-container\"><div class=\"sk-label sk-toggleable\"><input class=\"sk-toggleable__control sk-hidden--visually\" id=\"sk-estimator-id-14\" type=\"checkbox\" ><label for=\"sk-estimator-id-14\" class=\"sk-toggleable__label sk-toggleable__label-arrow\">onehotencoder</label><div class=\"sk-toggleable__content\"><pre>[&#x27;home_ownership&#x27;, &#x27;verification_status&#x27;, &#x27;loan_status&#x27;, &#x27;purpose&#x27;]</pre></div></div></div><div class=\"sk-serial\"><div class=\"sk-item\"><div class=\"sk-estimator sk-toggleable\"><input class=\"sk-toggleable__control sk-hidden--visually\" id=\"sk-estimator-id-15\" type=\"checkbox\" ><label for=\"sk-estimator-id-15\" class=\"sk-toggleable__label sk-toggleable__label-arrow\">OneHotEncoder</label><div class=\"sk-toggleable__content\"><pre>OneHotEncoder(categories=[array([&#x27;MORTGAGE&#x27;, &#x27;OTHER&#x27;, &#x27;OWN&#x27;, &#x27;RENT&#x27;], dtype=object),\n",
       "                          array([&#x27;Not Verified&#x27;, &#x27;Verified&#x27;], dtype=object),\n",
       "                          array([&#x27;Charged Off&#x27;, &#x27;Current&#x27;, &#x27;Default&#x27;, &#x27;Fully Paid&#x27;, &#x27;GradePeriod&#x27;,\n",
       "       &#x27;Late (16-30 days)&#x27;, &#x27;Late (31-120 days)&#x27;], dtype=object),\n",
       "                          array([&#x27;car&#x27;, &#x27;credit_card&#x27;, &#x27;debt_consolidation&#x27;, &#x27;educational&#x27;,\n",
       "       &#x27;home_improvement&#x27;, &#x27;house&#x27;, &#x27;major_purchase&#x27;, &#x27;medical&#x27;, &#x27;moving&#x27;,\n",
       "       &#x27;other&#x27;, &#x27;renewable_energy&#x27;, &#x27;small_business&#x27;, &#x27;vacation&#x27;,\n",
       "       &#x27;wedding&#x27;], dtype=object)])</pre></div></div></div></div></div></div><div class=\"sk-parallel-item\"><div class=\"sk-item\"><div class=\"sk-label-container\"><div class=\"sk-label sk-toggleable\"><input class=\"sk-toggleable__control sk-hidden--visually\" id=\"sk-estimator-id-16\" type=\"checkbox\" ><label for=\"sk-estimator-id-16\" class=\"sk-toggleable__label sk-toggleable__label-arrow\">remainder</label><div class=\"sk-toggleable__content\"><pre>[&#x27;loan_amnt&#x27;, &#x27;term&#x27;, &#x27;int_rate&#x27;, &#x27;installment&#x27;, &#x27;emp_length&#x27;, &#x27;annual_inc&#x27;]</pre></div></div></div><div class=\"sk-serial\"><div class=\"sk-item\"><div class=\"sk-estimator sk-toggleable\"><input class=\"sk-toggleable__control sk-hidden--visually\" id=\"sk-estimator-id-17\" type=\"checkbox\" ><label for=\"sk-estimator-id-17\" class=\"sk-toggleable__label sk-toggleable__label-arrow\">passthrough</label><div class=\"sk-toggleable__content\"><pre>passthrough</pre></div></div></div></div></div></div></div></div><div class=\"sk-item\"><div class=\"sk-estimator sk-toggleable\"><input class=\"sk-toggleable__control sk-hidden--visually\" id=\"sk-estimator-id-18\" type=\"checkbox\" ><label for=\"sk-estimator-id-18\" class=\"sk-toggleable__label sk-toggleable__label-arrow\">DecisionTreeClassifier</label><div class=\"sk-toggleable__content\"><pre>DecisionTreeClassifier()</pre></div></div></div></div></div></div></div>"
      ],
      "text/plain": [
       "Pipeline(steps=[('columntransformer',\n",
       "                 ColumnTransformer(remainder='passthrough',\n",
       "                                   transformers=[('onehotencoder',\n",
       "                                                  OneHotEncoder(categories=[array(['MORTGAGE', 'OTHER', 'OWN', 'RENT'], dtype=object),\n",
       "                                                                            array(['Not Verified', 'Verified'], dtype=object),\n",
       "                                                                            array(['Charged Off', 'Current', 'Default', 'Fully Paid', 'GradePeriod',\n",
       "       'Late (16-30 days)', 'Late (31-120 days)'], dtype=object),\n",
       "                                                                            array(['car', 'credit_card', 'debt_consolidation', 'educational',\n",
       "       'home_improvement', 'house', 'major_purchase', 'medical', 'moving',\n",
       "       'other', 'renewable_energy', 'small_business', 'vacation',\n",
       "       'wedding'], dtype=object)]),\n",
       "                                                  ['home_ownership',\n",
       "                                                   'verification_status',\n",
       "                                                   'loan_status',\n",
       "                                                   'purpose'])])),\n",
       "                ('decisiontreeclassifier', DecisionTreeClassifier())])"
      ]
     },
     "execution_count": 150,
     "metadata": {},
     "output_type": "execute_result"
    }
   ],
   "source": [
    "pipe.fit(X_train,y_train)"
   ]
  },
  {
   "cell_type": "code",
   "execution_count": 151,
   "id": "ae6587aa",
   "metadata": {},
   "outputs": [],
   "source": [
    "y_pred = pipe.predict(X_train)"
   ]
  },
  {
   "cell_type": "code",
   "execution_count": 152,
   "id": "7d481f8c",
   "metadata": {},
   "outputs": [
    {
     "data": {
      "text/plain": [
       "array([0, 0, 1, ..., 0, 0, 0], dtype=int64)"
      ]
     },
     "execution_count": 152,
     "metadata": {},
     "output_type": "execute_result"
    }
   ],
   "source": [
    "y_pred"
   ]
  },
  {
   "cell_type": "code",
   "execution_count": 154,
   "id": "c1ae3696",
   "metadata": {},
   "outputs": [
    {
     "data": {
      "text/plain": [
       "1.0"
      ]
     },
     "execution_count": 154,
     "metadata": {},
     "output_type": "execute_result"
    }
   ],
   "source": [
    "accuracy_score(y_train,y_pred)"
   ]
  },
  {
   "cell_type": "code",
   "execution_count": 155,
   "id": "880cf336",
   "metadata": {},
   "outputs": [],
   "source": [
    "y_pred = pipe.predict(X_test)"
   ]
  },
  {
   "cell_type": "code",
   "execution_count": 156,
   "id": "10b65962",
   "metadata": {},
   "outputs": [
    {
     "data": {
      "text/plain": [
       "1.0"
      ]
     },
     "execution_count": 156,
     "metadata": {},
     "output_type": "execute_result"
    }
   ],
   "source": [
    "accuracy_score(y_test,y_pred)"
   ]
  },
  {
   "cell_type": "code",
   "execution_count": 161,
   "id": "dd746a86",
   "metadata": {},
   "outputs": [
    {
     "name": "stdout",
     "output_type": "stream",
     "text": [
      "              precision    recall  f1-score   support\n",
      "\n",
      "           0       1.00      1.00      1.00      6355\n",
      "           1       1.00      1.00      1.00      1142\n",
      "\n",
      "    accuracy                           1.00      7497\n",
      "   macro avg       1.00      1.00      1.00      7497\n",
      "weighted avg       1.00      1.00      1.00      7497\n",
      "\n"
     ]
    }
   ],
   "source": [
    "print(classification_report(y_test,y_pred))"
   ]
  },
  {
   "cell_type": "code",
   "execution_count": 163,
   "id": "694a0850",
   "metadata": {},
   "outputs": [],
   "source": [
    "lr = LogisticRegression()"
   ]
  },
  {
   "cell_type": "code",
   "execution_count": 164,
   "id": "9106188d",
   "metadata": {},
   "outputs": [],
   "source": [
    "pipe=make_pipeline(column_trans,lr)"
   ]
  },
  {
   "cell_type": "code",
   "execution_count": 166,
   "id": "b105c0c0",
   "metadata": {},
   "outputs": [
    {
     "name": "stderr",
     "output_type": "stream",
     "text": [
      "C:\\Users\\Arifa Mustafa\\anaconda3\\Lib\\site-packages\\sklearn\\linear_model\\_logistic.py:458: ConvergenceWarning: lbfgs failed to converge (status=1):\n",
      "STOP: TOTAL NO. of ITERATIONS REACHED LIMIT.\n",
      "\n",
      "Increase the number of iterations (max_iter) or scale the data as shown in:\n",
      "    https://scikit-learn.org/stable/modules/preprocessing.html\n",
      "Please also refer to the documentation for alternative solver options:\n",
      "    https://scikit-learn.org/stable/modules/linear_model.html#logistic-regression\n",
      "  n_iter_i = _check_optimize_result(\n"
     ]
    },
    {
     "data": {
      "text/html": [
       "<style>#sk-container-id-7 {color: black;background-color: white;}#sk-container-id-7 pre{padding: 0;}#sk-container-id-7 div.sk-toggleable {background-color: white;}#sk-container-id-7 label.sk-toggleable__label {cursor: pointer;display: block;width: 100%;margin-bottom: 0;padding: 0.3em;box-sizing: border-box;text-align: center;}#sk-container-id-7 label.sk-toggleable__label-arrow:before {content: \"▸\";float: left;margin-right: 0.25em;color: #696969;}#sk-container-id-7 label.sk-toggleable__label-arrow:hover:before {color: black;}#sk-container-id-7 div.sk-estimator:hover label.sk-toggleable__label-arrow:before {color: black;}#sk-container-id-7 div.sk-toggleable__content {max-height: 0;max-width: 0;overflow: hidden;text-align: left;background-color: #f0f8ff;}#sk-container-id-7 div.sk-toggleable__content pre {margin: 0.2em;color: black;border-radius: 0.25em;background-color: #f0f8ff;}#sk-container-id-7 input.sk-toggleable__control:checked~div.sk-toggleable__content {max-height: 200px;max-width: 100%;overflow: auto;}#sk-container-id-7 input.sk-toggleable__control:checked~label.sk-toggleable__label-arrow:before {content: \"▾\";}#sk-container-id-7 div.sk-estimator input.sk-toggleable__control:checked~label.sk-toggleable__label {background-color: #d4ebff;}#sk-container-id-7 div.sk-label input.sk-toggleable__control:checked~label.sk-toggleable__label {background-color: #d4ebff;}#sk-container-id-7 input.sk-hidden--visually {border: 0;clip: rect(1px 1px 1px 1px);clip: rect(1px, 1px, 1px, 1px);height: 1px;margin: -1px;overflow: hidden;padding: 0;position: absolute;width: 1px;}#sk-container-id-7 div.sk-estimator {font-family: monospace;background-color: #f0f8ff;border: 1px dotted black;border-radius: 0.25em;box-sizing: border-box;margin-bottom: 0.5em;}#sk-container-id-7 div.sk-estimator:hover {background-color: #d4ebff;}#sk-container-id-7 div.sk-parallel-item::after {content: \"\";width: 100%;border-bottom: 1px solid gray;flex-grow: 1;}#sk-container-id-7 div.sk-label:hover label.sk-toggleable__label {background-color: #d4ebff;}#sk-container-id-7 div.sk-serial::before {content: \"\";position: absolute;border-left: 1px solid gray;box-sizing: border-box;top: 0;bottom: 0;left: 50%;z-index: 0;}#sk-container-id-7 div.sk-serial {display: flex;flex-direction: column;align-items: center;background-color: white;padding-right: 0.2em;padding-left: 0.2em;position: relative;}#sk-container-id-7 div.sk-item {position: relative;z-index: 1;}#sk-container-id-7 div.sk-parallel {display: flex;align-items: stretch;justify-content: center;background-color: white;position: relative;}#sk-container-id-7 div.sk-item::before, #sk-container-id-7 div.sk-parallel-item::before {content: \"\";position: absolute;border-left: 1px solid gray;box-sizing: border-box;top: 0;bottom: 0;left: 50%;z-index: -1;}#sk-container-id-7 div.sk-parallel-item {display: flex;flex-direction: column;z-index: 1;position: relative;background-color: white;}#sk-container-id-7 div.sk-parallel-item:first-child::after {align-self: flex-end;width: 50%;}#sk-container-id-7 div.sk-parallel-item:last-child::after {align-self: flex-start;width: 50%;}#sk-container-id-7 div.sk-parallel-item:only-child::after {width: 0;}#sk-container-id-7 div.sk-dashed-wrapped {border: 1px dashed gray;margin: 0 0.4em 0.5em 0.4em;box-sizing: border-box;padding-bottom: 0.4em;background-color: white;}#sk-container-id-7 div.sk-label label {font-family: monospace;font-weight: bold;display: inline-block;line-height: 1.2em;}#sk-container-id-7 div.sk-label-container {text-align: center;}#sk-container-id-7 div.sk-container {/* jupyter's `normalize.less` sets `[hidden] { display: none; }` but bootstrap.min.css set `[hidden] { display: none !important; }` so we also need the `!important` here to be able to override the default hidden behavior on the sphinx rendered scikit-learn.org. See: https://github.com/scikit-learn/scikit-learn/issues/21755 */display: inline-block !important;position: relative;}#sk-container-id-7 div.sk-text-repr-fallback {display: none;}</style><div id=\"sk-container-id-7\" class=\"sk-top-container\"><div class=\"sk-text-repr-fallback\"><pre>Pipeline(steps=[(&#x27;columntransformer&#x27;,\n",
       "                 ColumnTransformer(remainder=&#x27;passthrough&#x27;,\n",
       "                                   transformers=[(&#x27;onehotencoder&#x27;,\n",
       "                                                  OneHotEncoder(categories=[array([&#x27;MORTGAGE&#x27;, &#x27;OTHER&#x27;, &#x27;OWN&#x27;, &#x27;RENT&#x27;], dtype=object),\n",
       "                                                                            array([&#x27;Not Verified&#x27;, &#x27;Verified&#x27;], dtype=object),\n",
       "                                                                            array([&#x27;Charged Off&#x27;, &#x27;Current&#x27;, &#x27;Default&#x27;, &#x27;Fully Paid&#x27;, &#x27;GradePeriod&#x27;,\n",
       "       &#x27;Late (16-30 days)&#x27;, &#x27;Late (31-120 days)&#x27;], dtype=object),\n",
       "                                                                            array([&#x27;car&#x27;, &#x27;credit_card&#x27;, &#x27;debt_consolidation&#x27;, &#x27;educational&#x27;,\n",
       "       &#x27;home_improvement&#x27;, &#x27;house&#x27;, &#x27;major_purchase&#x27;, &#x27;medical&#x27;, &#x27;moving&#x27;,\n",
       "       &#x27;other&#x27;, &#x27;renewable_energy&#x27;, &#x27;small_business&#x27;, &#x27;vacation&#x27;,\n",
       "       &#x27;wedding&#x27;], dtype=object)]),\n",
       "                                                  [&#x27;home_ownership&#x27;,\n",
       "                                                   &#x27;verification_status&#x27;,\n",
       "                                                   &#x27;loan_status&#x27;,\n",
       "                                                   &#x27;purpose&#x27;])])),\n",
       "                (&#x27;logisticregression&#x27;, LogisticRegression())])</pre><b>In a Jupyter environment, please rerun this cell to show the HTML representation or trust the notebook. <br />On GitHub, the HTML representation is unable to render, please try loading this page with nbviewer.org.</b></div><div class=\"sk-container\" hidden><div class=\"sk-item sk-dashed-wrapped\"><div class=\"sk-label-container\"><div class=\"sk-label sk-toggleable\"><input class=\"sk-toggleable__control sk-hidden--visually\" id=\"sk-estimator-id-19\" type=\"checkbox\" ><label for=\"sk-estimator-id-19\" class=\"sk-toggleable__label sk-toggleable__label-arrow\">Pipeline</label><div class=\"sk-toggleable__content\"><pre>Pipeline(steps=[(&#x27;columntransformer&#x27;,\n",
       "                 ColumnTransformer(remainder=&#x27;passthrough&#x27;,\n",
       "                                   transformers=[(&#x27;onehotencoder&#x27;,\n",
       "                                                  OneHotEncoder(categories=[array([&#x27;MORTGAGE&#x27;, &#x27;OTHER&#x27;, &#x27;OWN&#x27;, &#x27;RENT&#x27;], dtype=object),\n",
       "                                                                            array([&#x27;Not Verified&#x27;, &#x27;Verified&#x27;], dtype=object),\n",
       "                                                                            array([&#x27;Charged Off&#x27;, &#x27;Current&#x27;, &#x27;Default&#x27;, &#x27;Fully Paid&#x27;, &#x27;GradePeriod&#x27;,\n",
       "       &#x27;Late (16-30 days)&#x27;, &#x27;Late (31-120 days)&#x27;], dtype=object),\n",
       "                                                                            array([&#x27;car&#x27;, &#x27;credit_card&#x27;, &#x27;debt_consolidation&#x27;, &#x27;educational&#x27;,\n",
       "       &#x27;home_improvement&#x27;, &#x27;house&#x27;, &#x27;major_purchase&#x27;, &#x27;medical&#x27;, &#x27;moving&#x27;,\n",
       "       &#x27;other&#x27;, &#x27;renewable_energy&#x27;, &#x27;small_business&#x27;, &#x27;vacation&#x27;,\n",
       "       &#x27;wedding&#x27;], dtype=object)]),\n",
       "                                                  [&#x27;home_ownership&#x27;,\n",
       "                                                   &#x27;verification_status&#x27;,\n",
       "                                                   &#x27;loan_status&#x27;,\n",
       "                                                   &#x27;purpose&#x27;])])),\n",
       "                (&#x27;logisticregression&#x27;, LogisticRegression())])</pre></div></div></div><div class=\"sk-serial\"><div class=\"sk-item sk-dashed-wrapped\"><div class=\"sk-label-container\"><div class=\"sk-label sk-toggleable\"><input class=\"sk-toggleable__control sk-hidden--visually\" id=\"sk-estimator-id-20\" type=\"checkbox\" ><label for=\"sk-estimator-id-20\" class=\"sk-toggleable__label sk-toggleable__label-arrow\">columntransformer: ColumnTransformer</label><div class=\"sk-toggleable__content\"><pre>ColumnTransformer(remainder=&#x27;passthrough&#x27;,\n",
       "                  transformers=[(&#x27;onehotencoder&#x27;,\n",
       "                                 OneHotEncoder(categories=[array([&#x27;MORTGAGE&#x27;, &#x27;OTHER&#x27;, &#x27;OWN&#x27;, &#x27;RENT&#x27;], dtype=object),\n",
       "                                                           array([&#x27;Not Verified&#x27;, &#x27;Verified&#x27;], dtype=object),\n",
       "                                                           array([&#x27;Charged Off&#x27;, &#x27;Current&#x27;, &#x27;Default&#x27;, &#x27;Fully Paid&#x27;, &#x27;GradePeriod&#x27;,\n",
       "       &#x27;Late (16-30 days)&#x27;, &#x27;Late (31-120 days)&#x27;], dtype=object),\n",
       "                                                           array([&#x27;car&#x27;, &#x27;credit_card&#x27;, &#x27;debt_consolidation&#x27;, &#x27;educational&#x27;,\n",
       "       &#x27;home_improvement&#x27;, &#x27;house&#x27;, &#x27;major_purchase&#x27;, &#x27;medical&#x27;, &#x27;moving&#x27;,\n",
       "       &#x27;other&#x27;, &#x27;renewable_energy&#x27;, &#x27;small_business&#x27;, &#x27;vacation&#x27;,\n",
       "       &#x27;wedding&#x27;], dtype=object)]),\n",
       "                                 [&#x27;home_ownership&#x27;, &#x27;verification_status&#x27;,\n",
       "                                  &#x27;loan_status&#x27;, &#x27;purpose&#x27;])])</pre></div></div></div><div class=\"sk-parallel\"><div class=\"sk-parallel-item\"><div class=\"sk-item\"><div class=\"sk-label-container\"><div class=\"sk-label sk-toggleable\"><input class=\"sk-toggleable__control sk-hidden--visually\" id=\"sk-estimator-id-21\" type=\"checkbox\" ><label for=\"sk-estimator-id-21\" class=\"sk-toggleable__label sk-toggleable__label-arrow\">onehotencoder</label><div class=\"sk-toggleable__content\"><pre>[&#x27;home_ownership&#x27;, &#x27;verification_status&#x27;, &#x27;loan_status&#x27;, &#x27;purpose&#x27;]</pre></div></div></div><div class=\"sk-serial\"><div class=\"sk-item\"><div class=\"sk-estimator sk-toggleable\"><input class=\"sk-toggleable__control sk-hidden--visually\" id=\"sk-estimator-id-22\" type=\"checkbox\" ><label for=\"sk-estimator-id-22\" class=\"sk-toggleable__label sk-toggleable__label-arrow\">OneHotEncoder</label><div class=\"sk-toggleable__content\"><pre>OneHotEncoder(categories=[array([&#x27;MORTGAGE&#x27;, &#x27;OTHER&#x27;, &#x27;OWN&#x27;, &#x27;RENT&#x27;], dtype=object),\n",
       "                          array([&#x27;Not Verified&#x27;, &#x27;Verified&#x27;], dtype=object),\n",
       "                          array([&#x27;Charged Off&#x27;, &#x27;Current&#x27;, &#x27;Default&#x27;, &#x27;Fully Paid&#x27;, &#x27;GradePeriod&#x27;,\n",
       "       &#x27;Late (16-30 days)&#x27;, &#x27;Late (31-120 days)&#x27;], dtype=object),\n",
       "                          array([&#x27;car&#x27;, &#x27;credit_card&#x27;, &#x27;debt_consolidation&#x27;, &#x27;educational&#x27;,\n",
       "       &#x27;home_improvement&#x27;, &#x27;house&#x27;, &#x27;major_purchase&#x27;, &#x27;medical&#x27;, &#x27;moving&#x27;,\n",
       "       &#x27;other&#x27;, &#x27;renewable_energy&#x27;, &#x27;small_business&#x27;, &#x27;vacation&#x27;,\n",
       "       &#x27;wedding&#x27;], dtype=object)])</pre></div></div></div></div></div></div><div class=\"sk-parallel-item\"><div class=\"sk-item\"><div class=\"sk-label-container\"><div class=\"sk-label sk-toggleable\"><input class=\"sk-toggleable__control sk-hidden--visually\" id=\"sk-estimator-id-23\" type=\"checkbox\" ><label for=\"sk-estimator-id-23\" class=\"sk-toggleable__label sk-toggleable__label-arrow\">remainder</label><div class=\"sk-toggleable__content\"><pre>[&#x27;loan_amnt&#x27;, &#x27;term&#x27;, &#x27;int_rate&#x27;, &#x27;installment&#x27;, &#x27;emp_length&#x27;, &#x27;annual_inc&#x27;]</pre></div></div></div><div class=\"sk-serial\"><div class=\"sk-item\"><div class=\"sk-estimator sk-toggleable\"><input class=\"sk-toggleable__control sk-hidden--visually\" id=\"sk-estimator-id-24\" type=\"checkbox\" ><label for=\"sk-estimator-id-24\" class=\"sk-toggleable__label sk-toggleable__label-arrow\">passthrough</label><div class=\"sk-toggleable__content\"><pre>passthrough</pre></div></div></div></div></div></div></div></div><div class=\"sk-item\"><div class=\"sk-estimator sk-toggleable\"><input class=\"sk-toggleable__control sk-hidden--visually\" id=\"sk-estimator-id-25\" type=\"checkbox\" ><label for=\"sk-estimator-id-25\" class=\"sk-toggleable__label sk-toggleable__label-arrow\">LogisticRegression</label><div class=\"sk-toggleable__content\"><pre>LogisticRegression()</pre></div></div></div></div></div></div></div>"
      ],
      "text/plain": [
       "Pipeline(steps=[('columntransformer',\n",
       "                 ColumnTransformer(remainder='passthrough',\n",
       "                                   transformers=[('onehotencoder',\n",
       "                                                  OneHotEncoder(categories=[array(['MORTGAGE', 'OTHER', 'OWN', 'RENT'], dtype=object),\n",
       "                                                                            array(['Not Verified', 'Verified'], dtype=object),\n",
       "                                                                            array(['Charged Off', 'Current', 'Default', 'Fully Paid', 'GradePeriod',\n",
       "       'Late (16-30 days)', 'Late (31-120 days)'], dtype=object),\n",
       "                                                                            array(['car', 'credit_card', 'debt_consolidation', 'educational',\n",
       "       'home_improvement', 'house', 'major_purchase', 'medical', 'moving',\n",
       "       'other', 'renewable_energy', 'small_business', 'vacation',\n",
       "       'wedding'], dtype=object)]),\n",
       "                                                  ['home_ownership',\n",
       "                                                   'verification_status',\n",
       "                                                   'loan_status',\n",
       "                                                   'purpose'])])),\n",
       "                ('logisticregression', LogisticRegression())])"
      ]
     },
     "execution_count": 166,
     "metadata": {},
     "output_type": "execute_result"
    }
   ],
   "source": [
    "pipe.fit(X_train,y_train)"
   ]
  },
  {
   "cell_type": "code",
   "execution_count": 167,
   "id": "06dedbfa",
   "metadata": {},
   "outputs": [],
   "source": [
    "y_pred = pipe.predict(X_test)"
   ]
  },
  {
   "cell_type": "code",
   "execution_count": 168,
   "id": "ecc2fdeb",
   "metadata": {},
   "outputs": [
    {
     "data": {
      "text/plain": [
       "0.9650526877417633"
      ]
     },
     "execution_count": 168,
     "metadata": {},
     "output_type": "execute_result"
    }
   ],
   "source": [
    "accuracy_score(y_test,y_pred)"
   ]
  },
  {
   "cell_type": "code",
   "execution_count": 169,
   "id": "d402aa65",
   "metadata": {},
   "outputs": [
    {
     "name": "stdout",
     "output_type": "stream",
     "text": [
      "              precision    recall  f1-score   support\n",
      "\n",
      "           0       0.98      0.98      0.98      6355\n",
      "           1       0.87      0.90      0.89      1142\n",
      "\n",
      "    accuracy                           0.97      7497\n",
      "   macro avg       0.93      0.94      0.93      7497\n",
      "weighted avg       0.97      0.97      0.97      7497\n",
      "\n"
     ]
    }
   ],
   "source": [
    "print(classification_report(y_test,y_pred))"
   ]
  },
  {
   "cell_type": "markdown",
   "id": "b24c9095",
   "metadata": {},
   "source": [
    "## Data resampling for balancing the classes"
   ]
  },
  {
   "cell_type": "code",
   "execution_count": 170,
   "id": "f520b21b",
   "metadata": {},
   "outputs": [
    {
     "data": {
      "text/plain": [
       "0    31874\n",
       "1     5608\n",
       "Name: repay_fail, dtype: int64"
      ]
     },
     "execution_count": 170,
     "metadata": {},
     "output_type": "execute_result"
    }
   ],
   "source": [
    "df.repay_fail.value_counts()"
   ]
  },
  {
   "cell_type": "code",
   "execution_count": 175,
   "id": "72d86e83",
   "metadata": {},
   "outputs": [],
   "source": [
    "data0 = df[df.repay_fail==0].sample(6000)"
   ]
  },
  {
   "cell_type": "code",
   "execution_count": 178,
   "id": "8a4fa6c3",
   "metadata": {},
   "outputs": [],
   "source": [
    "data1 = df[df.repay_fail==1]"
   ]
  },
  {
   "cell_type": "code",
   "execution_count": 181,
   "id": "b88b1376",
   "metadata": {},
   "outputs": [],
   "source": [
    "df = pd.concat([data0,data1])"
   ]
  },
  {
   "cell_type": "code",
   "execution_count": 182,
   "id": "2fe0b6d1",
   "metadata": {},
   "outputs": [
    {
     "data": {
      "text/plain": [
       "0    6000\n",
       "1    5608\n",
       "Name: repay_fail, dtype: int64"
      ]
     },
     "execution_count": 182,
     "metadata": {},
     "output_type": "execute_result"
    }
   ],
   "source": [
    "df.repay_fail.value_counts()"
   ]
  },
  {
   "cell_type": "code",
   "execution_count": 192,
   "id": "1a33a3a0",
   "metadata": {},
   "outputs": [],
   "source": [
    "#Input data\n",
    "X = df.drop('repay_fail',axis=1)\n",
    "\n",
    "#Output labels\n",
    "y = df['repay_fail']"
   ]
  },
  {
   "cell_type": "code",
   "execution_count": 194,
   "id": "330f7797",
   "metadata": {},
   "outputs": [],
   "source": [
    "X = X.drop('last_credit_pull_d',axis=1)"
   ]
  },
  {
   "cell_type": "code",
   "execution_count": 197,
   "id": "167263d4",
   "metadata": {},
   "outputs": [
    {
     "data": {
      "text/plain": [
       "(11608, 10)"
      ]
     },
     "execution_count": 197,
     "metadata": {},
     "output_type": "execute_result"
    }
   ],
   "source": [
    "X.shape"
   ]
  },
  {
   "cell_type": "code",
   "execution_count": 198,
   "id": "2374b160",
   "metadata": {},
   "outputs": [
    {
     "data": {
      "text/plain": [
       "(11608,)"
      ]
     },
     "execution_count": 198,
     "metadata": {},
     "output_type": "execute_result"
    }
   ],
   "source": [
    "y.shape"
   ]
  },
  {
   "cell_type": "code",
   "execution_count": 199,
   "id": "f248fb95",
   "metadata": {},
   "outputs": [
    {
     "data": {
      "text/html": [
       "<style>#sk-container-id-9 {color: black;background-color: white;}#sk-container-id-9 pre{padding: 0;}#sk-container-id-9 div.sk-toggleable {background-color: white;}#sk-container-id-9 label.sk-toggleable__label {cursor: pointer;display: block;width: 100%;margin-bottom: 0;padding: 0.3em;box-sizing: border-box;text-align: center;}#sk-container-id-9 label.sk-toggleable__label-arrow:before {content: \"▸\";float: left;margin-right: 0.25em;color: #696969;}#sk-container-id-9 label.sk-toggleable__label-arrow:hover:before {color: black;}#sk-container-id-9 div.sk-estimator:hover label.sk-toggleable__label-arrow:before {color: black;}#sk-container-id-9 div.sk-toggleable__content {max-height: 0;max-width: 0;overflow: hidden;text-align: left;background-color: #f0f8ff;}#sk-container-id-9 div.sk-toggleable__content pre {margin: 0.2em;color: black;border-radius: 0.25em;background-color: #f0f8ff;}#sk-container-id-9 input.sk-toggleable__control:checked~div.sk-toggleable__content {max-height: 200px;max-width: 100%;overflow: auto;}#sk-container-id-9 input.sk-toggleable__control:checked~label.sk-toggleable__label-arrow:before {content: \"▾\";}#sk-container-id-9 div.sk-estimator input.sk-toggleable__control:checked~label.sk-toggleable__label {background-color: #d4ebff;}#sk-container-id-9 div.sk-label input.sk-toggleable__control:checked~label.sk-toggleable__label {background-color: #d4ebff;}#sk-container-id-9 input.sk-hidden--visually {border: 0;clip: rect(1px 1px 1px 1px);clip: rect(1px, 1px, 1px, 1px);height: 1px;margin: -1px;overflow: hidden;padding: 0;position: absolute;width: 1px;}#sk-container-id-9 div.sk-estimator {font-family: monospace;background-color: #f0f8ff;border: 1px dotted black;border-radius: 0.25em;box-sizing: border-box;margin-bottom: 0.5em;}#sk-container-id-9 div.sk-estimator:hover {background-color: #d4ebff;}#sk-container-id-9 div.sk-parallel-item::after {content: \"\";width: 100%;border-bottom: 1px solid gray;flex-grow: 1;}#sk-container-id-9 div.sk-label:hover label.sk-toggleable__label {background-color: #d4ebff;}#sk-container-id-9 div.sk-serial::before {content: \"\";position: absolute;border-left: 1px solid gray;box-sizing: border-box;top: 0;bottom: 0;left: 50%;z-index: 0;}#sk-container-id-9 div.sk-serial {display: flex;flex-direction: column;align-items: center;background-color: white;padding-right: 0.2em;padding-left: 0.2em;position: relative;}#sk-container-id-9 div.sk-item {position: relative;z-index: 1;}#sk-container-id-9 div.sk-parallel {display: flex;align-items: stretch;justify-content: center;background-color: white;position: relative;}#sk-container-id-9 div.sk-item::before, #sk-container-id-9 div.sk-parallel-item::before {content: \"\";position: absolute;border-left: 1px solid gray;box-sizing: border-box;top: 0;bottom: 0;left: 50%;z-index: -1;}#sk-container-id-9 div.sk-parallel-item {display: flex;flex-direction: column;z-index: 1;position: relative;background-color: white;}#sk-container-id-9 div.sk-parallel-item:first-child::after {align-self: flex-end;width: 50%;}#sk-container-id-9 div.sk-parallel-item:last-child::after {align-self: flex-start;width: 50%;}#sk-container-id-9 div.sk-parallel-item:only-child::after {width: 0;}#sk-container-id-9 div.sk-dashed-wrapped {border: 1px dashed gray;margin: 0 0.4em 0.5em 0.4em;box-sizing: border-box;padding-bottom: 0.4em;background-color: white;}#sk-container-id-9 div.sk-label label {font-family: monospace;font-weight: bold;display: inline-block;line-height: 1.2em;}#sk-container-id-9 div.sk-label-container {text-align: center;}#sk-container-id-9 div.sk-container {/* jupyter's `normalize.less` sets `[hidden] { display: none; }` but bootstrap.min.css set `[hidden] { display: none !important; }` so we also need the `!important` here to be able to override the default hidden behavior on the sphinx rendered scikit-learn.org. See: https://github.com/scikit-learn/scikit-learn/issues/21755 */display: inline-block !important;position: relative;}#sk-container-id-9 div.sk-text-repr-fallback {display: none;}</style><div id=\"sk-container-id-9\" class=\"sk-top-container\"><div class=\"sk-text-repr-fallback\"><pre>OneHotEncoder()</pre><b>In a Jupyter environment, please rerun this cell to show the HTML representation or trust the notebook. <br />On GitHub, the HTML representation is unable to render, please try loading this page with nbviewer.org.</b></div><div class=\"sk-container\" hidden><div class=\"sk-item\"><div class=\"sk-estimator sk-toggleable\"><input class=\"sk-toggleable__control sk-hidden--visually\" id=\"sk-estimator-id-33\" type=\"checkbox\" checked><label for=\"sk-estimator-id-33\" class=\"sk-toggleable__label sk-toggleable__label-arrow\">OneHotEncoder</label><div class=\"sk-toggleable__content\"><pre>OneHotEncoder()</pre></div></div></div></div></div>"
      ],
      "text/plain": [
       "OneHotEncoder()"
      ]
     },
     "execution_count": 199,
     "metadata": {},
     "output_type": "execute_result"
    }
   ],
   "source": [
    "ohe = OneHotEncoder()\n",
    "ohe.fit(X[['home_ownership','verification_status','loan_status','purpose']])"
   ]
  },
  {
   "cell_type": "code",
   "execution_count": 200,
   "id": "c03e51b9",
   "metadata": {},
   "outputs": [],
   "source": [
    "#makinga column transformer\n",
    "column_trans = make_column_transformer((OneHotEncoder(categories=ohe.categories_),['home_ownership','verification_status','loan_status','purpose']),\n",
    "                                    remainder='passthrough')"
   ]
  },
  {
   "cell_type": "code",
   "execution_count": 201,
   "id": "3c72d0e7",
   "metadata": {},
   "outputs": [],
   "source": [
    "#Train-test split\n",
    "X_train,X_test,y_train,y_test = train_test_split(X,y,test_size=0.2,random_state=0)"
   ]
  },
  {
   "cell_type": "code",
   "execution_count": 202,
   "id": "0de581e4",
   "metadata": {},
   "outputs": [],
   "source": [
    "lr = LogisticRegression()"
   ]
  },
  {
   "cell_type": "code",
   "execution_count": 203,
   "id": "365c659f",
   "metadata": {},
   "outputs": [],
   "source": [
    "pipe = make_pipeline(column_trans,lr)"
   ]
  },
  {
   "cell_type": "code",
   "execution_count": 204,
   "id": "aa3a23f0",
   "metadata": {},
   "outputs": [
    {
     "name": "stderr",
     "output_type": "stream",
     "text": [
      "C:\\Users\\Arifa Mustafa\\anaconda3\\Lib\\site-packages\\sklearn\\linear_model\\_logistic.py:458: ConvergenceWarning: lbfgs failed to converge (status=1):\n",
      "STOP: TOTAL NO. of ITERATIONS REACHED LIMIT.\n",
      "\n",
      "Increase the number of iterations (max_iter) or scale the data as shown in:\n",
      "    https://scikit-learn.org/stable/modules/preprocessing.html\n",
      "Please also refer to the documentation for alternative solver options:\n",
      "    https://scikit-learn.org/stable/modules/linear_model.html#logistic-regression\n",
      "  n_iter_i = _check_optimize_result(\n"
     ]
    },
    {
     "data": {
      "text/html": [
       "<style>#sk-container-id-10 {color: black;background-color: white;}#sk-container-id-10 pre{padding: 0;}#sk-container-id-10 div.sk-toggleable {background-color: white;}#sk-container-id-10 label.sk-toggleable__label {cursor: pointer;display: block;width: 100%;margin-bottom: 0;padding: 0.3em;box-sizing: border-box;text-align: center;}#sk-container-id-10 label.sk-toggleable__label-arrow:before {content: \"▸\";float: left;margin-right: 0.25em;color: #696969;}#sk-container-id-10 label.sk-toggleable__label-arrow:hover:before {color: black;}#sk-container-id-10 div.sk-estimator:hover label.sk-toggleable__label-arrow:before {color: black;}#sk-container-id-10 div.sk-toggleable__content {max-height: 0;max-width: 0;overflow: hidden;text-align: left;background-color: #f0f8ff;}#sk-container-id-10 div.sk-toggleable__content pre {margin: 0.2em;color: black;border-radius: 0.25em;background-color: #f0f8ff;}#sk-container-id-10 input.sk-toggleable__control:checked~div.sk-toggleable__content {max-height: 200px;max-width: 100%;overflow: auto;}#sk-container-id-10 input.sk-toggleable__control:checked~label.sk-toggleable__label-arrow:before {content: \"▾\";}#sk-container-id-10 div.sk-estimator input.sk-toggleable__control:checked~label.sk-toggleable__label {background-color: #d4ebff;}#sk-container-id-10 div.sk-label input.sk-toggleable__control:checked~label.sk-toggleable__label {background-color: #d4ebff;}#sk-container-id-10 input.sk-hidden--visually {border: 0;clip: rect(1px 1px 1px 1px);clip: rect(1px, 1px, 1px, 1px);height: 1px;margin: -1px;overflow: hidden;padding: 0;position: absolute;width: 1px;}#sk-container-id-10 div.sk-estimator {font-family: monospace;background-color: #f0f8ff;border: 1px dotted black;border-radius: 0.25em;box-sizing: border-box;margin-bottom: 0.5em;}#sk-container-id-10 div.sk-estimator:hover {background-color: #d4ebff;}#sk-container-id-10 div.sk-parallel-item::after {content: \"\";width: 100%;border-bottom: 1px solid gray;flex-grow: 1;}#sk-container-id-10 div.sk-label:hover label.sk-toggleable__label {background-color: #d4ebff;}#sk-container-id-10 div.sk-serial::before {content: \"\";position: absolute;border-left: 1px solid gray;box-sizing: border-box;top: 0;bottom: 0;left: 50%;z-index: 0;}#sk-container-id-10 div.sk-serial {display: flex;flex-direction: column;align-items: center;background-color: white;padding-right: 0.2em;padding-left: 0.2em;position: relative;}#sk-container-id-10 div.sk-item {position: relative;z-index: 1;}#sk-container-id-10 div.sk-parallel {display: flex;align-items: stretch;justify-content: center;background-color: white;position: relative;}#sk-container-id-10 div.sk-item::before, #sk-container-id-10 div.sk-parallel-item::before {content: \"\";position: absolute;border-left: 1px solid gray;box-sizing: border-box;top: 0;bottom: 0;left: 50%;z-index: -1;}#sk-container-id-10 div.sk-parallel-item {display: flex;flex-direction: column;z-index: 1;position: relative;background-color: white;}#sk-container-id-10 div.sk-parallel-item:first-child::after {align-self: flex-end;width: 50%;}#sk-container-id-10 div.sk-parallel-item:last-child::after {align-self: flex-start;width: 50%;}#sk-container-id-10 div.sk-parallel-item:only-child::after {width: 0;}#sk-container-id-10 div.sk-dashed-wrapped {border: 1px dashed gray;margin: 0 0.4em 0.5em 0.4em;box-sizing: border-box;padding-bottom: 0.4em;background-color: white;}#sk-container-id-10 div.sk-label label {font-family: monospace;font-weight: bold;display: inline-block;line-height: 1.2em;}#sk-container-id-10 div.sk-label-container {text-align: center;}#sk-container-id-10 div.sk-container {/* jupyter's `normalize.less` sets `[hidden] { display: none; }` but bootstrap.min.css set `[hidden] { display: none !important; }` so we also need the `!important` here to be able to override the default hidden behavior on the sphinx rendered scikit-learn.org. See: https://github.com/scikit-learn/scikit-learn/issues/21755 */display: inline-block !important;position: relative;}#sk-container-id-10 div.sk-text-repr-fallback {display: none;}</style><div id=\"sk-container-id-10\" class=\"sk-top-container\"><div class=\"sk-text-repr-fallback\"><pre>Pipeline(steps=[(&#x27;columntransformer&#x27;,\n",
       "                 ColumnTransformer(remainder=&#x27;passthrough&#x27;,\n",
       "                                   transformers=[(&#x27;onehotencoder&#x27;,\n",
       "                                                  OneHotEncoder(categories=[array([&#x27;MORTGAGE&#x27;, &#x27;OTHER&#x27;, &#x27;OWN&#x27;, &#x27;RENT&#x27;], dtype=object),\n",
       "                                                                            array([&#x27;Not Verified&#x27;, &#x27;Verified&#x27;], dtype=object),\n",
       "                                                                            array([&#x27;Charged Off&#x27;, &#x27;Current&#x27;, &#x27;Default&#x27;, &#x27;Fully Paid&#x27;, &#x27;GradePeriod&#x27;,\n",
       "       &#x27;Late (16-30 days)&#x27;, &#x27;Late (31-120 days)&#x27;], dtype=object),\n",
       "                                                                            array([&#x27;car&#x27;, &#x27;credit_card&#x27;, &#x27;debt_consolidation&#x27;, &#x27;educational&#x27;,\n",
       "       &#x27;home_improvement&#x27;, &#x27;house&#x27;, &#x27;major_purchase&#x27;, &#x27;medical&#x27;, &#x27;moving&#x27;,\n",
       "       &#x27;other&#x27;, &#x27;renewable_energy&#x27;, &#x27;small_business&#x27;, &#x27;vacation&#x27;,\n",
       "       &#x27;wedding&#x27;], dtype=object)]),\n",
       "                                                  [&#x27;home_ownership&#x27;,\n",
       "                                                   &#x27;verification_status&#x27;,\n",
       "                                                   &#x27;loan_status&#x27;,\n",
       "                                                   &#x27;purpose&#x27;])])),\n",
       "                (&#x27;logisticregression&#x27;, LogisticRegression())])</pre><b>In a Jupyter environment, please rerun this cell to show the HTML representation or trust the notebook. <br />On GitHub, the HTML representation is unable to render, please try loading this page with nbviewer.org.</b></div><div class=\"sk-container\" hidden><div class=\"sk-item sk-dashed-wrapped\"><div class=\"sk-label-container\"><div class=\"sk-label sk-toggleable\"><input class=\"sk-toggleable__control sk-hidden--visually\" id=\"sk-estimator-id-34\" type=\"checkbox\" ><label for=\"sk-estimator-id-34\" class=\"sk-toggleable__label sk-toggleable__label-arrow\">Pipeline</label><div class=\"sk-toggleable__content\"><pre>Pipeline(steps=[(&#x27;columntransformer&#x27;,\n",
       "                 ColumnTransformer(remainder=&#x27;passthrough&#x27;,\n",
       "                                   transformers=[(&#x27;onehotencoder&#x27;,\n",
       "                                                  OneHotEncoder(categories=[array([&#x27;MORTGAGE&#x27;, &#x27;OTHER&#x27;, &#x27;OWN&#x27;, &#x27;RENT&#x27;], dtype=object),\n",
       "                                                                            array([&#x27;Not Verified&#x27;, &#x27;Verified&#x27;], dtype=object),\n",
       "                                                                            array([&#x27;Charged Off&#x27;, &#x27;Current&#x27;, &#x27;Default&#x27;, &#x27;Fully Paid&#x27;, &#x27;GradePeriod&#x27;,\n",
       "       &#x27;Late (16-30 days)&#x27;, &#x27;Late (31-120 days)&#x27;], dtype=object),\n",
       "                                                                            array([&#x27;car&#x27;, &#x27;credit_card&#x27;, &#x27;debt_consolidation&#x27;, &#x27;educational&#x27;,\n",
       "       &#x27;home_improvement&#x27;, &#x27;house&#x27;, &#x27;major_purchase&#x27;, &#x27;medical&#x27;, &#x27;moving&#x27;,\n",
       "       &#x27;other&#x27;, &#x27;renewable_energy&#x27;, &#x27;small_business&#x27;, &#x27;vacation&#x27;,\n",
       "       &#x27;wedding&#x27;], dtype=object)]),\n",
       "                                                  [&#x27;home_ownership&#x27;,\n",
       "                                                   &#x27;verification_status&#x27;,\n",
       "                                                   &#x27;loan_status&#x27;,\n",
       "                                                   &#x27;purpose&#x27;])])),\n",
       "                (&#x27;logisticregression&#x27;, LogisticRegression())])</pre></div></div></div><div class=\"sk-serial\"><div class=\"sk-item sk-dashed-wrapped\"><div class=\"sk-label-container\"><div class=\"sk-label sk-toggleable\"><input class=\"sk-toggleable__control sk-hidden--visually\" id=\"sk-estimator-id-35\" type=\"checkbox\" ><label for=\"sk-estimator-id-35\" class=\"sk-toggleable__label sk-toggleable__label-arrow\">columntransformer: ColumnTransformer</label><div class=\"sk-toggleable__content\"><pre>ColumnTransformer(remainder=&#x27;passthrough&#x27;,\n",
       "                  transformers=[(&#x27;onehotencoder&#x27;,\n",
       "                                 OneHotEncoder(categories=[array([&#x27;MORTGAGE&#x27;, &#x27;OTHER&#x27;, &#x27;OWN&#x27;, &#x27;RENT&#x27;], dtype=object),\n",
       "                                                           array([&#x27;Not Verified&#x27;, &#x27;Verified&#x27;], dtype=object),\n",
       "                                                           array([&#x27;Charged Off&#x27;, &#x27;Current&#x27;, &#x27;Default&#x27;, &#x27;Fully Paid&#x27;, &#x27;GradePeriod&#x27;,\n",
       "       &#x27;Late (16-30 days)&#x27;, &#x27;Late (31-120 days)&#x27;], dtype=object),\n",
       "                                                           array([&#x27;car&#x27;, &#x27;credit_card&#x27;, &#x27;debt_consolidation&#x27;, &#x27;educational&#x27;,\n",
       "       &#x27;home_improvement&#x27;, &#x27;house&#x27;, &#x27;major_purchase&#x27;, &#x27;medical&#x27;, &#x27;moving&#x27;,\n",
       "       &#x27;other&#x27;, &#x27;renewable_energy&#x27;, &#x27;small_business&#x27;, &#x27;vacation&#x27;,\n",
       "       &#x27;wedding&#x27;], dtype=object)]),\n",
       "                                 [&#x27;home_ownership&#x27;, &#x27;verification_status&#x27;,\n",
       "                                  &#x27;loan_status&#x27;, &#x27;purpose&#x27;])])</pre></div></div></div><div class=\"sk-parallel\"><div class=\"sk-parallel-item\"><div class=\"sk-item\"><div class=\"sk-label-container\"><div class=\"sk-label sk-toggleable\"><input class=\"sk-toggleable__control sk-hidden--visually\" id=\"sk-estimator-id-36\" type=\"checkbox\" ><label for=\"sk-estimator-id-36\" class=\"sk-toggleable__label sk-toggleable__label-arrow\">onehotencoder</label><div class=\"sk-toggleable__content\"><pre>[&#x27;home_ownership&#x27;, &#x27;verification_status&#x27;, &#x27;loan_status&#x27;, &#x27;purpose&#x27;]</pre></div></div></div><div class=\"sk-serial\"><div class=\"sk-item\"><div class=\"sk-estimator sk-toggleable\"><input class=\"sk-toggleable__control sk-hidden--visually\" id=\"sk-estimator-id-37\" type=\"checkbox\" ><label for=\"sk-estimator-id-37\" class=\"sk-toggleable__label sk-toggleable__label-arrow\">OneHotEncoder</label><div class=\"sk-toggleable__content\"><pre>OneHotEncoder(categories=[array([&#x27;MORTGAGE&#x27;, &#x27;OTHER&#x27;, &#x27;OWN&#x27;, &#x27;RENT&#x27;], dtype=object),\n",
       "                          array([&#x27;Not Verified&#x27;, &#x27;Verified&#x27;], dtype=object),\n",
       "                          array([&#x27;Charged Off&#x27;, &#x27;Current&#x27;, &#x27;Default&#x27;, &#x27;Fully Paid&#x27;, &#x27;GradePeriod&#x27;,\n",
       "       &#x27;Late (16-30 days)&#x27;, &#x27;Late (31-120 days)&#x27;], dtype=object),\n",
       "                          array([&#x27;car&#x27;, &#x27;credit_card&#x27;, &#x27;debt_consolidation&#x27;, &#x27;educational&#x27;,\n",
       "       &#x27;home_improvement&#x27;, &#x27;house&#x27;, &#x27;major_purchase&#x27;, &#x27;medical&#x27;, &#x27;moving&#x27;,\n",
       "       &#x27;other&#x27;, &#x27;renewable_energy&#x27;, &#x27;small_business&#x27;, &#x27;vacation&#x27;,\n",
       "       &#x27;wedding&#x27;], dtype=object)])</pre></div></div></div></div></div></div><div class=\"sk-parallel-item\"><div class=\"sk-item\"><div class=\"sk-label-container\"><div class=\"sk-label sk-toggleable\"><input class=\"sk-toggleable__control sk-hidden--visually\" id=\"sk-estimator-id-38\" type=\"checkbox\" ><label for=\"sk-estimator-id-38\" class=\"sk-toggleable__label sk-toggleable__label-arrow\">remainder</label><div class=\"sk-toggleable__content\"><pre>[&#x27;loan_amnt&#x27;, &#x27;term&#x27;, &#x27;int_rate&#x27;, &#x27;installment&#x27;, &#x27;emp_length&#x27;, &#x27;annual_inc&#x27;]</pre></div></div></div><div class=\"sk-serial\"><div class=\"sk-item\"><div class=\"sk-estimator sk-toggleable\"><input class=\"sk-toggleable__control sk-hidden--visually\" id=\"sk-estimator-id-39\" type=\"checkbox\" ><label for=\"sk-estimator-id-39\" class=\"sk-toggleable__label sk-toggleable__label-arrow\">passthrough</label><div class=\"sk-toggleable__content\"><pre>passthrough</pre></div></div></div></div></div></div></div></div><div class=\"sk-item\"><div class=\"sk-estimator sk-toggleable\"><input class=\"sk-toggleable__control sk-hidden--visually\" id=\"sk-estimator-id-40\" type=\"checkbox\" ><label for=\"sk-estimator-id-40\" class=\"sk-toggleable__label sk-toggleable__label-arrow\">LogisticRegression</label><div class=\"sk-toggleable__content\"><pre>LogisticRegression()</pre></div></div></div></div></div></div></div>"
      ],
      "text/plain": [
       "Pipeline(steps=[('columntransformer',\n",
       "                 ColumnTransformer(remainder='passthrough',\n",
       "                                   transformers=[('onehotencoder',\n",
       "                                                  OneHotEncoder(categories=[array(['MORTGAGE', 'OTHER', 'OWN', 'RENT'], dtype=object),\n",
       "                                                                            array(['Not Verified', 'Verified'], dtype=object),\n",
       "                                                                            array(['Charged Off', 'Current', 'Default', 'Fully Paid', 'GradePeriod',\n",
       "       'Late (16-30 days)', 'Late (31-120 days)'], dtype=object),\n",
       "                                                                            array(['car', 'credit_card', 'debt_consolidation', 'educational',\n",
       "       'home_improvement', 'house', 'major_purchase', 'medical', 'moving',\n",
       "       'other', 'renewable_energy', 'small_business', 'vacation',\n",
       "       'wedding'], dtype=object)]),\n",
       "                                                  ['home_ownership',\n",
       "                                                   'verification_status',\n",
       "                                                   'loan_status',\n",
       "                                                   'purpose'])])),\n",
       "                ('logisticregression', LogisticRegression())])"
      ]
     },
     "execution_count": 204,
     "metadata": {},
     "output_type": "execute_result"
    }
   ],
   "source": [
    "pipe.fit(X_train,y_train)"
   ]
  },
  {
   "cell_type": "code",
   "execution_count": 206,
   "id": "e242727a",
   "metadata": {},
   "outputs": [],
   "source": [
    "y_pred = pipe.predict(X_test)"
   ]
  },
  {
   "cell_type": "code",
   "execution_count": 207,
   "id": "549db5e4",
   "metadata": {},
   "outputs": [
    {
     "data": {
      "text/plain": [
       "0.7304048234280792"
      ]
     },
     "execution_count": 207,
     "metadata": {},
     "output_type": "execute_result"
    }
   ],
   "source": [
    "accuracy_score(y_test,y_pred)"
   ]
  },
  {
   "cell_type": "code",
   "execution_count": 208,
   "id": "3369a28d",
   "metadata": {},
   "outputs": [
    {
     "name": "stdout",
     "output_type": "stream",
     "text": [
      "              precision    recall  f1-score   support\n",
      "\n",
      "           0       0.71      0.79      0.75      1183\n",
      "           1       0.76      0.67      0.71      1139\n",
      "\n",
      "    accuracy                           0.73      2322\n",
      "   macro avg       0.73      0.73      0.73      2322\n",
      "weighted avg       0.73      0.73      0.73      2322\n",
      "\n"
     ]
    }
   ],
   "source": [
    "print(classification_report(y_test,y_pred))"
   ]
  },
  {
   "cell_type": "code",
   "execution_count": null,
   "id": "8a35f72c",
   "metadata": {},
   "outputs": [],
   "source": []
  }
 ],
 "metadata": {
  "kernelspec": {
   "display_name": "Python 3 (ipykernel)",
   "language": "python",
   "name": "python3"
  },
  "language_info": {
   "codemirror_mode": {
    "name": "ipython",
    "version": 3
   },
   "file_extension": ".py",
   "mimetype": "text/x-python",
   "name": "python",
   "nbconvert_exporter": "python",
   "pygments_lexer": "ipython3",
   "version": "3.11.3"
  }
 },
 "nbformat": 4,
 "nbformat_minor": 5
}
